{
 "cells": [
  {
   "cell_type": "markdown",
   "id": "0ac65252",
   "metadata": {},
   "source": [
    "---"
   ]
  },
  {
   "cell_type": "code",
   "execution_count": 524,
   "id": "0cbb9ce9",
   "metadata": {},
   "outputs": [],
   "source": [
    "import numpy as np\n",
    "import uuid"
   ]
  },
  {
   "cell_type": "code",
   "execution_count": 794,
   "id": "94d0ea75",
   "metadata": {},
   "outputs": [],
   "source": [
    "class V:\n",
    "    def __init__(self, data, ctx=None):\n",
    "        self.data = data\n",
    "        self.ctx = ctx\n",
    "        uid = uuid.uuid4()\n",
    "        if ctx is not None:\n",
    "            self.id = f'{ctx.parent.__name__}({uid})'\n",
    "        else:\n",
    "            self.id = f'var({uid})'\n",
    "            \n",
    "    def assign(self, new_v):\n",
    "        self.data = new_v.data\n",
    "\n",
    "    def backward(self, d=1):\n",
    "        if self.ctx is None:\n",
    "            return Backward({self.id: d})\n",
    "\n",
    "        inputs_ids = [i.id for i in self.ctx.inputs]\n",
    "        raw_d = self.ctx.parent.backward(self.ctx, d)\n",
    "        if type(raw_d) is not tuple and type(raw_d) is not list:\n",
    "            raw_d = [raw_d]\n",
    "\n",
    "        out = Backward(dict(zip(inputs_ids, raw_d), **{self.id: d}))\n",
    "        for inp, inp_d in zip(self.ctx.inputs, raw_d):\n",
    "            internal_backward = inp.backward(inp_d)\n",
    "            del internal_backward.backward_dict[inp.id]\n",
    "            out.extend_with(internal_backward)\n",
    "\n",
    "        return out\n",
    "        \n",
    "    def __repr__(self):\n",
    "        def recur(depth, v):\n",
    "            indent = ' ' * depth\n",
    "            if v.ctx is not None:\n",
    "                parent_name = v.ctx.parent.__name__\n",
    "                inputs = tuple(i.data for i in v.ctx.inputs)\n",
    "                out = f'{indent}{v.data} = {parent_name}{inputs}\\n'\n",
    "                for c in v.ctx.inputs:\n",
    "                    out += recur(depth + 2, c)\n",
    "            else:\n",
    "                out = f'{indent}var({v.data})\\n'\n",
    "            return out\n",
    "        return recur(0, self)"
   ]
  },
  {
   "cell_type": "code",
   "execution_count": 795,
   "id": "0b8d8d13",
   "metadata": {},
   "outputs": [],
   "source": [
    "class Op:\n",
    "    @classmethod\n",
    "    def apply(cls, *inputs):\n",
    "        raw_inputs = [i.data for i in inputs]\n",
    "        raw_outputs = cls.forward(*raw_inputs)\n",
    "        return V(raw_outputs, ctx=Ctx(parent=cls, inputs=inputs))"
   ]
  },
  {
   "cell_type": "code",
   "execution_count": 813,
   "id": "06d6678b",
   "metadata": {},
   "outputs": [],
   "source": [
    "class Backward:\n",
    "    def __init__(self, backward_dict={}):\n",
    "        self.backward_dict = backward_dict\n",
    "        \n",
    "    def __repr__(self):\n",
    "        return f'Backward({self.backward_dict})'\n",
    "\n",
    "    def extend_with(self, other_backward: Backward):\n",
    "        for idx, value in other_backward.backward_dict.items():\n",
    "            if idx in self.backward_dict:\n",
    "                self.backward_dict[idx] += value\n",
    "            else:\n",
    "                self.backward_dict[idx] = value\n",
    "\n",
    "    def wrt(self, *vs: V):\n",
    "        result = []\n",
    "        for v in vs:\n",
    "            if v.id in self.backward_dict:\n",
    "                result.append(V(self.backward_dict[v.id]))\n",
    "            else:\n",
    "                raise ValueError(f'var({v.id}) is not part of the computation')\n",
    "        return result"
   ]
  },
  {
   "cell_type": "code",
   "execution_count": 814,
   "id": "37d7fcad",
   "metadata": {},
   "outputs": [],
   "source": [
    "class Ctx:\n",
    "    def __init__(self, parent, inputs):\n",
    "        self.parent = parent\n",
    "        self.inputs = inputs\n",
    "        self.raw_inputs = [i.data for i in inputs]\n",
    "        self.raw_input = self.raw_inputs[0]"
   ]
  },
  {
   "cell_type": "code",
   "execution_count": 815,
   "id": "a12eb910",
   "metadata": {},
   "outputs": [
    {
     "data": {
      "text/plain": [
       "Backward({'var(b0135068-c919-4d5a-8c08-7cf07019c490)': 1})"
      ]
     },
     "execution_count": 815,
     "metadata": {},
     "output_type": "execute_result"
    }
   ],
   "source": [
    "V(1).backward()"
   ]
  },
  {
   "cell_type": "code",
   "execution_count": 816,
   "id": "fd748f16",
   "metadata": {},
   "outputs": [],
   "source": [
    "class Add(Op):\n",
    "    @staticmethod\n",
    "    def forward(a, b):\n",
    "        return a + b\n",
    "\n",
    "    @staticmethod\n",
    "    def backward(ctx, d):\n",
    "        return d, d\n",
    "\n",
    "class Sub(Op):\n",
    "    @staticmethod\n",
    "    def forward(a, b):\n",
    "        return a - b\n",
    "\n",
    "    @staticmethod\n",
    "    def backward(ctx, d):\n",
    "        return d, -d\n",
    "\n",
    "class ReduceMean(Op):\n",
    "    @staticmethod\n",
    "    def forward(x):\n",
    "        return np.mean(x)\n",
    "\n",
    "    @staticmethod\n",
    "    def backward(ctx, d):\n",
    "        return d / ctx.raw_input.size * np.ones(ctx.raw_input.shape)\n",
    "\n",
    "class Mul(Op):\n",
    "    @staticmethod\n",
    "    def forward(a, b):\n",
    "        return a * b\n",
    "    \n",
    "    @staticmethod\n",
    "    def backward(ctx, d):\n",
    "        a, b = ctx.raw_inputs\n",
    "        return b * d, a * d\n",
    "\n",
    "class MM(Op):\n",
    "    @staticmethod\n",
    "    def forward(a, b):\n",
    "        return a.dot(b)\n",
    "    \n",
    "    @staticmethod\n",
    "    def backward(ctx, d):\n",
    "        a, b = ctx.raw_inputs\n",
    "        return d.dot(b.T), a.T.dot(d)\n",
    "\n",
    "class ReLU(Op):\n",
    "    @staticmethod\n",
    "    def forward(x):\n",
    "        return np.maximum(0, x)\n",
    "    \n",
    "    @staticmethod\n",
    "    def backward(ctx, d):\n",
    "        mask = (ctx.raw_input > 0).astype(np.uint8)\n",
    "        return d * mask\n",
    "    \n",
    "class Sq(Op):\n",
    "    @staticmethod\n",
    "    def forward(x):\n",
    "        return x ** 2\n",
    "\n",
    "    @staticmethod\n",
    "    def backward(ctx, d):\n",
    "        return 2 * ctx.raw_input * d"
   ]
  },
  {
   "cell_type": "code",
   "execution_count": 817,
   "id": "1c8043d0",
   "metadata": {},
   "outputs": [],
   "source": [
    "w, b = V(1), V(3)"
   ]
  },
  {
   "cell_type": "code",
   "execution_count": 818,
   "id": "3c945fea",
   "metadata": {},
   "outputs": [],
   "source": [
    "x = V(2)\n",
    "y = V(4)"
   ]
  },
  {
   "cell_type": "code",
   "execution_count": 819,
   "id": "0186a882",
   "metadata": {},
   "outputs": [
    {
     "data": {
      "text/plain": [
       "25 = Sq(5,)\n",
       "  5 = Add(2, 3)\n",
       "    2 = Mul(2, 1)\n",
       "      var(2)\n",
       "      var(1)\n",
       "    var(3)"
      ]
     },
     "execution_count": 819,
     "metadata": {},
     "output_type": "execute_result"
    }
   ],
   "source": [
    "out = Sq.apply(Add.apply(Mul.apply(x, w), b))\n",
    "out"
   ]
  },
  {
   "cell_type": "code",
   "execution_count": 898,
   "id": "101da128",
   "metadata": {},
   "outputs": [
    {
     "data": {
      "text/plain": [
       "[var(10)]"
      ]
     },
     "execution_count": 898,
     "metadata": {},
     "output_type": "execute_result"
    }
   ],
   "source": [
    "b = out.backward()\n",
    "b.wrt(x)"
   ]
  },
  {
   "cell_type": "code",
   "execution_count": 899,
   "id": "3e668178",
   "metadata": {},
   "outputs": [],
   "source": [
    "W1 = V(np.random.normal(size=(1, 10)))\n",
    "b1 = V(np.zeros(10))\n",
    "\n",
    "W2 = V(np.random.normal(size=(10, 1)))\n",
    "b2 = V(np.zeros(1))"
   ]
  },
  {
   "cell_type": "code",
   "execution_count": 900,
   "id": "724e98d1",
   "metadata": {},
   "outputs": [],
   "source": [
    "X = V(np.linspace(0, 1, 14)[..., np.newaxis])\n",
    "Y = V(np.linspace(0, 1, 14)[..., np.newaxis] * 4.5 + 5.5)"
   ]
  },
  {
   "cell_type": "code",
   "execution_count": 901,
   "id": "f23a13ad",
   "metadata": {},
   "outputs": [
    {
     "data": {
      "text/plain": [
       "((14, 1), (14, 1))"
      ]
     },
     "execution_count": 901,
     "metadata": {},
     "output_type": "execute_result"
    }
   ],
   "source": [
    "X.data.shape, Y.data.shape"
   ]
  },
  {
   "cell_type": "code",
   "execution_count": 902,
   "id": "e805d2d1",
   "metadata": {},
   "outputs": [],
   "source": [
    "def forward():\n",
    "    A0 = X\n",
    "    Z1 = Add.apply(MM.apply(A0, W1), b1)\n",
    "    A1 = ReLU.apply(Z1)\n",
    "\n",
    "    Z2 = Add.apply(MM.apply(A1, W2), b2)\n",
    "    A2 = Z2\n",
    "    return A2"
   ]
  },
  {
   "cell_type": "code",
   "execution_count": 903,
   "id": "bbcaa9cd",
   "metadata": {},
   "outputs": [],
   "source": [
    "def loss():\n",
    "    return ReduceMean.apply(Sq.apply(Sub.apply(forward(), Y)))"
   ]
  },
  {
   "cell_type": "code",
   "execution_count": 904,
   "id": "9fe59b11",
   "metadata": {},
   "outputs": [
    {
     "name": "stdout",
     "output_type": "stream",
     "text": [
      "94.14267907481225\n",
      "1.8615497031238397\n",
      "1.2219706118787703\n",
      "0.9164043148250246\n",
      "0.6885032785575397\n",
      "0.517288800158692\n",
      "0.38865138619027195\n",
      "0.29200303627367663\n",
      "0.21938883077325794\n",
      "0.1648320499755209\n"
     ]
    }
   ],
   "source": [
    "for i in range(1000):\n",
    "    l = loss()\n",
    "    if i % 100 == 0:\n",
    "        print(l.data)\n",
    "\n",
    "    variables = W1, b1, W2, b2\n",
    "    grads = l.backward().wrt(*variables)\n",
    "\n",
    "    lr = V(0.01)\n",
    "    for v, g in zip(variables, grads):\n",
    "        new_v = Sub.apply(v, Mul.apply(lr, g))\n",
    "        v.assign(new_v)"
   ]
  },
  {
   "cell_type": "code",
   "execution_count": null,
   "id": "747208e4",
   "metadata": {},
   "outputs": [],
   "source": []
  },
  {
   "cell_type": "code",
   "execution_count": null,
   "id": "2b37c76d",
   "metadata": {},
   "outputs": [],
   "source": []
  }
 ],
 "metadata": {
  "kernelspec": {
   "display_name": "Python 3 (ipykernel)",
   "language": "python",
   "name": "python3"
  },
  "language_info": {
   "codemirror_mode": {
    "name": "ipython",
    "version": 3
   },
   "file_extension": ".py",
   "mimetype": "text/x-python",
   "name": "python",
   "nbconvert_exporter": "python",
   "pygments_lexer": "ipython3",
   "version": "3.9.7"
  }
 },
 "nbformat": 4,
 "nbformat_minor": 5
}
