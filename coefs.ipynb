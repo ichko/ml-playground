{
 "cells": [
  {
   "cell_type": "code",
   "execution_count": 17,
   "id": "94b9289c",
   "metadata": {},
   "outputs": [],
   "source": [
    "import random\n",
    "import numpy as np"
   ]
  },
  {
   "cell_type": "code",
   "execution_count": 336,
   "id": "0552c550",
   "metadata": {},
   "outputs": [],
   "source": [
    "coefs = np.array([\n",
    "    [1.02, 18],\n",
    "    [2.55, 1.55],\n",
    "    [5.2, 1.16],\n",
    "    [10.5, 1.05],\n",
    "    [1.35, 3.2],\n",
    "])\n",
    "num_games = len(coefs)"
   ]
  },
  {
   "cell_type": "code",
   "execution_count": 337,
   "id": "7d41babc",
   "metadata": {},
   "outputs": [],
   "source": [
    "def get_coefs_distrib(coefs):\n",
    "    compl = 1 / coefs\n",
    "#     compl = coefs - coefs.sum(axis=1, keepdims=True)\n",
    "#     compl = compl / compl.sum(axis=1, keepdims=True)\n",
    "    return compl"
   ]
  },
  {
   "cell_type": "code",
   "execution_count": 338,
   "id": "59e84614",
   "metadata": {},
   "outputs": [
    {
     "data": {
      "text/plain": [
       "array([[0.98039216, 0.05555556],\n",
       "       [0.39215686, 0.64516129],\n",
       "       [0.19230769, 0.86206897],\n",
       "       [0.0952381 , 0.95238095],\n",
       "       [0.74074074, 0.3125    ]])"
      ]
     },
     "execution_count": 338,
     "metadata": {},
     "output_type": "execute_result"
    }
   ],
   "source": [
    "get_coefs_distrib(coefs)"
   ]
  },
  {
   "cell_type": "code",
   "execution_count": 339,
   "id": "44f0e268",
   "metadata": {},
   "outputs": [],
   "source": [
    "def random_dna(num_games):\n",
    "    return np.random.rand(num_games, 2)"
   ]
  },
  {
   "cell_type": "code",
   "execution_count": 340,
   "id": "7c39c4e9",
   "metadata": {},
   "outputs": [
    {
     "data": {
      "text/plain": [
       "array([[0.30033113, 0.62649843],\n",
       "       [0.65219119, 0.1959825 ],\n",
       "       [0.96728431, 0.1053905 ],\n",
       "       [0.99497864, 0.79988691],\n",
       "       [0.89480463, 0.99345062]])"
      ]
     },
     "execution_count": 340,
     "metadata": {},
     "output_type": "execute_result"
    }
   ],
   "source": [
    "dna = random_dna(num_games)\n",
    "dna"
   ]
  },
  {
   "cell_type": "code",
   "execution_count": 341,
   "id": "0620aace",
   "metadata": {},
   "outputs": [
    {
     "data": {
      "text/plain": [
       "array([[0.04598689, 0.09592983],\n",
       "       [0.09986392, 0.03000896],\n",
       "       [0.14811118, 0.01613746],\n",
       "       [0.15235175, 0.12247918],\n",
       "       [0.13701304, 0.15211778]])"
      ]
     },
     "execution_count": 341,
     "metadata": {},
     "output_type": "execute_result"
    }
   ],
   "source": [
    "dna / dna.sum()"
   ]
  },
  {
   "cell_type": "code",
   "execution_count": 342,
   "id": "567ff65a",
   "metadata": {},
   "outputs": [
    {
     "data": {
      "text/plain": [
       "array([0.30033113, 0.65219119, 0.96728431, 0.99497864, 0.89480463])"
      ]
     },
     "execution_count": 342,
     "metadata": {},
     "output_type": "execute_result"
    }
   ],
   "source": [
    "dna[:,0]"
   ]
  },
  {
   "cell_type": "code",
   "execution_count": 343,
   "id": "cf6bf424",
   "metadata": {},
   "outputs": [],
   "source": [
    "def fitness(coefs, dna):\n",
    "    coefs_distrib = get_coefs_distrib(coefs)\n",
    "    norm_dna = dna / dna.sum() # * C\n",
    "    out1 = (dna[:,0] * coefs[:,0] - dna[:,1]) * coefs_distrib[:,0]\n",
    "    out2 = (dna[:,1] * coefs[:,1] - dna[:,0]) * coefs_distrib[:,1]\n",
    "    return sum(out1 + out2)"
   ]
  },
  {
   "cell_type": "code",
   "execution_count": 344,
   "id": "4ec14ea7",
   "metadata": {},
   "outputs": [
    {
     "data": {
      "text/plain": [
       "array([[ 1.02, 18.  ],\n",
       "       [ 2.55,  1.55],\n",
       "       [ 5.2 ,  1.16],\n",
       "       [10.5 ,  1.05],\n",
       "       [ 1.35,  3.2 ]])"
      ]
     },
     "execution_count": 344,
     "metadata": {},
     "output_type": "execute_result"
    }
   ],
   "source": [
    "coefs"
   ]
  },
  {
   "cell_type": "code",
   "execution_count": 347,
   "id": "c48f331e",
   "metadata": {},
   "outputs": [
    {
     "data": {
      "text/plain": [
       "3.346852287591129"
      ]
     },
     "execution_count": 347,
     "metadata": {},
     "output_type": "execute_result"
    }
   ],
   "source": [
    "dna = random_dna(len(coefs))\n",
    "f = fitness(coefs, dna)\n",
    "\n",
    "best_fitnes = -1\n",
    "best_dna = None\n",
    "\n",
    "for _ in range(50000):\n",
    "    dna = random_dna(len(coefs))\n",
    "    f =    \n",
    "    if f > best_fitnes:\n",
    "        best_fitnes = f\n",
    "        best_dna = dna\n",
    "f"
   ]
  },
  {
   "cell_type": "code",
   "execution_count": 364,
   "id": "3a3b9fd0",
   "metadata": {},
   "outputs": [
    {
     "data": {
      "text/plain": [
       "array([[14.43006915,  6.70266882],\n",
       "       [12.83906151,  0.92683065],\n",
       "       [ 7.20511502, 15.43470553],\n",
       "       [ 8.79461814, 10.68531792],\n",
       "       [11.37637095, 11.60524231]])"
      ]
     },
     "execution_count": 364,
     "metadata": {},
     "output_type": "execute_result"
    }
   ],
   "source": [
    "dna / dna.sum() * 100"
   ]
  },
  {
   "cell_type": "code",
   "execution_count": 365,
   "id": "299cc978",
   "metadata": {},
   "outputs": [
    {
     "data": {
      "text/plain": [
       "array([[ 1.02, 18.  ],\n",
       "       [ 2.55,  1.55],\n",
       "       [ 5.2 ,  1.16],\n",
       "       [10.5 ,  1.05],\n",
       "       [ 1.35,  3.2 ]])"
      ]
     },
     "execution_count": 365,
     "metadata": {},
     "output_type": "execute_result"
    }
   ],
   "source": [
    "coefs"
   ]
  },
  {
   "cell_type": "code",
   "execution_count": null,
   "id": "21227edf",
   "metadata": {},
   "outputs": [],
   "source": []
  }
 ],
 "metadata": {
  "kernelspec": {
   "display_name": "Python 3 (ipykernel)",
   "language": "python",
   "name": "python3"
  },
  "language_info": {
   "codemirror_mode": {
    "name": "ipython",
    "version": 3
   },
   "file_extension": ".py",
   "mimetype": "text/x-python",
   "name": "python",
   "nbconvert_exporter": "python",
   "pygments_lexer": "ipython3",
   "version": "3.9.7"
  }
 },
 "nbformat": 4,
 "nbformat_minor": 5
}
