{
 "cells": [
  {
   "cell_type": "code",
   "execution_count": 4,
   "id": "94b9289c",
   "metadata": {},
   "outputs": [],
   "source": [
    "import random\n",
    "import numpy as np\n",
    "from tqdm.auto import tqdm"
   ]
  },
  {
   "cell_type": "code",
   "execution_count": 46,
   "id": "0552c550",
   "metadata": {},
   "outputs": [],
   "source": [
    "coefs = np.array([\n",
    "    [1.02, 18],\n",
    "#     [2.55, 1.55],\n",
    "#     [5.2, 1.16],\n",
    "#     [10.5, 1.05],\n",
    "#     [1.35, 3.2],\n",
    "    \n",
    "#     [1.05, 16],\n",
    "#     [1.45, 3.10]\n",
    "])\n",
    "num_games = len(coefs)"
   ]
  },
  {
   "cell_type": "code",
   "execution_count": 47,
   "id": "4121eb3a",
   "metadata": {},
   "outputs": [],
   "source": [
    "def get_coefs_distrib(coefs):\n",
    "#     compl = 1 / coefs\n",
    "    compl = coefs - coefs.sum(axis=1, keepdims=True)\n",
    "    compl = compl / compl.sum(axis=1, keepdims=True)\n",
    "    return compl"
   ]
  },
  {
   "cell_type": "code",
   "execution_count": 48,
   "id": "b1a80387",
   "metadata": {},
   "outputs": [
    {
     "data": {
      "text/plain": [
       "array([[0.94637224, 0.05362776]])"
      ]
     },
     "execution_count": 48,
     "metadata": {},
     "output_type": "execute_result"
    }
   ],
   "source": [
    "get_coefs_distrib(coefs)"
   ]
  },
  {
   "cell_type": "code",
   "execution_count": 49,
   "id": "44f0e268",
   "metadata": {},
   "outputs": [],
   "source": [
    "def random_dna(num_games):\n",
    "    dna = np.random.rand(num_games, 2)\n",
    "    return dna / dna.sum()"
   ]
  },
  {
   "cell_type": "code",
   "execution_count": 50,
   "id": "7c39c4e9",
   "metadata": {},
   "outputs": [
    {
     "data": {
      "text/plain": [
       "array([[0.78903851, 0.21096149]])"
      ]
     },
     "execution_count": 50,
     "metadata": {},
     "output_type": "execute_result"
    }
   ],
   "source": [
    "dna = random_dna(num_games)\n",
    "dna"
   ]
  },
  {
   "cell_type": "code",
   "execution_count": 51,
   "id": "cf6bf424",
   "metadata": {},
   "outputs": [],
   "source": [
    "def fitness(coefs, dna):\n",
    "    coefs_distrib = get_coefs_distrib(coefs)\n",
    "    out1 = (dna[:,0] * coefs[:,0] - dna[:,1]) * coefs_distrib[:,0]\n",
    "    out2 = (dna[:,1] * coefs[:,1] - dna[:,0]) * coefs_distrib[:,1]\n",
    "    return sum(out1 + out2)"
   ]
  },
  {
   "cell_type": "code",
   "execution_count": 52,
   "id": "c48f331e",
   "metadata": {},
   "outputs": [
    {
     "data": {
      "application/vnd.jupyter.widget-view+json": {
       "model_id": "7877b2db0d4042c683974751e8ffbd4a",
       "version_major": 2,
       "version_minor": 0
      },
      "text/plain": [
       "  0%|          | 0/100000 [00:00<?, ?it/s]"
      ]
     },
     "metadata": {},
     "output_type": "display_data"
    },
    {
     "data": {
      "text/plain": [
       "0.9116672523523008"
      ]
     },
     "execution_count": 52,
     "metadata": {},
     "output_type": "execute_result"
    }
   ],
   "source": [
    "dna = random_dna(len(coefs))\n",
    "f = fitness(coefs, dna)\n",
    "\n",
    "best_fitnes = -float('inf')\n",
    "best_dna = None\n",
    "\n",
    "for _ in tqdm(range(100_000)):\n",
    "    dna = random_dna(len(coefs))\n",
    "    f = fitness(coefs, dna)\n",
    "    if f > best_fitnes:\n",
    "        best_fitnes = f\n",
    "        best_dna = dna\n",
    "best_fitnes"
   ]
  },
  {
   "cell_type": "code",
   "execution_count": 29,
   "id": "6cc12bdd",
   "metadata": {},
   "outputs": [
    {
     "data": {
      "text/plain": [
       "array([[27.24821717,  1.50445729],\n",
       "       [ 0.46484299,  1.15257994],\n",
       "       [67.55589627,  2.07400634]])"
      ]
     },
     "execution_count": 29,
     "metadata": {},
     "output_type": "execute_result"
    }
   ],
   "source": [
    "best_dna * 100"
   ]
  },
  {
   "cell_type": "code",
   "execution_count": 30,
   "id": "299cc978",
   "metadata": {},
   "outputs": [
    {
     "data": {
      "text/plain": [
       "array([[ 1.02, 18.  ],\n",
       "       [ 5.2 ,  1.16],\n",
       "       [ 1.05, 16.  ]])"
      ]
     },
     "execution_count": 30,
     "metadata": {},
     "output_type": "execute_result"
    }
   ],
   "source": [
    "coefs"
   ]
  },
  {
   "cell_type": "code",
   "execution_count": null,
   "id": "8727d6db",
   "metadata": {},
   "outputs": [],
   "source": []
  },
  {
   "cell_type": "code",
   "execution_count": null,
   "id": "5d794bae",
   "metadata": {},
   "outputs": [],
   "source": []
  }
 ],
 "metadata": {
  "kernelspec": {
   "display_name": "Python 3 (ipykernel)",
   "language": "python",
   "name": "python3"
  },
  "language_info": {
   "codemirror_mode": {
    "name": "ipython",
    "version": 3
   },
   "file_extension": ".py",
   "mimetype": "text/x-python",
   "name": "python",
   "nbconvert_exporter": "python",
   "pygments_lexer": "ipython3",
   "version": "3.9.7"
  }
 },
 "nbformat": 4,
 "nbformat_minor": 5
}
