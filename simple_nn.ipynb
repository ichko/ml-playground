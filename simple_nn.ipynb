{
  "nbformat": 4,
  "nbformat_minor": 0,
  "metadata": {
    "colab": {
      "name": "simple-nn",
      "provenance": [],
      "collapsed_sections": [],
      "authorship_tag": "ABX9TyMJF09XBm9OB9LHM3r8i17w",
      "include_colab_link": true
    },
    "kernelspec": {
      "name": "python3",
      "display_name": "Python 3"
    }
  },
  "cells": [
    {
      "cell_type": "markdown",
      "metadata": {
        "id": "view-in-github",
        "colab_type": "text"
      },
      "source": [
        "<a href=\"https://colab.research.google.com/github/ichko/ml-playground/blob/master/simple_nn.ipynb\" target=\"_parent\"><img src=\"https://colab.research.google.com/assets/colab-badge.svg\" alt=\"Open In Colab\"/></a>"
      ]
    },
    {
      "cell_type": "code",
      "metadata": {
        "id": "K8z_uDZEhxJq",
        "colab_type": "code",
        "colab": {}
      },
      "source": [
        "import numpy as np\n",
        "import matplotlib.pyplot as plt"
      ],
      "execution_count": 0,
      "outputs": []
    },
    {
      "cell_type": "code",
      "metadata": {
        "id": "A7IYvCD6hzIy",
        "colab_type": "code",
        "colab": {}
      },
      "source": [
        "def random_polar(n, min_len, max_len):\n",
        "    rad = np.random.uniform(0, 2 * np.pi, size=n)\n",
        "    lengths = np.random.uniform(min_len, max_len, size=n)\n",
        "    return np.array([np.sin(rad) * lengths, np.cos(rad) * lengths]).T"
      ],
      "execution_count": 0,
      "outputs": []
    },
    {
      "cell_type": "code",
      "metadata": {
        "id": "cvh6lJzRX6h9",
        "colab_type": "code",
        "colab": {}
      },
      "source": [
        "def plot_predictor(X, y, predict):\n",
        "    h = .02  # step size in the mesh\n",
        "\n",
        "    x_min, x_max = X[:, 0].min() - h, X[:, 0].max() + h\n",
        "    y_min, y_max = X[:, 1].min() - h, X[:, 1].max() + h\n",
        "    xx, yy = np.meshgrid(np.arange(x_min, x_max, h), np.arange(y_min, y_max, h))\n",
        "\n",
        "    fig, ax = plt.subplots()\n",
        "    Z = predict(np.c_[xx.ravel(), yy.ravel()])\n",
        "\n",
        "    Z = Z.reshape(xx.shape)\n",
        "    ax.contourf(xx, yy, 1 - Z)\n",
        "    ax.axis('off')\n",
        "\n",
        "    plt.scatter(X[:, 0], X[:, 1], c=y[:, 0])"
      ],
      "execution_count": 0,
      "outputs": []
    },
    {
      "cell_type": "code",
      "metadata": {
        "id": "uejox9u7X8Aj",
        "colab_type": "code",
        "colab": {}
      },
      "source": [
        "## Data\n",
        "num_per_class = 100\n",
        "\n",
        "A = random_polar(num_per_class, 0, 0.5)\n",
        "B = random_polar(num_per_class, 0.5, 1)\n",
        "\n",
        "class_A = np.concatenate((A, np.ones((num_per_class, 1))), axis=1)\n",
        "class_B = np.concatenate((B, np.zeros((num_per_class, 1))), axis=1)\n",
        "\n",
        "data = np.concatenate((class_A, class_B), axis=0)\n",
        "np.random.shuffle(data)\n",
        "\n",
        "X, y = data[:, :2], data[:, 2:]\n",
        "X.shape, y.shape"
      ],
      "execution_count": 0,
      "outputs": []
    },
    {
      "cell_type": "code",
      "metadata": {
        "id": "QoCbL8FbYMQh",
        "colab_type": "code",
        "colab": {}
      },
      "source": [
        "def sigmoid(z):\n",
        "    return 1.0 / (1.0 + np.exp(-z))\n",
        "\n",
        "def sigmoid_grad(z):\n",
        "    s = sigmoid(z)\n",
        "    return s * (1 - s)"
      ],
      "execution_count": 0,
      "outputs": []
    },
    {
      "cell_type": "code",
      "metadata": {
        "id": "6QmzN4MfYm6T",
        "colab_type": "code",
        "colab": {}
      },
      "source": [
        "num_inputs = X.shape[1]\n",
        "num_outputs = y.shape[1]\n",
        "\n",
        "num_hidden = 15\n",
        "W1 = np.random.normal(size=(num_inputs, num_hidden)) * 3\n",
        "b1 = np.zeros((1, num_hidden))\n",
        "\n",
        "W2 = np.random.normal(size=(num_hidden, num_outputs)) * 3\n",
        "b2 = np.zeros((num_outputs, 1))"
      ],
      "execution_count": 0,
      "outputs": []
    },
    {
      "cell_type": "code",
      "metadata": {
        "id": "8uMv2l2lYBZa",
        "colab_type": "code",
        "colab": {}
      },
      "source": [
        "## Tran\n",
        "lr = 0.06\n",
        "for step in range(10000):\n",
        "    # forward\n",
        "    z1 = X @ W1 + b1\n",
        "    a1 = sigmoid(z1)\n",
        "    \n",
        "    z2 = a1 @ W2 + b2\n",
        "    a2 = sigmoid(z2)\n",
        "    \n",
        "    J = np.sum((y - a2) ** 2) / 2\n",
        "    \n",
        "    # backward\n",
        "    dJda2 = (a2 - y) / 2\n",
        "    dJdz2 = dJda2 * sigmoid_grad(z2)\n",
        "    dJdW2 = a1.T @ dJdz2\n",
        "    dJdb2 = np.sum(dJdz2, axis=0, keepdims=True)\n",
        "    \n",
        "    dJda1 = dJdz2 @ W2.T\n",
        "    dJdz1 = dJda1 * sigmoid_grad(z2)\n",
        "    dJdW1 = X.T @ dJdz1\n",
        "    dJdb1 = np.sum(dJdz1, axis=0, keepdims=True)\n",
        "\n",
        "    # update\n",
        "    W1 = W1 - lr * dJdW1\n",
        "    b1 = b1 - lr * dJdb1\n",
        "    W2 = W2 - lr * dJdW2\n",
        "    b2 = b2 - lr * dJdb2\n",
        "\n",
        "    # stats\n",
        "    if step % 1000 == 0:\n",
        "        print(J)"
      ],
      "execution_count": 0,
      "outputs": []
    },
    {
      "cell_type": "code",
      "metadata": {
        "id": "0NUbMWc2Sybr",
        "colab_type": "code",
        "colab": {}
      },
      "source": [
        "def predict(X):\n",
        "    return sigmoid(sigmoid(X @ W1 + b1) @ W2 + b2)\n",
        "\n",
        "plot_predictor(X, y, predict)"
      ],
      "execution_count": 0,
      "outputs": []
    },
    {
      "cell_type": "code",
      "metadata": {
        "id": "kGxAj6G9Y8MC",
        "colab_type": "code",
        "colab": {}
      },
      "source": [
        ""
      ],
      "execution_count": 0,
      "outputs": []
    }
  ]
}