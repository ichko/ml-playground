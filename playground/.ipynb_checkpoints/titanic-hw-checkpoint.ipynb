{
 "cells": [
  {
   "cell_type": "markdown",
   "metadata": {},
   "source": [
    "# Титаник"
   ]
  },
  {
   "cell_type": "markdown",
   "metadata": {},
   "source": [
    "## Зареждане на необходимите библиотеки"
   ]
  },
  {
   "cell_type": "code",
   "execution_count": 1,
   "metadata": {},
   "outputs": [],
   "source": [
    "import numpy as np\n",
    "import matplotlib.pyplot as plt\n",
    "import pandas as pd\n",
    "import seaborn as sns\n",
    "import mglearn\n",
    "import warnings\n",
    "warnings.filterwarnings('ignore')\n",
    "\n",
    "from sklearn.linear_model import Lasso, LogisticRegression\n",
    "\n",
    "from sklearn.model_selection import train_test_split, cross_val_score\n",
    "\n",
    "from sklearn.ensemble import ExtraTreesClassifier, RandomForestClassifier\n",
    "\n",
    "from sklearn.svm import SVC\n",
    "\n",
    "from sklearn.preprocessing import \\\n",
    "    Imputer, \\\n",
    "    LabelBinarizer, \\\n",
    "    StandardScaler, \\\n",
    "    PolynomialFeatures\n",
    "\n",
    "from sklearn.pipeline import Pipeline, FeatureUnion\n",
    "\n",
    "from sklearn.base import BaseEstimator, TransformerMixin\n",
    "from sklearn.cross_validation import StratifiedKFold\n",
    "from sklearn.grid_search import GridSearchCV\n",
    "\n",
    "%matplotlib inline\n",
    "sns.set()"
   ]
  },
  {
   "cell_type": "code",
   "execution_count": 2,
   "metadata": {},
   "outputs": [
    {
     "data": {
      "text/html": [
       "<div>\n",
       "<style>\n",
       "    .dataframe thead tr:only-child th {\n",
       "        text-align: right;\n",
       "    }\n",
       "\n",
       "    .dataframe thead th {\n",
       "        text-align: left;\n",
       "    }\n",
       "\n",
       "    .dataframe tbody tr th {\n",
       "        vertical-align: top;\n",
       "    }\n",
       "</style>\n",
       "<table border=\"1\" class=\"dataframe\">\n",
       "  <thead>\n",
       "    <tr style=\"text-align: right;\">\n",
       "      <th></th>\n",
       "      <th>Survived</th>\n",
       "      <th>Pclass</th>\n",
       "      <th>Name</th>\n",
       "      <th>Sex</th>\n",
       "      <th>Age</th>\n",
       "      <th>SibSp</th>\n",
       "      <th>Parch</th>\n",
       "      <th>Ticket</th>\n",
       "      <th>Fare</th>\n",
       "      <th>Cabin</th>\n",
       "      <th>Embarked</th>\n",
       "    </tr>\n",
       "    <tr>\n",
       "      <th>PassengerId</th>\n",
       "      <th></th>\n",
       "      <th></th>\n",
       "      <th></th>\n",
       "      <th></th>\n",
       "      <th></th>\n",
       "      <th></th>\n",
       "      <th></th>\n",
       "      <th></th>\n",
       "      <th></th>\n",
       "      <th></th>\n",
       "      <th></th>\n",
       "    </tr>\n",
       "  </thead>\n",
       "  <tbody>\n",
       "    <tr>\n",
       "      <th>1</th>\n",
       "      <td>0</td>\n",
       "      <td>3</td>\n",
       "      <td>Braund, Mr. Owen Harris</td>\n",
       "      <td>male</td>\n",
       "      <td>22.0</td>\n",
       "      <td>1</td>\n",
       "      <td>0</td>\n",
       "      <td>A/5 21171</td>\n",
       "      <td>7.2500</td>\n",
       "      <td>NaN</td>\n",
       "      <td>S</td>\n",
       "    </tr>\n",
       "    <tr>\n",
       "      <th>2</th>\n",
       "      <td>1</td>\n",
       "      <td>1</td>\n",
       "      <td>Cumings, Mrs. John Bradley (Florence Briggs Th...</td>\n",
       "      <td>female</td>\n",
       "      <td>38.0</td>\n",
       "      <td>1</td>\n",
       "      <td>0</td>\n",
       "      <td>PC 17599</td>\n",
       "      <td>71.2833</td>\n",
       "      <td>C85</td>\n",
       "      <td>C</td>\n",
       "    </tr>\n",
       "    <tr>\n",
       "      <th>3</th>\n",
       "      <td>1</td>\n",
       "      <td>3</td>\n",
       "      <td>Heikkinen, Miss. Laina</td>\n",
       "      <td>female</td>\n",
       "      <td>26.0</td>\n",
       "      <td>0</td>\n",
       "      <td>0</td>\n",
       "      <td>STON/O2. 3101282</td>\n",
       "      <td>7.9250</td>\n",
       "      <td>NaN</td>\n",
       "      <td>S</td>\n",
       "    </tr>\n",
       "    <tr>\n",
       "      <th>4</th>\n",
       "      <td>1</td>\n",
       "      <td>1</td>\n",
       "      <td>Futrelle, Mrs. Jacques Heath (Lily May Peel)</td>\n",
       "      <td>female</td>\n",
       "      <td>35.0</td>\n",
       "      <td>1</td>\n",
       "      <td>0</td>\n",
       "      <td>113803</td>\n",
       "      <td>53.1000</td>\n",
       "      <td>C123</td>\n",
       "      <td>S</td>\n",
       "    </tr>\n",
       "    <tr>\n",
       "      <th>5</th>\n",
       "      <td>0</td>\n",
       "      <td>3</td>\n",
       "      <td>Allen, Mr. William Henry</td>\n",
       "      <td>male</td>\n",
       "      <td>35.0</td>\n",
       "      <td>0</td>\n",
       "      <td>0</td>\n",
       "      <td>373450</td>\n",
       "      <td>8.0500</td>\n",
       "      <td>NaN</td>\n",
       "      <td>S</td>\n",
       "    </tr>\n",
       "  </tbody>\n",
       "</table>\n",
       "</div>"
      ],
      "text/plain": [
       "             Survived  Pclass  \\\n",
       "PassengerId                     \n",
       "1                   0       3   \n",
       "2                   1       1   \n",
       "3                   1       3   \n",
       "4                   1       1   \n",
       "5                   0       3   \n",
       "\n",
       "                                                          Name     Sex   Age  \\\n",
       "PassengerId                                                                    \n",
       "1                                      Braund, Mr. Owen Harris    male  22.0   \n",
       "2            Cumings, Mrs. John Bradley (Florence Briggs Th...  female  38.0   \n",
       "3                                       Heikkinen, Miss. Laina  female  26.0   \n",
       "4                 Futrelle, Mrs. Jacques Heath (Lily May Peel)  female  35.0   \n",
       "5                                     Allen, Mr. William Henry    male  35.0   \n",
       "\n",
       "             SibSp  Parch            Ticket     Fare Cabin Embarked  \n",
       "PassengerId                                                          \n",
       "1                1      0         A/5 21171   7.2500   NaN        S  \n",
       "2                1      0          PC 17599  71.2833   C85        C  \n",
       "3                0      0  STON/O2. 3101282   7.9250   NaN        S  \n",
       "4                1      0            113803  53.1000  C123        S  \n",
       "5                0      0            373450   8.0500   NaN        S  "
      ]
     },
     "execution_count": 2,
     "metadata": {},
     "output_type": "execute_result"
    }
   ],
   "source": [
    "# Loading the data\n",
    "train = pd.read_csv('data/titanic-train.csv', index_col='PassengerId')\n",
    "test = pd.read_csv('data/titanic-test.csv', index_col='PassengerId')\n",
    "\n",
    "full_data = [train, test]\n",
    "\n",
    "# Lets have a look at the data\n",
    "train.head(5)"
   ]
  },
  {
   "cell_type": "markdown",
   "metadata": {},
   "source": [
    "## Разглеждане на данните"
   ]
  },
  {
   "cell_type": "code",
   "execution_count": 3,
   "metadata": {},
   "outputs": [
    {
     "data": {
      "text/html": [
       "<div>\n",
       "<style>\n",
       "    .dataframe thead tr:only-child th {\n",
       "        text-align: right;\n",
       "    }\n",
       "\n",
       "    .dataframe thead th {\n",
       "        text-align: left;\n",
       "    }\n",
       "\n",
       "    .dataframe tbody tr th {\n",
       "        vertical-align: top;\n",
       "    }\n",
       "</style>\n",
       "<table border=\"1\" class=\"dataframe\">\n",
       "  <thead>\n",
       "    <tr style=\"text-align: right;\">\n",
       "      <th></th>\n",
       "      <th>Survived</th>\n",
       "      <th>Pclass</th>\n",
       "      <th>Age</th>\n",
       "      <th>SibSp</th>\n",
       "      <th>Parch</th>\n",
       "      <th>Fare</th>\n",
       "    </tr>\n",
       "  </thead>\n",
       "  <tbody>\n",
       "    <tr>\n",
       "      <th>count</th>\n",
       "      <td>891.000000</td>\n",
       "      <td>891.000000</td>\n",
       "      <td>714.000000</td>\n",
       "      <td>891.000000</td>\n",
       "      <td>891.000000</td>\n",
       "      <td>891.000000</td>\n",
       "    </tr>\n",
       "    <tr>\n",
       "      <th>mean</th>\n",
       "      <td>0.383838</td>\n",
       "      <td>2.308642</td>\n",
       "      <td>29.699118</td>\n",
       "      <td>0.523008</td>\n",
       "      <td>0.381594</td>\n",
       "      <td>32.204208</td>\n",
       "    </tr>\n",
       "    <tr>\n",
       "      <th>std</th>\n",
       "      <td>0.486592</td>\n",
       "      <td>0.836071</td>\n",
       "      <td>14.526497</td>\n",
       "      <td>1.102743</td>\n",
       "      <td>0.806057</td>\n",
       "      <td>49.693429</td>\n",
       "    </tr>\n",
       "    <tr>\n",
       "      <th>min</th>\n",
       "      <td>0.000000</td>\n",
       "      <td>1.000000</td>\n",
       "      <td>0.420000</td>\n",
       "      <td>0.000000</td>\n",
       "      <td>0.000000</td>\n",
       "      <td>0.000000</td>\n",
       "    </tr>\n",
       "    <tr>\n",
       "      <th>25%</th>\n",
       "      <td>0.000000</td>\n",
       "      <td>2.000000</td>\n",
       "      <td>20.125000</td>\n",
       "      <td>0.000000</td>\n",
       "      <td>0.000000</td>\n",
       "      <td>7.910400</td>\n",
       "    </tr>\n",
       "    <tr>\n",
       "      <th>50%</th>\n",
       "      <td>0.000000</td>\n",
       "      <td>3.000000</td>\n",
       "      <td>28.000000</td>\n",
       "      <td>0.000000</td>\n",
       "      <td>0.000000</td>\n",
       "      <td>14.454200</td>\n",
       "    </tr>\n",
       "    <tr>\n",
       "      <th>75%</th>\n",
       "      <td>1.000000</td>\n",
       "      <td>3.000000</td>\n",
       "      <td>38.000000</td>\n",
       "      <td>1.000000</td>\n",
       "      <td>0.000000</td>\n",
       "      <td>31.000000</td>\n",
       "    </tr>\n",
       "    <tr>\n",
       "      <th>max</th>\n",
       "      <td>1.000000</td>\n",
       "      <td>3.000000</td>\n",
       "      <td>80.000000</td>\n",
       "      <td>8.000000</td>\n",
       "      <td>6.000000</td>\n",
       "      <td>512.329200</td>\n",
       "    </tr>\n",
       "  </tbody>\n",
       "</table>\n",
       "</div>"
      ],
      "text/plain": [
       "         Survived      Pclass         Age       SibSp       Parch        Fare\n",
       "count  891.000000  891.000000  714.000000  891.000000  891.000000  891.000000\n",
       "mean     0.383838    2.308642   29.699118    0.523008    0.381594   32.204208\n",
       "std      0.486592    0.836071   14.526497    1.102743    0.806057   49.693429\n",
       "min      0.000000    1.000000    0.420000    0.000000    0.000000    0.000000\n",
       "25%      0.000000    2.000000   20.125000    0.000000    0.000000    7.910400\n",
       "50%      0.000000    3.000000   28.000000    0.000000    0.000000   14.454200\n",
       "75%      1.000000    3.000000   38.000000    1.000000    0.000000   31.000000\n",
       "max      1.000000    3.000000   80.000000    8.000000    6.000000  512.329200"
      ]
     },
     "execution_count": 3,
     "metadata": {},
     "output_type": "execute_result"
    }
   ],
   "source": [
    "train.describe()"
   ]
  },
  {
   "cell_type": "markdown",
   "metadata": {},
   "source": [
    "Имаме липсващи данни."
   ]
  },
  {
   "cell_type": "code",
   "execution_count": 4,
   "metadata": {},
   "outputs": [
    {
     "name": "stdout",
     "output_type": "stream",
     "text": [
      "<class 'pandas.core.frame.DataFrame'>\n",
      "Int64Index: 891 entries, 1 to 891\n",
      "Data columns (total 11 columns):\n",
      "Survived    891 non-null int64\n",
      "Pclass      891 non-null int64\n",
      "Name        891 non-null object\n",
      "Sex         891 non-null object\n",
      "Age         714 non-null float64\n",
      "SibSp       891 non-null int64\n",
      "Parch       891 non-null int64\n",
      "Ticket      891 non-null object\n",
      "Fare        891 non-null float64\n",
      "Cabin       204 non-null object\n",
      "Embarked    889 non-null object\n",
      "dtypes: float64(2), int64(4), object(5)\n",
      "memory usage: 83.5+ KB\n"
     ]
    }
   ],
   "source": [
    "train.info()"
   ]
  },
  {
   "cell_type": "code",
   "execution_count": 5,
   "metadata": {},
   "outputs": [
    {
     "name": "stdout",
     "output_type": "stream",
     "text": [
      "Survived      0\n",
      "Pclass        0\n",
      "Name          0\n",
      "Sex           0\n",
      "SibSp         0\n",
      "Parch         0\n",
      "Ticket        0\n",
      "Fare          0\n",
      "Embarked      2\n",
      "Age         177\n",
      "Cabin       687\n",
      "dtype: int64\n",
      "Pclass        0\n",
      "Name          0\n",
      "Sex           0\n",
      "SibSp         0\n",
      "Parch         0\n",
      "Ticket        0\n",
      "Embarked      0\n",
      "Fare          1\n",
      "Age          86\n",
      "Cabin       327\n",
      "dtype: int64\n"
     ]
    }
   ],
   "source": [
    "for data in full_data:\n",
    "    print(data.isnull().sum().sort_values())"
   ]
  },
  {
   "cell_type": "markdown",
   "metadata": {},
   "source": [
    "Трябва да попълним липсващите данни, но преди това..."
   ]
  },
  {
   "cell_type": "markdown",
   "metadata": {},
   "source": [
    "## Базови модели"
   ]
  },
  {
   "cell_type": "code",
   "execution_count": 6,
   "metadata": {},
   "outputs": [],
   "source": [
    "X = train[['Pclass', 'Age', 'SibSp', 'Parch', 'Fare']]\n",
    "y = train['Survived']\n",
    "\n",
    "X['Age'].fillna(X['Age'].mean(), inplace=True)\n",
    "\n",
    "X_train, X_test, y_train, y_test = train_test_split(X, y, random_state=8, stratify=y)"
   ]
  },
  {
   "cell_type": "code",
   "execution_count": 7,
   "metadata": {},
   "outputs": [
    {
     "name": "stdout",
     "output_type": "stream",
     "text": [
      "logistic recression train score: 0.693113772455\n",
      "logistic recression test score:  0.744394618834\n",
      "\n",
      "random forest train score: 0.934131736527\n",
      "random forest recression test score:  0.695067264574\n",
      "\n",
      "support vector classifier score: 0.862275449102\n",
      "support vector classifier score:  0.659192825112\n",
      "\n"
     ]
    }
   ],
   "source": [
    "lr_model = LogisticRegression().fit(X_train, y_train)\n",
    "rf_model = RandomForestClassifier().fit(X_train, y_train)\n",
    "svc_model = SVC(C=1).fit(X_train, y_train)\n",
    "\n",
    "print(\"logistic recression train score:\", lr_model.score(X_train, y_train))\n",
    "print(\"logistic recression test score: \", lr_model.score(X_test, y_test), end='\\n\\n')\n",
    "\n",
    "print(\"random forest train score:\", rf_model.score(X_train, y_train))\n",
    "print(\"random forest recression test score: \", rf_model.score(X_test, y_test), end='\\n\\n')\n",
    "\n",
    "print(\"support vector classifier score:\", svc_model.score(X_train, y_train))\n",
    "print(\"support vector classifier score: \", svc_model.score(X_test, y_test), end='\\n\\n')"
   ]
  },
  {
   "cell_type": "markdown",
   "metadata": {},
   "source": [
    "Доста овърфит при svm и random forest класификаторите."
   ]
  },
  {
   "cell_type": "markdown",
   "metadata": {},
   "source": [
    "# Малко помощни класове"
   ]
  },
  {
   "cell_type": "markdown",
   "metadata": {},
   "source": [
    "Този клас ще one-hot-encode-ва стрингови (категорийни) фийчъри. Подходящ е за pipeline-ове."
   ]
  },
  {
   "cell_type": "code",
   "execution_count": 8,
   "metadata": {},
   "outputs": [],
   "source": [
    "class StringLabelBinerizer(LabelBinarizer):\n",
    "    def __init__(self, prefix='col', key=lambda x: x, **kwargs):\n",
    "        self.prefix = prefix\n",
    "        self.key = key\n",
    "        super(StringLabelBinerizer, self).__init__(**kwargs)\n",
    "    \n",
    "    def map_input(self, y):\n",
    "        return y\n",
    "\n",
    "    def fit(self, y, prefix='col', key=lambda x: x):\n",
    "        self.key = key\n",
    "        return super(StringLabelBinerizer, self).fit(self.map_input(y))\n",
    "\n",
    "    def transform(self, y):\n",
    "        cols = list(map(lambda s: self.prefix + '_' + s, self.classes_))\n",
    "        if len(cols) == 2:\n",
    "            cols = [self.prefix]\n",
    "        result = pd.DataFrame(super(StringLabelBinerizer, self).transform(self.map_input(y)), columns=cols)\n",
    "        result.index += 1\n",
    "        return result\n",
    "        \n",
    "    def fit_transform(self, y, *_):\n",
    "        self.fit(y)\n",
    "        return self.transform(y)"
   ]
  },
  {
   "cell_type": "markdown",
   "metadata": {},
   "source": [
    "Тези класове са от лекции. Използват се при създаването на трансформиращия пайплайн."
   ]
  },
  {
   "cell_type": "code",
   "execution_count": 9,
   "metadata": {},
   "outputs": [],
   "source": [
    "class ItemSelector(BaseEstimator, TransformerMixin):\n",
    "    def __init__(self, key):\n",
    "        self.key = key\n",
    "\n",
    "    def fit(self, x, y=None):\n",
    "        return self\n",
    "\n",
    "    def transform(self, data_dict):\n",
    "        return data_dict[[self.key]]\n",
    "\n",
    "class StringImputer(TransformerMixin):\n",
    "    def fit(self, X, *_):\n",
    "        self.modes = X.mode().iloc[0]\n",
    "        return self\n",
    "        \n",
    "    def transform(self, X, y=None):\n",
    "        return X.fillna(self.modes)"
   ]
  },
  {
   "cell_type": "markdown",
   "metadata": {},
   "source": [
    "# Малко feature engineering"
   ]
  },
  {
   "cell_type": "code",
   "execution_count": 10,
   "metadata": {},
   "outputs": [],
   "source": [
    "for data in full_data:\n",
    "    data['FamilySize'] = data['SibSp'] + data['Parch'] + 1\n",
    "    data['IsAlone'] = (data['FamilySize'] == 1).apply(int)"
   ]
  },
  {
   "cell_type": "markdown",
   "metadata": {},
   "source": [
    "Липсваше и една стойност във Fare фийчъра на тест сет-а. "
   ]
  },
  {
   "cell_type": "code",
   "execution_count": 11,
   "metadata": {},
   "outputs": [],
   "source": [
    "test['Fare'] = train['Fare'].mean()"
   ]
  },
  {
   "cell_type": "markdown",
   "metadata": {},
   "source": [
    "Да се опитаме да попълним липсващите Age стойности с линейна регресия."
   ]
  },
  {
   "cell_type": "code",
   "execution_count": 12,
   "metadata": {},
   "outputs": [
    {
     "name": "stdout",
     "output_type": "stream",
     "text": [
      "Age inplant model score: 0.205840666381\n"
     ]
    }
   ],
   "source": [
    "X_age_train = train[['Pclass', 'FamilySize', 'IsAlone', 'Fare']]\n",
    "X_age_test = test[['Pclass', 'FamilySize', 'IsAlone', 'Fare']]\n",
    "\n",
    "X_age_non_empty = X_age_train[~train['Age'].isnull()]\n",
    "y_age_non_empty = train['Age'][~train['Age'].isnull()]\n",
    "\n",
    "poly_feature_mapper = PolynomialFeatures(degree=1)\n",
    "poly_feature_mapper.fit(X_age_non_empty)\n",
    "\n",
    "age_implant_model = Lasso(random_state=0, alpha=0.01)\n",
    "age_implant_model.fit(poly_feature_mapper.transform(X_age_non_empty), y_age_non_empty)\n",
    "\n",
    "scores = cross_val_score(age_implant_model, poly_feature_mapper.transform(X_age_non_empty), y_age_non_empty, cv=3)\n",
    "print('Age inplant model score: '+ str(scores.mean()))"
   ]
  },
  {
   "cell_type": "markdown",
   "metadata": {},
   "source": [
    "Не можах да докарам до по-добра оценка :D"
   ]
  },
  {
   "cell_type": "code",
   "execution_count": 13,
   "metadata": {},
   "outputs": [],
   "source": [
    "train['LearnedAge'] = train['Age']\n",
    "test['LearnedAge'] = test['Age']\n",
    "\n",
    "X_age_empty_train = poly_feature_mapper.transform(X_age_train[train['Age'].isnull()])\n",
    "X_age_empty_test = poly_feature_mapper.transform(X_age_test[test['Age'].isnull()])\n",
    "\n",
    "train['LearnedAge'][train['Age'].isnull()] = age_implant_model.predict(X_age_empty_train)\n",
    "test['LearnedAge'][test['Age'].isnull()] = age_implant_model.predict(X_age_empty_test)"
   ]
  },
  {
   "cell_type": "code",
   "execution_count": 14,
   "metadata": {},
   "outputs": [],
   "source": [
    "for data in full_data:\n",
    "    data['IsChild'] = (data['LearnedAge'] <= 18).apply(int)"
   ]
  },
  {
   "cell_type": "code",
   "execution_count": 15,
   "metadata": {},
   "outputs": [
    {
     "data": {
      "text/plain": [
       "<matplotlib.axes._subplots.AxesSubplot at 0x7fcd020e8438>"
      ]
     },
     "execution_count": 15,
     "metadata": {},
     "output_type": "execute_result"
    },
    {
     "data": {
      "image/png": "[encoded data removed]",
      "text/plain": [
       "<matplotlib.figure.Figure at 0x7fcd4812d198>"
      ]
     },
     "metadata": {},
     "output_type": "display_data"
    }
   ],
   "source": [
    "sns.distplot(train['Age'][~train['Age'].isnull()])"
   ]
  },
  {
   "cell_type": "markdown",
   "metadata": {},
   "source": [
    "Да видим как изглежда дистрибуцията на годините след вкарването на новите данни."
   ]
  },
  {
   "cell_type": "code",
   "execution_count": 16,
   "metadata": {},
   "outputs": [
    {
     "data": {
      "text/plain": [
       "<matplotlib.axes._subplots.AxesSubplot at 0x7fcd0211c588>"
      ]
     },
     "execution_count": 16,
     "metadata": {},
     "output_type": "execute_result"
    },
    {
     "data": {
      "image/png": "[encoded data removed]",
      "text/plain": [
       "<matplotlib.figure.Figure at 0x7fcd020c2a20>"
      ]
     },
     "metadata": {},
     "output_type": "display_data"
    }
   ],
   "source": [
    "sns.distplot(train['LearnedAge'])"
   ]
  },
  {
   "cell_type": "markdown",
   "metadata": {},
   "source": [
    "Изглежда сме добавили доста хора на по 25-30 години."
   ]
  },
  {
   "cell_type": "markdown",
   "metadata": {},
   "source": [
    "## Нека да видим зависимостите в числовите фийчъри "
   ]
  },
  {
   "cell_type": "code",
   "execution_count": 17,
   "metadata": {},
   "outputs": [
    {
     "data": {
      "image/png": "[encoded data removed]",
      "text/plain": [
       "<matplotlib.figure.Figure at 0x7fcd00009748>"
      ]
     },
     "metadata": {},
     "output_type": "display_data"
    }
   ],
   "source": [
    "def corr_map(data_frame):\n",
    "    plt.figure(figsize=(14, 12))\n",
    "    plt.title('Correlation of features', y=1.05, size=15)\n",
    "    sns.set(font_scale=0.8)\n",
    "    sns.heatmap(data_frame.astype(float).corr(), square=True, annot=True, cmap=plt.cm.viridis_r)\n",
    "\n",
    "numeric_cols = ['Pclass', 'LearnedAge', 'SibSp', 'Parch', 'Fare', 'FamilySize', 'IsAlone', 'IsChild']\n",
    "corr_map(train[numeric_cols])"
   ]
  },
  {
   "cell_type": "markdown",
   "metadata": {},
   "source": [
    "# Създаване на pipeline за енкодване и скалиране на данните"
   ]
  },
  {
   "cell_type": "code",
   "execution_count": 18,
   "metadata": {},
   "outputs": [],
   "source": [
    "transformer = Pipeline([\n",
    "    ('union', FeatureUnion([\n",
    "        ('age', Pipeline([\n",
    "            ('select', ItemSelector('LearnedAge')),\n",
    "            ('scaler', StandardScaler()),\n",
    "        ])),\n",
    "        ('family_size', Pipeline([\n",
    "            ('select', ItemSelector('FamilySize')),\n",
    "            ('scaler', StandardScaler()),\n",
    "        ])),\n",
    "        ('is_alone', Pipeline([\n",
    "            ('select', ItemSelector('IsAlone')),\n",
    "        ])),\n",
    "        ('is_child', Pipeline([\n",
    "            ('select', ItemSelector('IsChild')),\n",
    "        ])),\n",
    "        ('sibsp', Pipeline([\n",
    "            ('select', ItemSelector('SibSp')),\n",
    "            ('scaler', StandardScaler()),\n",
    "        ])),\n",
    "        ('parch', Pipeline([\n",
    "            ('select', ItemSelector('Parch')),\n",
    "            ('scaler', StandardScaler()),\n",
    "        ])),\n",
    "        ('Fare', Pipeline([\n",
    "            ('select', ItemSelector('Fare')),\n",
    "            ('scaler', StandardScaler()),\n",
    "        ])),\n",
    "        ('gender', Pipeline([\n",
    "            ('select', ItemSelector('Sex')),\n",
    "            ('imputer', StringImputer()),\n",
    "            ('encoder', StringLabelBinerizer()),\n",
    "        ])),\n",
    "        ('embarked', Pipeline([\n",
    "            ('select', ItemSelector('Embarked')),\n",
    "            ('imputer', StringImputer()),\n",
    "            ('encoder', StringLabelBinerizer()),\n",
    "        ])),\n",
    "    ])),\n",
    "])"
   ]
  },
  {
   "cell_type": "code",
   "execution_count": 19,
   "metadata": {
    "scrolled": true
   },
   "outputs": [
    {
     "name": "stdout",
     "output_type": "stream",
     "text": [
      "SVC model 0.826066827033\n",
      "Logistic model 0.793494544091\n",
      "Random forest model 0.805810084237\n"
     ]
    }
   ],
   "source": [
    "svc_model = SVC(random_state=88)\n",
    "logistic_model = LogisticRegression(random_state=888)\n",
    "forest_model = RandomForestClassifier(random_state=88)\n",
    "\n",
    "X = transformer.fit_transform(train.drop(['Survived'], axis=1))\n",
    "y = train['Survived']\n",
    "\n",
    "scores = cross_val_score(svc_model, X, train['Survived'], cv=5)\n",
    "print('SVC model', scores.mean())\n",
    "\n",
    "scores = cross_val_score(logistic_model, X, train['Survived'], cv=5)\n",
    "print('Logistic model', scores.mean())\n",
    "\n",
    "scores = cross_val_score(forest_model, X, train['Survived'], cv=5)\n",
    "print('Random forest model', scores.mean())"
   ]
  },
  {
   "cell_type": "markdown",
   "metadata": {},
   "source": [
    "# Важност на фийчарите"
   ]
  },
  {
   "cell_type": "code",
   "execution_count": 20,
   "metadata": {},
   "outputs": [
    {
     "data": {
      "text/plain": [
       "ExtraTreesClassifier(bootstrap=False, class_weight=None, criterion='gini',\n",
       "           max_depth=None, max_features='auto', max_leaf_nodes=None,\n",
       "           min_impurity_decrease=0.0, min_impurity_split=None,\n",
       "           min_samples_leaf=1, min_samples_split=2,\n",
       "           min_weight_fraction_leaf=0.0, n_estimators=10, n_jobs=1,\n",
       "           oob_score=False, random_state=88, verbose=0, warm_start=False)"
      ]
     },
     "execution_count": 20,
     "metadata": {},
     "output_type": "execute_result"
    }
   ],
   "source": [
    "feature_importance_model = ExtraTreesClassifier(random_state=88)\n",
    "feature_importance_model.fit(X, y)"
   ]
  },
  {
   "cell_type": "code",
   "execution_count": 21,
   "metadata": {},
   "outputs": [
    {
     "data": {
      "image/png": "[encoded data removed]",
      "text/plain": [
       "<matplotlib.figure.Figure at 0x7fccfff62550>"
      ]
     },
     "metadata": {},
     "output_type": "display_data"
    }
   ],
   "source": [
    "def plot_feature_importance(model):\n",
    "    features = pd.DataFrame()\n",
    "    features['importance'] = model.feature_importances_\n",
    "    features.sort_values(by=['importance'], ascending=True, inplace=True)\n",
    "    features.plot(kind='bar', figsize=(20, 5))\n",
    "    \n",
    "plot_feature_importance(feature_importance_model)"
   ]
  },
  {
   "cell_type": "markdown",
   "metadata": {},
   "source": [
    "За съжаление пайплайна ни е изплюл data-та без лейбали >:(, лош пайплайн."
   ]
  },
  {
   "cell_type": "markdown",
   "metadata": {},
   "source": [
    "# Търсене на добри хиперпараметри"
   ]
  },
  {
   "cell_type": "markdown",
   "metadata": {},
   "source": [
    "Първо да подготвим моделите и параметрите за които ще търсим."
   ]
  },
  {
   "cell_type": "code",
   "execution_count": 22,
   "metadata": {},
   "outputs": [],
   "source": [
    "\n",
    "svc_model = SVC(random_state=88)\n",
    "logistic_model = LogisticRegression(random_state=888)\n",
    "forest_model = RandomForestClassifier(random_state=88)\n",
    "\n",
    "cross_validation = StratifiedKFold(y, n_folds=3)\n",
    "\n",
    "svc_params = [\n",
    "    {'C': [1, 10], 'kernel': ['linear']},\n",
    "    {'C': [1, 10], 'gamma': [0.001, 0.0001], 'kernel': ['rbf']},\n",
    "]\n",
    "logistic_params = {'C': [0.01, 0.1, 1, 10] }\n",
    "forest_params = {\n",
    "    'max_depth' : [5, 6],\n",
    "    'n_estimators': [200, 210],\n",
    "    'criterion': ['entropy']\n",
    "}\n",
    "\n",
    "svc_grid_search = GridSearchCV(svc_model, param_grid=svc_params, cv=cross_validation)\n",
    "logistic_grid_search = GridSearchCV(logistic_model, param_grid=logistic_params, cv=cross_validation)\n",
    "forest_grid_search = GridSearchCV(forest_model, param_grid=forest_params, cv=cross_validation)"
   ]
  },
  {
   "cell_type": "markdown",
   "metadata": {},
   "source": [
    "Пускаме моделите да се тренират, т.е. да търсят добри параметри. **(Тази стъпка ще отнеме повечко време)**"
   ]
  },
  {
   "cell_type": "code",
   "execution_count": 23,
   "metadata": {},
   "outputs": [
    {
     "name": "stdout",
     "output_type": "stream",
     "text": [
      "Forest score 0.7901234567901234\n",
      "Forest score {'C': 1, 'kernel': 'linear'}\n",
      "\n"
     ]
    }
   ],
   "source": [
    "svc_grid_search.fit(X, y)\n",
    "print('Forest score', svc_grid_search.best_score_)\n",
    "print('Forest score', svc_grid_search.best_params_, end='\\n\\n')"
   ]
  },
  {
   "cell_type": "code",
   "execution_count": 24,
   "metadata": {},
   "outputs": [
    {
     "name": "stdout",
     "output_type": "stream",
     "text": [
      "Forest score 0.7890011223344556\n",
      "Forest score {'C': 10}\n",
      "\n"
     ]
    }
   ],
   "source": [
    "logistic_grid_search.fit(X, y)\n",
    "print('Forest score', logistic_grid_search.best_score_)\n",
    "print('Forest score', logistic_grid_search.best_params_, end='\\n\\n')"
   ]
  },
  {
   "cell_type": "code",
   "execution_count": 25,
   "metadata": {},
   "outputs": [
    {
     "name": "stdout",
     "output_type": "stream",
     "text": [
      "Forest score 0.8114478114478114\n",
      "Forest score {'max_depth': 5, 'criterion': 'entropy', 'n_estimators': 210}\n",
      "\n"
     ]
    }
   ],
   "source": [
    "forest_grid_search.fit(X, y)\n",
    "print('Forest score', forest_grid_search.best_score_)\n",
    "print('Forest score', forest_grid_search.best_params_, end='\\n\\n')"
   ]
  },
  {
   "cell_type": "markdown",
   "metadata": {},
   "source": [
    "---\n",
    "Форест модела изглежда най-обещаващ,\n",
    "\n",
    "**Forest score {'criterion': 'entropy', 'max_depth': 5, 'n_estimators': 210}**"
   ]
  },
  {
   "cell_type": "markdown",
   "metadata": {},
   "source": [
    "# Събмитване в кагел"
   ]
  },
  {
   "cell_type": "markdown",
   "metadata": {},
   "source": [
    "Избираме най-добрия модел с най-оптимизираните параметри и предиктваме с него. Полученият резултат събмитваме в кагел."
   ]
  },
  {
   "cell_type": "code",
   "execution_count": 26,
   "metadata": {},
   "outputs": [],
   "source": [
    "def save_predictions(predictions):\n",
    "    frame = pd.DataFrame({\n",
    "        'PassengerId': pd.read_csv('data/titanic-test.csv').PassengerId,\n",
    "        'Survived': predictions\n",
    "    })\n",
    "    frame = frame.set_index('PassengerId')\n",
    "    frame.to_csv('data/titanic-test-output.csv')\n",
    "    frame.head()"
   ]
  },
  {
   "cell_type": "code",
   "execution_count": 27,
   "metadata": {
    "scrolled": false
   },
   "outputs": [],
   "source": [
    "model = forest_grid_search\n",
    "\n",
    "X_test = transformer.transform(test)\n",
    "y_test = model.predict(X_test)"
   ]
  },
  {
   "cell_type": "code",
   "execution_count": 28,
   "metadata": {},
   "outputs": [],
   "source": [
    "save_predictions(y_test)"
   ]
  },
  {
   "cell_type": "markdown",
   "metadata": {},
   "source": [
    "Your submission scored **0.78468**. Keep trying!"
   ]
  },
  {
   "cell_type": "markdown",
   "metadata": {},
   "source": [
    "# TITENIC"
   ]
  },
  {
   "cell_type": "markdown",
   "metadata": {},
   "source": [
    "![titenic](data/titenic.jpg)"
   ]
  }
 ],
 "metadata": {
  "kernelspec": {
   "display_name": "Python 3",
   "language": "python",
   "name": "python3"
  },
  "language_info": {
   "codemirror_mode": {
    "name": "ipython",
    "version": 3
   },
   "file_extension": ".py",
   "mimetype": "text/x-python",
   "name": "python",
   "nbconvert_exporter": "python",
   "pygments_lexer": "ipython3",
   "version": "3.4.3"
  }
 },
 "nbformat": 4,
 "nbformat_minor": 2
}
