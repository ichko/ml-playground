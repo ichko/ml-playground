{
 "cells": [
  {
   "cell_type": "code",
   "execution_count": 1,
   "metadata": {},
   "outputs": [],
   "source": [
    "import pandas as pd\n",
    "import numpy as np\n",
    "import pickle\n",
    "import matplotlib.pyplot as plt\n",
    "\n",
    "import PIL.Image"
   ]
  },
  {
   "cell_type": "code",
   "execution_count": 2,
   "metadata": {},
   "outputs": [],
   "source": [
    "def unpickle(file):\n",
    "    with open(file, 'rb') as fo:\n",
    "        dict = pickle.load(fo, encoding='bytes')\n",
    "        return dict"
   ]
  },
  {
   "cell_type": "code",
   "execution_count": 8,
   "metadata": {},
   "outputs": [],
   "source": [
    "def read_as_pd(batch):\n",
    "    pd_data = pd.DataFrame([{\n",
    "        'data': batch[b'data'][i],\n",
    "        'filename': batch[b'filenames'][i],\n",
    "        'labels': batch[b'labels'][i]\n",
    "    } for i in range(len(batch[b'data']))], columns=['filename', 'data', 'labels'])\n",
    "    \n",
    "    return pd_data"
   ]
  },
  {
   "cell_type": "code",
   "execution_count": 20,
   "metadata": {},
   "outputs": [],
   "source": [
    "def visualize(batch, id):\n",
    "    img_flat = batch['data'][id]\n",
    "\n",
    "    img_R = img_flat[0:1024].reshape((32, 32))\n",
    "    img_G = img_flat[1024:2048].reshape((32, 32))\n",
    "    img_B = img_flat[2048:3072].reshape((32, 32))\n",
    "    img = np.dstack((img_R, img_G, img_B))\n",
    "\n",
    "    plt.title('label: ' + str(batch['labels'][id]))\n",
    "    plt.imshow(img)"
   ]
  },
  {
   "cell_type": "code",
   "execution_count": 10,
   "metadata": {},
   "outputs": [],
   "source": [
    "raw_batch1 = unpickle('./data/cifar10/data_batch_1')\n",
    "batch1 = read_as_pd(raw_batch1)"
   ]
  },
  {
   "cell_type": "code",
   "execution_count": 18,
   "metadata": {},
   "outputs": [
    {
     "data": {
      "text/html": [
       "<div>\n",
       "<style scoped>\n",
       "    .dataframe tbody tr th:only-of-type {\n",
       "        vertical-align: middle;\n",
       "    }\n",
       "\n",
       "    .dataframe tbody tr th {\n",
       "        vertical-align: top;\n",
       "    }\n",
       "\n",
       "    .dataframe thead th {\n",
       "        text-align: right;\n",
       "    }\n",
       "</style>\n",
       "<table border=\"1\" class=\"dataframe\">\n",
       "  <thead>\n",
       "    <tr style=\"text-align: right;\">\n",
       "      <th></th>\n",
       "      <th>filename</th>\n",
       "      <th>data</th>\n",
       "      <th>labels</th>\n",
       "    </tr>\n",
       "  </thead>\n",
       "  <tbody>\n",
       "    <tr>\n",
       "      <th>0</th>\n",
       "      <td>b'leptodactylus_pentadactylus_s_000004.png'</td>\n",
       "      <td>[59, 43, 50, 68, 98, 119, 139, 145, 149, 149, ...</td>\n",
       "      <td>6</td>\n",
       "    </tr>\n",
       "    <tr>\n",
       "      <th>1</th>\n",
       "      <td>b'camion_s_000148.png'</td>\n",
       "      <td>[154, 126, 105, 102, 125, 155, 172, 180, 142, ...</td>\n",
       "      <td>9</td>\n",
       "    </tr>\n",
       "    <tr>\n",
       "      <th>2</th>\n",
       "      <td>b'tipper_truck_s_001250.png'</td>\n",
       "      <td>[255, 253, 253, 253, 253, 253, 253, 253, 253, ...</td>\n",
       "      <td>9</td>\n",
       "    </tr>\n",
       "    <tr>\n",
       "      <th>3</th>\n",
       "      <td>b'american_elk_s_001521.png'</td>\n",
       "      <td>[28, 37, 38, 42, 44, 40, 40, 24, 32, 43, 30, 3...</td>\n",
       "      <td>4</td>\n",
       "    </tr>\n",
       "    <tr>\n",
       "      <th>4</th>\n",
       "      <td>b'station_wagon_s_000293.png'</td>\n",
       "      <td>[170, 168, 177, 183, 181, 177, 181, 184, 189, ...</td>\n",
       "      <td>1</td>\n",
       "    </tr>\n",
       "    <tr>\n",
       "      <th>5</th>\n",
       "      <td>b'coupe_s_001735.png'</td>\n",
       "      <td>[159, 150, 153, 154, 138, 184, 154, 77, 61, 64...</td>\n",
       "      <td>1</td>\n",
       "    </tr>\n",
       "    <tr>\n",
       "      <th>6</th>\n",
       "      <td>b'cassowary_s_001300.png'</td>\n",
       "      <td>[164, 105, 118, 129, 134, 146, 166, 183, 199, ...</td>\n",
       "      <td>2</td>\n",
       "    </tr>\n",
       "    <tr>\n",
       "      <th>7</th>\n",
       "      <td>b'cow_pony_s_001168.png'</td>\n",
       "      <td>[28, 30, 33, 62, 63, 31, 29, 42, 55, 67, 92, 7...</td>\n",
       "      <td>7</td>\n",
       "    </tr>\n",
       "    <tr>\n",
       "      <th>8</th>\n",
       "      <td>b'sea_boat_s_001584.png'</td>\n",
       "      <td>[134, 131, 128, 133, 139, 140, 134, 121, 124, ...</td>\n",
       "      <td>8</td>\n",
       "    </tr>\n",
       "    <tr>\n",
       "      <th>9</th>\n",
       "      <td>b'tabby_s_001355.png'</td>\n",
       "      <td>[125, 110, 102, 106, 106, 141, 175, 175, 148, ...</td>\n",
       "      <td>3</td>\n",
       "    </tr>\n",
       "  </tbody>\n",
       "</table>\n",
       "</div>"
      ],
      "text/plain": [
       "                                      filename  \\\n",
       "0  b'leptodactylus_pentadactylus_s_000004.png'   \n",
       "1                       b'camion_s_000148.png'   \n",
       "2                 b'tipper_truck_s_001250.png'   \n",
       "3                 b'american_elk_s_001521.png'   \n",
       "4                b'station_wagon_s_000293.png'   \n",
       "5                        b'coupe_s_001735.png'   \n",
       "6                    b'cassowary_s_001300.png'   \n",
       "7                     b'cow_pony_s_001168.png'   \n",
       "8                     b'sea_boat_s_001584.png'   \n",
       "9                        b'tabby_s_001355.png'   \n",
       "\n",
       "                                                data  labels  \n",
       "0  [59, 43, 50, 68, 98, 119, 139, 145, 149, 149, ...       6  \n",
       "1  [154, 126, 105, 102, 125, 155, 172, 180, 142, ...       9  \n",
       "2  [255, 253, 253, 253, 253, 253, 253, 253, 253, ...       9  \n",
       "3  [28, 37, 38, 42, 44, 40, 40, 24, 32, 43, 30, 3...       4  \n",
       "4  [170, 168, 177, 183, 181, 177, 181, 184, 189, ...       1  \n",
       "5  [159, 150, 153, 154, 138, 184, 154, 77, 61, 64...       1  \n",
       "6  [164, 105, 118, 129, 134, 146, 166, 183, 199, ...       2  \n",
       "7  [28, 30, 33, 62, 63, 31, 29, 42, 55, 67, 92, 7...       7  \n",
       "8  [134, 131, 128, 133, 139, 140, 134, 121, 124, ...       8  \n",
       "9  [125, 110, 102, 106, 106, 141, 175, 175, 148, ...       3  "
      ]
     },
     "execution_count": 18,
     "metadata": {},
     "output_type": "execute_result"
    }
   ],
   "source": [
    "batch1.head(10)"
   ]
  },
  {
   "cell_type": "code",
   "execution_count": 21,
   "metadata": {},
   "outputs": [
    {
     "data": {
      "image/png": "[encoded data removed]",
      "text/plain": [
       "<Figure size 432x288 with 1 Axes>"
      ]
     },
     "metadata": {
      "needs_background": "light"
     },
     "output_type": "display_data"
    }
   ],
   "source": [
    "visualize(batch1, 8)"
   ]
  },
  {
   "cell_type": "code",
   "execution_count": 141,
   "metadata": {},
   "outputs": [],
   "source": [
    "def l1_dist(im1, im2):\n",
    "    return (im1 - im2).sum()"
   ]
  },
  {
   "cell_type": "code",
   "execution_count": 139,
   "metadata": {},
   "outputs": [],
   "source": [
    "class KNN:\n",
    "    def __init__(self, k=1):\n",
    "        self.k = k\n",
    "        self.X = None\n",
    "        self.y = None\n",
    "    \n",
    "    def train(self, X, y):\n",
    "        self.X = X\n",
    "        self.y = y\n",
    "        \n",
    "    def predict(self, input_x):\n",
    "        for x in self.X:\n",
    "            pass"
   ]
  },
  {
   "cell_type": "code",
   "execution_count": null,
   "metadata": {},
   "outputs": [],
   "source": []
  }
 ],
 "metadata": {
  "kernelspec": {
   "display_name": "Python 3",
   "language": "python",
   "name": "python3"
  },
  "language_info": {
   "codemirror_mode": {
    "name": "ipython",
    "version": 3
   },
   "file_extension": ".py",
   "mimetype": "text/x-python",
   "name": "python",
   "nbconvert_exporter": "python",
   "pygments_lexer": "ipython3",
   "version": "3.5.2"
  }
 },
 "nbformat": 4,
 "nbformat_minor": 2
}
