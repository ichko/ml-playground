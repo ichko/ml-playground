{
 "cells": [
  {
   "cell_type": "code",
   "execution_count": 459,
   "metadata": {},
   "outputs": [],
   "source": [
    "from nltk.tokenize import sent_tokenize, TweetTokenizer\n",
    "from string import punctuation\n",
    "from os import scandir\n",
    "from collections import defaultdict\n",
    "from random import random, choice, seed as seed_random, shuffle\n",
    "\n",
    "tokenizer = TweetTokenizer()\n",
    "\n",
    "def get_tokens_from_file(path):\n",
    "    content = open(path).read()\n",
    "    sentences = sent_tokenize(content)\n",
    "    tokens = []\n",
    "    for _sent in sentences:\n",
    "        sent_tokens = tokenizer.tokenize(_sent)\n",
    "        sent_tokens = [_tok.lower() for _tok in sent_tokens if _tok not in punctuation]\n",
    "        tokens += sent_tokens\n",
    "    return tokens\n",
    "\n",
    "\n",
    "def calc_bigram_freq(sorted_tokens):\n",
    "    result = defaultdict(lambda: defaultdict(lambda: 0))\n",
    "    for f, s in zip(sorted_tokens, sorted_tokens[1:]):\n",
    "        result[f][s] += 1\n",
    "    return {k: dict(v) for k, v in result.items()}\n",
    "\n",
    "\n",
    "def calc_bigram_prob(sorted_tokens):\n",
    "    bigram_freq = calc_bigram_freq(sorted_tokens)\n",
    "    return {f: {s: freq / sum(map(lambda x: x[1], goto.items())) for s, freq in goto.items()} \n",
    "               for f, goto in bigram_freq.items()}\n",
    "\n",
    "\n",
    "def prob_walk(seed_word, gen_size, bigram_prob, seed=None):\n",
    "    def prob_choice(items, key=lambda x: x, seed=None):\n",
    "        seed_random(seed)\n",
    "        weights = map(key, items)\n",
    "        total = sum(weights)\n",
    "        s = 0\n",
    "        for i, w in enumerate(weights):\n",
    "            if s >= random():\n",
    "                return items[i]\n",
    "            s += w\n",
    "        return choice(list(items))\n",
    "\n",
    "    result = [seed_word]\n",
    "    for _ in range(gen_size):\n",
    "        new_word = prob_choice(bigram_prob[result[-1]].items(), key=lambda x: x[1], seed=seed)\n",
    "        result.append(new_word[0])\n",
    "    return result\n",
    "\n",
    "def find_rhyming(word, tokens, seed):\n",
    "    seed_random(seed)\n",
    "    shuffle(tokens)\n",
    "    for n in range(4, 0, -1):\n",
    "        for token in tokens:\n",
    "            if token != word and token.endswith(word[-n:]):\n",
    "                return token\n",
    "    return choice(tokens)\n",
    "\n",
    "\n",
    "def generate_rhyming_biverse(seed_word, tokens, forward_bigrams, backwards_bigrams, first_size, second_size, rnd_seed):\n",
    "    first_line = prob_walk(seed_word, first_size, forward_bigrams, rnd_seed)\n",
    "    rhyming_word = find_rhyming(first_line[-1], tokens, rnd_seed)\n",
    "    second_line = prob_walk(rhyming_word, second_size, backwards_bigrams, rnd_seed)\n",
    "    \n",
    "    return ' '.join(first_line) + '\\n' + ' '.join(second_line[::-1])\n",
    "\n",
    "\n",
    "class RhymingHMM:\n",
    "    def fit(self, sorted_tokens):\n",
    "        self.sorted_tokens = sorted_tokens\n",
    "        self.bigram_prob = calc_bigram_prob(sorted_tokens)\n",
    "        self.bigram_prob_rev = calc_bigram_prob(sorted_tokens[::-1])\n",
    "        return self\n",
    "\n",
    "    def generate_multiple_rhyming_biverses(self, size, seed_word, line_sizes, rnd_seed):\n",
    "        first_line_size, second_line_size = line_sizes\n",
    "        for _ in range(size):\n",
    "            yield generate_rhyming_biverse(\n",
    "                seed_word, self.sorted_tokens, self.bigram_prob, self.bigram_prob_rev,\n",
    "                first_line_size, second_line_size, rnd_seed\n",
    "            )\n",
    "\n",
    "            seed_random(rnd_seed)\n",
    "            seed_word = choice(self.sorted_tokens)\n",
    "\n",
    "    def rhyme(self, size, seed_word, line_sizes, rnd_seed):\n",
    "        result = self.generate_multiple_rhyming_biverses(size, seed_word, line_sizes, rnd_seed)\n",
    "        return '\\n'.join(result)"
   ]
  },
  {
   "cell_type": "code",
   "execution_count": 418,
   "metadata": {},
   "outputs": [
    {
     "data": {
      "text/plain": [
       "['нощта', 'е', 'черна', 'и', 'зловеща', 'нощта', 'е', 'ледна', 'като', 'смърт']"
      ]
     },
     "execution_count": 418,
     "metadata": {},
     "output_type": "execute_result"
    }
   ],
   "source": [
    "sorted_tokens = get_tokens_from_file('data/smirnenski.txt')\n",
    "sorted_tokens[:10]"
   ]
  },
  {
   "cell_type": "code",
   "execution_count": 419,
   "metadata": {},
   "outputs": [
    {
     "name": "stdout",
     "output_type": "stream",
     "text": [
      "3644 1673\n"
     ]
    }
   ],
   "source": [
    "print(len(sorted_tokens), len(set(sorted_tokens)))"
   ]
  },
  {
   "cell_type": "code",
   "execution_count": 420,
   "metadata": {},
   "outputs": [],
   "source": [
    "bigram_prob = calc_bigram_prob(sorted_tokens)\n",
    "bigram_prob_rev = calc_bigram_prob(sorted_tokens[::-1])"
   ]
  },
  {
   "cell_type": "code",
   "execution_count": 421,
   "metadata": {},
   "outputs": [
    {
     "data": {
      "text/plain": [
       "[('звезда', {'и': 1, 'кървавата': 1, 'на': 1, 'се': 1}),\n",
       " ('води', {'подаде': 1}),\n",
       " ('издигат', {'на': 1}),\n",
       " ('бронята', {'нощите': 1}),\n",
       " ('назад', {'делничните': 1, 'скрил': 1}),\n",
       " ('учуди', {'съдбоносен': 1}),\n",
       " ('синове', {'вбраздени': 1, 'те': 1}),\n",
       " ('развява', {'до': 1}),\n",
       " ('край', {'о': 1, '—': 1}),\n",
       " ('верига', {'пот': 1})]"
      ]
     },
     "execution_count": 421,
     "metadata": {},
     "output_type": "execute_result"
    }
   ],
   "source": [
    "list(bigram_freq_dict.items())[50:60]"
   ]
  },
  {
   "cell_type": "code",
   "execution_count": 477,
   "metadata": {},
   "outputs": [
    {
     "data": {
      "text/plain": [
       "('му',\n",
       " {'буря': 1,\n",
       "  'вечерта': 1,\n",
       "  'гърми': 1,\n",
       "  'и': 3,\n",
       "  'призрачни': 1,\n",
       "  'първи': 1,\n",
       "  'слънцето': 1,\n",
       "  'шумни': 1})"
      ]
     },
     "execution_count": 477,
     "metadata": {},
     "output_type": "execute_result"
    }
   ],
   "source": [
    "sorted(bigram_freq_dict.items(), key=lambda x: max(map(lambda y: y[1], x[1].items())))[-10]"
   ]
  },
  {
   "cell_type": "code",
   "execution_count": 423,
   "metadata": {},
   "outputs": [
    {
     "data": {
      "text/plain": [
       "[('силует', {'на': 1.0}),\n",
       " ('отговарят', {'чрез': 1.0}),\n",
       " ('сребросинкави', {'петна': 1.0}),\n",
       " ('улицата', {'със': 0.5, 'шумна': 0.5}),\n",
       " ('строга', {'на': 1.0}),\n",
       " ('хладната', {'си': 1.0}),\n",
       " ('озарен', {'от': 0.5, 'с': 0.5}),\n",
       " ('стозвучно', {'загърмя': 1.0}),\n",
       " ('мощ',\n",
       "  {'горите': 0.3333333333333333,\n",
       "   'заканата': 0.3333333333333333,\n",
       "   'слепци': 0.3333333333333333}),\n",
       " ('друго', {'рухват': 1.0})]"
      ]
     },
     "execution_count": 423,
     "metadata": {},
     "output_type": "execute_result"
    }
   ],
   "source": [
    "list(bigram_prob.items())[10:20]"
   ]
  },
  {
   "cell_type": "code",
   "execution_count": 424,
   "metadata": {},
   "outputs": [],
   "source": [
    "generated_tokens = prob_walk('улицата', 20, bigram_prob, 5)"
   ]
  },
  {
   "cell_type": "code",
   "execution_count": 425,
   "metadata": {},
   "outputs": [
    {
     "name": "stdout",
     "output_type": "stream",
     "text": [
      "улицата със поглед замечтан навън цареше смъртна пустота и стене глухо прибледнелите уста а ний нов път хусарите сред дима на\n"
     ]
    }
   ],
   "source": [
    "print(\" \".join(generated_tokens))"
   ]
  },
  {
   "cell_type": "code",
   "execution_count": 426,
   "metadata": {},
   "outputs": [],
   "source": [
    "generated_tokens = prob_walk('деца', 15, bigram_prob, 0)"
   ]
  },
  {
   "cell_type": "code",
   "execution_count": 427,
   "metadata": {},
   "outputs": [
    {
     "name": "stdout",
     "output_type": "stream",
     "text": [
      "деца на черна нерадост възмъжах и колко скръб в сърцата пролетарски свят спартаков път над тях\n"
     ]
    }
   ],
   "source": [
    "print(' '.join(generated_tokens))"
   ]
  },
  {
   "cell_type": "code",
   "execution_count": 429,
   "metadata": {},
   "outputs": [
    {
     "data": {
      "text/plain": [
       "'сърцата'"
      ]
     },
     "execution_count": 429,
     "metadata": {},
     "output_type": "execute_result"
    }
   ],
   "source": [
    "find_rhyming('улицата', sorted_tokens, 0)"
   ]
  },
  {
   "cell_type": "markdown",
   "metadata": {},
   "source": [
    "---"
   ]
  },
  {
   "cell_type": "code",
   "execution_count": 431,
   "metadata": {},
   "outputs": [
    {
     "data": {
      "text/plain": [
       "['деца', 'на', 'черна', 'нерадост', 'възмъжах']"
      ]
     },
     "execution_count": 431,
     "metadata": {},
     "output_type": "execute_result"
    }
   ],
   "source": [
    "prob_walk('деца', 4, bigram_prob, 0)"
   ]
  },
  {
   "cell_type": "code",
   "execution_count": 321,
   "metadata": {},
   "outputs": [
    {
     "data": {
      "text/plain": [
       "'размах'"
      ]
     },
     "execution_count": 321,
     "metadata": {},
     "output_type": "execute_result"
    }
   ],
   "source": [
    "find_rhyming('възмъжах', sorted_tokens)"
   ]
  },
  {
   "cell_type": "code",
   "execution_count": 413,
   "metadata": {
    "scrolled": true
   },
   "outputs": [
    {
     "name": "stdout",
     "output_type": "stream",
     "text": [
      "и стиснала детенцето си да възсияй\n",
      "света и неговия лъч сияй\n"
     ]
    }
   ],
   "source": [
    "print(generate_rhyming_biverse('и', sorted_tokens, bigram_prob, bigram_prob_rev, 5, 4, 1))"
   ]
  },
  {
   "cell_type": "code",
   "execution_count": 435,
   "metadata": {},
   "outputs": [],
   "source": [
    "model = RhymingHMM().fit(sorted_tokens)"
   ]
  },
  {
   "cell_type": "code",
   "execution_count": 479,
   "metadata": {},
   "outputs": [
    {
     "name": "stdout",
     "output_type": "stream",
     "text": [
      "цветарка копняла на душа над очите\n",
      "ще елате пръст метежна кървавите\n",
      "ужас зловеща над очите него морни\n",
      "ръцете дебне непознати е беломраморни\n",
      "блатата стихва безшумно нужно днес тръгват\n",
      "вълни навън ужаса в трепват\n",
      "стозвучний спуснат години ти а нощта\n",
      "навън ужаса в берлин свойта\n"
     ]
    }
   ],
   "source": [
    "print(model.rhyme(4, 'цветарка', (5, 4), 0))"
   ]
  },
  {
   "cell_type": "code",
   "execution_count": null,
   "metadata": {},
   "outputs": [],
   "source": []
  },
  {
   "cell_type": "code",
   "execution_count": null,
   "metadata": {},
   "outputs": [],
   "source": []
  }
 ],
 "metadata": {
  "kernelspec": {
   "display_name": "Python 3",
   "language": "python",
   "name": "python3"
  },
  "language_info": {
   "codemirror_mode": {
    "name": "ipython",
    "version": 3
   },
   "file_extension": ".py",
   "mimetype": "text/x-python",
   "name": "python",
   "nbconvert_exporter": "python",
   "pygments_lexer": "ipython3",
   "version": "3.5.2"
  }
 },
 "nbformat": 4,
 "nbformat_minor": 2
}
