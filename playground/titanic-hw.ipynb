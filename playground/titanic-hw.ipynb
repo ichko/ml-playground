{
 "cells": [
  {
   "cell_type": "markdown",
   "metadata": {},
   "source": [
    "# Титаник"
   ]
  },
  {
   "cell_type": "markdown",
   "metadata": {},
   "source": [
    "## Зареждане на необходимите библиотеки"
   ]
  },
  {
   "cell_type": "code",
   "execution_count": null,
   "metadata": {},
   "outputs": [],
   "source": [
    "import numpy as np\n",
    "import matplotlib.pyplot as plt\n",
    "import pandas as pd\n",
    "import seaborn as sns\n",
    "import mglearn\n",
    "\n",
    "from sklearn.linear_model import Lasso, LogisticRegression\n",
    "\n",
    "from sklearn.model_selection import train_test_split, cross_val_score\n",
    "\n",
    "from sklearn.ensemble import ExtraTreesClassifier, RandomForestClassifier\n",
    "\n",
    "from sklearn.svm import SVC\n",
    "\n",
    "from sklearn.preprocessing import \\\n",
    "    Imputer, \\\n",
    "    LabelBinarizer, \\\n",
    "    StandardScaler, \\\n",
    "    PolynomialFeatures\n",
    "\n",
    "from sklearn.pipeline import Pipeline, FeatureUnion\n",
    "\n",
    "from sklearn.base import BaseEstimator, TransformerMixin\n",
    "from sklearn.cross_validation import StratifiedKFold\n",
    "from sklearn.grid_search import GridSearchCV\n",
    "\n",
    "from IPython.display import display\n",
    "\n",
    "%matplotlib inline\n",
    "import warnings\n",
    "warnings.filterwarnings('ignore')\n",
    "sns.set()"
   ]
  },
  {
   "cell_type": "code",
   "execution_count": null,
   "metadata": {},
   "outputs": [],
   "source": [
    "# Loading the data\n",
    "train = pd.read_csv('data/titanic-train.csv', index_col='PassengerId')\n",
    "test = pd.read_csv('data/titanic-test.csv', index_col='PassengerId')\n",
    "\n",
    "full_data = [train, test]\n",
    "\n",
    "# Lets have a look at the data\n",
    "train.head(5)"
   ]
  },
  {
   "cell_type": "markdown",
   "metadata": {},
   "source": [
    "## Разглеждане на данните"
   ]
  },
  {
   "cell_type": "code",
   "execution_count": null,
   "metadata": {},
   "outputs": [],
   "source": [
    "train.describe()"
   ]
  },
  {
   "cell_type": "markdown",
   "metadata": {},
   "source": [
    "Имаме липсващи данни."
   ]
  },
  {
   "cell_type": "code",
   "execution_count": null,
   "metadata": {},
   "outputs": [],
   "source": [
    "train.info()"
   ]
  },
  {
   "cell_type": "code",
   "execution_count": null,
   "metadata": {},
   "outputs": [],
   "source": [
    "for data in full_data:\n",
    "    print(data.isnull().sum().sort_values())"
   ]
  },
  {
   "cell_type": "markdown",
   "metadata": {},
   "source": [
    "Трябва да попълним липсващите данни, но преди това..."
   ]
  },
  {
   "cell_type": "markdown",
   "metadata": {},
   "source": [
    "## Базови модели"
   ]
  },
  {
   "cell_type": "code",
   "execution_count": null,
   "metadata": {},
   "outputs": [],
   "source": [
    "X = train[['Pclass', 'Age', 'SibSp', 'Parch', 'Fare']]\n",
    "y = train['Survived']\n",
    "\n",
    "X['Age'].fillna(X['Age'].mean(), inplace=True)\n",
    "\n",
    "X_train, X_test, y_train, y_test = train_test_split(X, y, random_state=8, stratify=y)"
   ]
  },
  {
   "cell_type": "code",
   "execution_count": null,
   "metadata": {},
   "outputs": [],
   "source": [
    "lr_model = LogisticRegression().fit(X_train, y_train)\n",
    "rf_model = RandomForestClassifier().fit(X_train, y_train)\n",
    "svc_model = SVC(C=1).fit(X_train, y_train)\n",
    "\n",
    "print(\"logistic recression train score:\", lr_model.score(X_train, y_train))\n",
    "print(\"logistic recression test score: \", lr_model.score(X_test, y_test), end='\\n\\n')\n",
    "\n",
    "print(\"random forest train score:\", rf_model.score(X_train, y_train))\n",
    "print(\"random forest recression test score: \", rf_model.score(X_test, y_test), end='\\n\\n')\n",
    "\n",
    "print(\"support vector classifier score:\", svc_model.score(X_train, y_train))\n",
    "print(\"support vector classifier score: \", svc_model.score(X_test, y_test), end='\\n\\n')"
   ]
  },
  {
   "cell_type": "markdown",
   "metadata": {},
   "source": [
    "Доста овърфит при svm и random forest класификаторите."
   ]
  },
  {
   "cell_type": "markdown",
   "metadata": {},
   "source": [
    "# Малко помощни класове"
   ]
  },
  {
   "cell_type": "markdown",
   "metadata": {},
   "source": [
    "Този клас ще one-hot-encode-ва стрингови (категорийни) фийчъри. Подходящ е за pipeline-ове."
   ]
  },
  {
   "cell_type": "code",
   "execution_count": null,
   "metadata": {},
   "outputs": [],
   "source": [
    "class StringLabelBinerizer(LabelBinarizer):\n",
    "    def __init__(self, prefix='col', key=lambda x: x, **kwargs):\n",
    "        self.prefix = prefix\n",
    "        self.key = key\n",
    "        super(StringLabelBinerizer, self).__init__(**kwargs)\n",
    "    \n",
    "    def map_input(self, y):\n",
    "        return y\n",
    "\n",
    "    def fit(self, y, prefix='col', key=lambda x: x):\n",
    "        self.key = key\n",
    "        return super(StringLabelBinerizer, self).fit(self.map_input(y))\n",
    "\n",
    "    def transform(self, y):\n",
    "        cols = list(map(lambda s: self.prefix + '_' + s, self.classes_))\n",
    "        if len(cols) == 2:\n",
    "            cols = [self.prefix]\n",
    "        result = pd.DataFrame(super(StringLabelBinerizer, self).transform(self.map_input(y)), columns=cols)\n",
    "        result.index += 1\n",
    "        return result\n",
    "        \n",
    "    def fit_transform(self, y, *_):\n",
    "        self.fit(y)\n",
    "        return self.transform(y)"
   ]
  },
  {
   "cell_type": "markdown",
   "metadata": {},
   "source": [
    "Тези класове са от лекции. Използват се при създаването на трансформиращия пайплайн."
   ]
  },
  {
   "cell_type": "code",
   "execution_count": null,
   "metadata": {},
   "outputs": [],
   "source": [
    "class ItemSelector(BaseEstimator, TransformerMixin):\n",
    "    def __init__(self, key):\n",
    "        self.key = key\n",
    "\n",
    "    def fit(self, x, y=None):\n",
    "        return self\n",
    "\n",
    "    def transform(self, data_dict):\n",
    "        return data_dict[[self.key]]\n",
    "\n",
    "class StringImputer(TransformerMixin):\n",
    "    def fit(self, X, *_):\n",
    "        self.modes = X.mode().iloc[0]\n",
    "        return self\n",
    "        \n",
    "    def transform(self, X, y=None):\n",
    "        return X.fillna(self.modes)"
   ]
  },
  {
   "cell_type": "markdown",
   "metadata": {},
   "source": [
    "# Малко feature engineering"
   ]
  },
  {
   "cell_type": "code",
   "execution_count": null,
   "metadata": {},
   "outputs": [],
   "source": [
    "for data in full_data:\n",
    "    data['FamilySize'] = data['SibSp'] + data['Parch'] + 1\n",
    "    data['IsAlone'] = (data['FamilySize'] == 1).apply(int)"
   ]
  },
  {
   "cell_type": "markdown",
   "metadata": {},
   "source": [
    "Липсваше и една стойност във Fare фийчъра на тест сет-а. "
   ]
  },
  {
   "cell_type": "code",
   "execution_count": null,
   "metadata": {},
   "outputs": [],
   "source": [
    "test['Fare'] = train['Fare'].mean()"
   ]
  },
  {
   "cell_type": "markdown",
   "metadata": {},
   "source": [
    "Да се опитаме да попълним липсващите Age стойности с линейна регресия."
   ]
  },
  {
   "cell_type": "code",
   "execution_count": null,
   "metadata": {},
   "outputs": [],
   "source": [
    "X_age_train = train[['Pclass', 'FamilySize', 'IsAlone', 'Fare']]\n",
    "X_age_test = test[['Pclass', 'FamilySize', 'IsAlone', 'Fare']]\n",
    "\n",
    "X_age_non_empty = X_age_train[~train['Age'].isnull()]\n",
    "y_age_non_empty = train['Age'][~train['Age'].isnull()]\n",
    "\n",
    "poly_feature_mapper = PolynomialFeatures(degree=1)\n",
    "poly_feature_mapper.fit(X_age_non_empty)\n",
    "\n",
    "age_implant_model = Lasso(random_state=0, alpha=0.01)\n",
    "age_implant_model.fit(poly_feature_mapper.transform(X_age_non_empty), y_age_non_empty)\n",
    "\n",
    "scores = cross_val_score(age_implant_model, poly_feature_mapper.transform(X_age_non_empty), y_age_non_empty, cv=3)\n",
    "print('Age inplant model score: '+ str(scores.mean()))"
   ]
  },
  {
   "cell_type": "markdown",
   "metadata": {},
   "source": [
    "Не можах да докарам до по-добра оценка :D"
   ]
  },
  {
   "cell_type": "code",
   "execution_count": null,
   "metadata": {},
   "outputs": [],
   "source": [
    "train['LearnedAge'] = train['Age']\n",
    "test['LearnedAge'] = test['Age']\n",
    "\n",
    "X_age_empty_train = poly_feature_mapper.transform(X_age_train[train['Age'].isnull()])\n",
    "X_age_empty_test = poly_feature_mapper.transform(X_age_test[test['Age'].isnull()])\n",
    "\n",
    "train['LearnedAge'][train['Age'].isnull()] = age_implant_model.predict(X_age_empty_train)\n",
    "test['LearnedAge'][test['Age'].isnull()] = age_implant_model.predict(X_age_empty_test)"
   ]
  },
  {
   "cell_type": "code",
   "execution_count": null,
   "metadata": {},
   "outputs": [],
   "source": [
    "for data in full_data:\n",
    "    data['IsChild'] = (data['LearnedAge'] <= 18).apply(int)"
   ]
  },
  {
   "cell_type": "code",
   "execution_count": null,
   "metadata": {},
   "outputs": [],
   "source": [
    "sns.distplot(train['Age'][~train['Age'].isnull()])"
   ]
  },
  {
   "cell_type": "markdown",
   "metadata": {},
   "source": [
    "Да видим как изглежда дистрибуцията на годините след вкарването на новите данни."
   ]
  },
  {
   "cell_type": "code",
   "execution_count": null,
   "metadata": {},
   "outputs": [],
   "source": [
    "sns.distplot(train['LearnedAge'])"
   ]
  },
  {
   "cell_type": "markdown",
   "metadata": {},
   "source": [
    "Изглежда сме добавили доста хора на по 25-30 години."
   ]
  },
  {
   "cell_type": "markdown",
   "metadata": {},
   "source": [
    "## Нека да видим зависимостите в числовите фийчъри "
   ]
  },
  {
   "cell_type": "code",
   "execution_count": null,
   "metadata": {},
   "outputs": [],
   "source": [
    "def corr_map(data_frame):\n",
    "    plt.figure(figsize=(14, 12))\n",
    "    plt.title('Correlation of features', y=1.05, size=15)\n",
    "    sns.set(font_scale=0.8)\n",
    "    sns.heatmap(data_frame.astype(float).corr(), square=True, annot=True, cmap=plt.cm.viridis_r)\n",
    "\n",
    "numeric_cols = ['Pclass', 'LearnedAge', 'SibSp', 'Parch', 'Fare', 'FamilySize', 'IsAlone', 'IsChild']\n",
    "corr_map(train[numeric_cols])"
   ]
  },
  {
   "cell_type": "markdown",
   "metadata": {},
   "source": [
    "# Създаване на pipeline за енкодване и скалиране на данните"
   ]
  },
  {
   "cell_type": "code",
   "execution_count": null,
   "metadata": {},
   "outputs": [],
   "source": [
    "transformer = Pipeline([\n",
    "    ('union', FeatureUnion([\n",
    "        ('age', Pipeline([\n",
    "            ('select', ItemSelector('LearnedAge')),\n",
    "            ('scaler', StandardScaler()),\n",
    "        ])),\n",
    "        ('family_size', Pipeline([\n",
    "            ('select', ItemSelector('FamilySize')),\n",
    "            ('scaler', StandardScaler()),\n",
    "        ])),\n",
    "        ('is_alone', Pipeline([\n",
    "            ('select', ItemSelector('IsAlone')),\n",
    "        ])),\n",
    "        ('is_child', Pipeline([\n",
    "            ('select', ItemSelector('IsChild')),\n",
    "        ])),\n",
    "        ('sibsp', Pipeline([\n",
    "            ('select', ItemSelector('SibSp')),\n",
    "            ('scaler', StandardScaler()),\n",
    "        ])),\n",
    "        ('parch', Pipeline([\n",
    "            ('select', ItemSelector('Parch')),\n",
    "            ('scaler', StandardScaler()),\n",
    "        ])),\n",
    "        ('Fare', Pipeline([\n",
    "            ('select', ItemSelector('Fare')),\n",
    "            ('scaler', StandardScaler()),\n",
    "        ])),\n",
    "        ('gender', Pipeline([\n",
    "            ('select', ItemSelector('Sex')),\n",
    "            ('imputer', StringImputer()),\n",
    "            ('encoder', StringLabelBinerizer()),\n",
    "        ])),\n",
    "        ('embarked', Pipeline([\n",
    "            ('select', ItemSelector('Embarked')),\n",
    "            ('imputer', StringImputer()),\n",
    "            ('encoder', StringLabelBinerizer()),\n",
    "        ])),\n",
    "    ])),\n",
    "])"
   ]
  },
  {
   "cell_type": "code",
   "execution_count": null,
   "metadata": {
    "scrolled": true
   },
   "outputs": [],
   "source": [
    "svc_model = SVC(random_state=88)\n",
    "logistic_model = LogisticRegression(random_state=888)\n",
    "forest_model = RandomForestClassifier(random_state=88)\n",
    "\n",
    "X = transformer.fit_transform(train.drop(['Survived'], axis=1))\n",
    "y = train['Survived']\n",
    "\n",
    "scores = cross_val_score(svc_model, X, train['Survived'], cv=5)\n",
    "print('SVC model', scores.mean())\n",
    "\n",
    "scores = cross_val_score(logistic_model, X, train['Survived'], cv=5)\n",
    "print('Logistic model', scores.mean())\n",
    "\n",
    "scores = cross_val_score(forest_model, X, train['Survived'], cv=5)\n",
    "print('Random forest model', scores.mean())"
   ]
  },
  {
   "cell_type": "markdown",
   "metadata": {},
   "source": [
    "# Намаляне на броя параметри"
   ]
  },
  {
   "cell_type": "code",
   "execution_count": null,
   "metadata": {},
   "outputs": [],
   "source": [
    "feature_importance_model = ExtraTreesClassifier(random_state=88)\n",
    "feature_importance_model.fit(X, y)"
   ]
  },
  {
   "cell_type": "code",
   "execution_count": null,
   "metadata": {},
   "outputs": [],
   "source": [
    "def plot_feature_importance(model):\n",
    "    features = pd.DataFrame()\n",
    "    features['importance'] = model.feature_importances_\n",
    "    features.sort_values(by=['importance'], ascending=True, inplace=True)\n",
    "    features.plot(kind='bar', figsize=(20, 5))\n",
    "    \n",
    "plot_feature_importance(feature_importance_model)"
   ]
  },
  {
   "cell_type": "markdown",
   "metadata": {},
   "source": [
    "За съжаление пайплайна ни е изплюл data-та без лейбали >:(, лош пайплайн."
   ]
  },
  {
   "cell_type": "markdown",
   "metadata": {},
   "source": [
    "# Търсене на добри хиперпараметри"
   ]
  },
  {
   "cell_type": "markdown",
   "metadata": {},
   "source": [
    "Първо да подготвим моделите и параметрите за които ще търсим."
   ]
  },
  {
   "cell_type": "code",
   "execution_count": null,
   "metadata": {},
   "outputs": [],
   "source": [
    "svc_model = SVC(random_state=88)\n",
    "logistic_model = LogisticRegression(random_state=888)\n",
    "forest_model = RandomForestClassifier(random_state=88)\n",
    "\n",
    "cross_validation = StratifiedKFold(y, n_folds=3)\n",
    "\n",
    "svc_params = [\n",
    "    {'C': [1, 10], 'kernel': ['linear']},\n",
    "    {'C': [1, 10], 'gamma': [0.001, 0.0001], 'kernel': ['rbf']},\n",
    "]\n",
    "logistic_params = {'C': [0.01, 0.1, 1, 10] }\n",
    "forest_params = {\n",
    "    'max_depth' : [5, 6],\n",
    "    'n_estimators': [200, 210],\n",
    "    'criterion': ['entropy']\n",
    "}\n",
    "\n",
    "svc_grid_search = GridSearchCV(svc_model, param_grid=svc_params, cv=cross_validation)\n",
    "logistic_grid_search = GridSearchCV(logistic_model, param_grid=logistic_params, cv=cross_validation)\n",
    "forest_grid_search = GridSearchCV(forest_model, param_grid=forest_params, cv=cross_validation)"
   ]
  },
  {
   "cell_type": "markdown",
   "metadata": {},
   "source": [
    "Пускаме моделите да се тренират, т.е. да търсят добри параметри. **(Тази стъпка ще отнеме повечко време)**"
   ]
  },
  {
   "cell_type": "code",
   "execution_count": null,
   "metadata": {},
   "outputs": [],
   "source": [
    "svc_grid_search.fit(X, y)\n",
    "logistic_grid_search.fit(X, y)\n",
    "forest_grid_search.fit(X, y)\n",
    "\n",
    "print('Forest score', svc_grid_search.best_score_)\n",
    "print('Forest score', svc_grid_search.best_params_, end='\\n\\n')\n",
    "\n",
    "print('Forest score', logistic_grid_search.best_score_)\n",
    "print('Forest score', logistic_grid_search.best_params_, end='\\n\\n')\n",
    "\n",
    "print('Forest score', forest_grid_search.best_score_)\n",
    "print('Forest score', forest_grid_search.best_params_, end='\\n\\n')"
   ]
  },
  {
   "cell_type": "markdown",
   "metadata": {},
   "source": [
    "Форест модела изглежда най-обещаващ,\n",
    "\n",
    "Forest score {'criterion': 'entropy', 'max_depth': 5, 'n_estimators': 210}"
   ]
  },
  {
   "cell_type": "markdown",
   "metadata": {},
   "source": [
    "# Събмитване в кагел"
   ]
  },
  {
   "cell_type": "markdown",
   "metadata": {},
   "source": [
    "Избираме най-добрия модел с най-оптимизираните параметри и предиктваме с него. Полученият резултат събмитваме в кагел."
   ]
  },
  {
   "cell_type": "code",
   "execution_count": null,
   "metadata": {},
   "outputs": [],
   "source": [
    "def save_predictions(predictions):\n",
    "    frame = pd.DataFrame({\n",
    "        'PassengerId': pd.read_csv('data/titanic-test.csv').PassengerId,\n",
    "        'Survived': predictions\n",
    "    })\n",
    "    frame = frame.set_index('PassengerId')\n",
    "    frame.to_csv('data/titanic-test-output.csv')\n",
    "    frame.head()"
   ]
  },
  {
   "cell_type": "code",
   "execution_count": null,
   "metadata": {
    "scrolled": false
   },
   "outputs": [],
   "source": [
    "model = forest_grid_search\n",
    "\n",
    "X_test = transformer.transform(test)\n",
    "y_test = model.predict(X_test)"
   ]
  },
  {
   "cell_type": "code",
   "execution_count": null,
   "metadata": {},
   "outputs": [],
   "source": [
    "save_predictions(y_test)"
   ]
  },
  {
   "cell_type": "markdown",
   "metadata": {},
   "source": [
    "Your submission scored 0.78468. Keep trying!"
   ]
  },
  {
   "cell_type": "markdown",
   "metadata": {},
   "source": [
    "# TITENIC"
   ]
  },
  {
   "cell_type": "markdown",
   "metadata": {},
   "source": [
    "![titenic](data/titenic.jpg)"
   ]
  }
 ],
 "metadata": {
  "kernelspec": {
   "display_name": "Python 3",
   "language": "python",
   "name": "python3"
  },
  "language_info": {
   "codemirror_mode": {
    "name": "ipython",
    "version": 3
   },
   "file_extension": ".py",
   "mimetype": "text/x-python",
   "name": "python",
   "nbconvert_exporter": "python",
   "pygments_lexer": "ipython3",
   "version": "3.4.3"
  }
 },
 "nbformat": 4,
 "nbformat_minor": 2
}
