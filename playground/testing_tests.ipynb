{
 "cells": [
  {
   "cell_type": "code",
   "execution_count": 6,
   "metadata": {},
   "outputs": [],
   "source": [
    "with open('data/smirnenski.txt') as f:\n",
    "    content = f.read()"
   ]
  },
  {
   "cell_type": "code",
   "execution_count": 22,
   "metadata": {},
   "outputs": [
    {
     "name": "stdout",
     "output_type": "stream",
     "text": [
      "Нощта е че  -  21589\n"
     ]
    }
   ],
   "source": [
    "print(content[:10], ' - ', len(content))"
   ]
  },
  {
   "cell_type": "code",
   "execution_count": 76,
   "metadata": {},
   "outputs": [],
   "source": [
    "from nltk.tokenize import sent_tokenize, TweetTokenizer\n",
    "from string import punctuation\n",
    "from os import scandir\n",
    "tokenizer = TweetTokenizer()\n",
    "\n",
    "def preprocess_text(content):\n",
    "    sentences = sent_tokenize(content)\n",
    "    tokens = []\n",
    "    for _sent in sentences:\n",
    "        sent_tokens = tokenizer.tokenize(_sent)\n",
    "        sent_tokens = [_tok.lower() for _tok in sent_tokens if _tok not in punctuation]\n",
    "        tokens += sent_tokens\n",
    "    return tokens"
   ]
  },
  {
   "cell_type": "code",
   "execution_count": 103,
   "metadata": {},
   "outputs": [],
   "source": [
    "sorted_tokens = preprocess_text(content)"
   ]
  },
  {
   "cell_type": "code",
   "execution_count": 104,
   "metadata": {},
   "outputs": [
    {
     "name": "stdout",
     "output_type": "stream",
     "text": [
      "3644 1673\n"
     ]
    }
   ],
   "source": [
    "print(len(sorted_tokens), len(set(sorted_tokens)))"
   ]
  },
  {
   "cell_type": "code",
   "execution_count": 105,
   "metadata": {},
   "outputs": [],
   "source": [
    "from collections import defaultdict\n",
    "\n",
    "def calc_bigram_freq(sorted_tokens):\n",
    "    result = defaultdict(lambda: defaultdict(lambda: 0))\n",
    "\n",
    "    for f, s in zip(sorted_tokens, sorted_tokens[1:]):\n",
    "        result[f][s] += 1\n",
    "        \n",
    "    return result"
   ]
  },
  {
   "cell_type": "code",
   "execution_count": 116,
   "metadata": {},
   "outputs": [],
   "source": [
    "bigram_freq = calc_bigram_freq([token for token in sorted_tokens if len(token) > 2])"
   ]
  },
  {
   "cell_type": "code",
   "execution_count": 195,
   "metadata": {},
   "outputs": [
    {
     "data": {
      "text/plain": [
       "[('назад', {'назад': 1, 'стиснал': 1}),\n",
       " ('учуди', {'зовът': 1}),\n",
       " ('синове', {'безумци': 1, 'през': 1}),\n",
       " ('развява', {'пред': 1}),\n",
       " ('край', {'нас': 1, 'него': 1}),\n",
       " ('верига', {'майката-земя': 1}),\n",
       " ('безумно', {'крещи': 1, 'смелата': 1}),\n",
       " ('съдбоносен', {'плам': 1}),\n",
       " ('пламъците', {'вулкана': 1}),\n",
       " ('лице', {'срещна': 1})]"
      ]
     },
     "execution_count": 195,
     "metadata": {},
     "output_type": "execute_result"
    }
   ],
   "source": [
    "bigram_freq_dict = {k: dict(v) for k, v in bigram_freq.items()}\n",
    "list(bigram_freq_dict.items())[50:60]"
   ]
  },
  {
   "cell_type": "code",
   "execution_count": 196,
   "metadata": {},
   "outputs": [
    {
     "data": {
      "text/plain": [
       "[('деца',\n",
       "  {'вий': 1,\n",
       "   'възрастват': 1,\n",
       "   'лондон': 1,\n",
       "   'майката': 3,\n",
       "   'обидата': 1,\n",
       "   'старци': 1,\n",
       "   'шумний': 1}),\n",
       " ('елате', {'вий': 3, 'подлеци': 1}),\n",
       " ('първи', {'зов': 1, 'май': 5, 'тъмнината': 2}),\n",
       " ('майката', {'земя': 5})]"
      ]
     },
     "execution_count": 196,
     "metadata": {},
     "output_type": "execute_result"
    }
   ],
   "source": [
    "sorted(bigram_freq_dict.items(), key=lambda x: max(map(lambda y: y[1], x[1].items())))[-4:]"
   ]
  },
  {
   "cell_type": "code",
   "execution_count": 134,
   "metadata": {},
   "outputs": [],
   "source": [
    "bigram_prob = {f: {s: freq / sum(map(lambda x: x[1], goto.items())) for s, freq in goto.items()} \n",
    "               for f, goto in bigram_freq_dict.items()}"
   ]
  },
  {
   "cell_type": "code",
   "execution_count": 140,
   "metadata": {},
   "outputs": [
    {
     "data": {
      "text/plain": [
       "[('отговарят', {'чрез': 1.0}),\n",
       " ('сребросинкави', {'петна': 1.0}),\n",
       " ('улицата', {'със': 0.5, 'шумна': 0.5}),\n",
       " ('строга', {'този': 1.0}),\n",
       " ('хладната', {'гръд': 1.0}),\n",
       " ('озарен', {'бледата': 0.5, 'чудеса': 0.5}),\n",
       " ('стозвучно', {'загърмя': 1.0}),\n",
       " ('мощ',\n",
       "  {'горите': 0.3333333333333333,\n",
       "   'заканата': 0.3333333333333333,\n",
       "   'слепци': 0.3333333333333333}),\n",
       " ('друго', {'рухват': 1.0}),\n",
       " ('беседваш', {'гостенина': 1.0})]"
      ]
     },
     "execution_count": 140,
     "metadata": {},
     "output_type": "execute_result"
    }
   ],
   "source": [
    "list(bigram_prob.items())[10:20]"
   ]
  },
  {
   "cell_type": "code",
   "execution_count": 183,
   "metadata": {},
   "outputs": [],
   "source": [
    "from random import random, choice, seed as seed_random\n",
    "\n",
    "def prob_choice(items, key=lambda x: x, seed=None):\n",
    "    seed_random(seed)\n",
    "\n",
    "    weights = map(key, items)\n",
    "    total = sum(weights)\n",
    "    s = 0\n",
    "\n",
    "    for i, w in enumerate(weights):\n",
    "        if s >= random():\n",
    "            return items[i]\n",
    "        s += w\n",
    "    return choice(list(items))\n",
    "    \n",
    "\n",
    "def prob_walk(seed_word, mutation, gen_size, bigram_prob, seed=None):\n",
    "    result = [seed_word]\n",
    "    for _ in range(gen_size):\n",
    "        new_word = prob_choice(bigram_prob[result[-1]].items(), key=lambda x: x[1], seed=seed)\n",
    "        result.append(new_word[0])\n",
    "        \n",
    "    return result"
   ]
  },
  {
   "cell_type": "code",
   "execution_count": 193,
   "metadata": {},
   "outputs": [],
   "source": [
    "generated_tokens = prob_walk('улицата', 1, 20, bigram_prob, 5)"
   ]
  },
  {
   "cell_type": "code",
   "execution_count": 192,
   "metadata": {},
   "outputs": [
    {
     "name": "stdout",
     "output_type": "stream",
     "text": [
      "улицата със поглед невинност някогашна сегашният ужас снежния берлин шумний град робите разкъсали студените окови властно който вдига смелите младежи сам\n"
     ]
    }
   ],
   "source": [
    "print(\" \".join(generated_tokens))"
   ]
  },
  {
   "cell_type": "code",
   "execution_count": 205,
   "metadata": {},
   "outputs": [],
   "source": [
    "generated_tokens = prob_walk('мощ', 1, 13, bigram_prob, 88)"
   ]
  },
  {
   "cell_type": "code",
   "execution_count": 206,
   "metadata": {},
   "outputs": [
    {
     "name": "stdout",
     "output_type": "stream",
     "text": [
      "мощ слепци поведени хищници хиени звънтяха сабли летяха настървени кървавата вечер теменужена виждаш бедните\n"
     ]
    }
   ],
   "source": [
    "print(\" \".join(generated_tokens))"
   ]
  },
  {
   "cell_type": "code",
   "execution_count": null,
   "metadata": {},
   "outputs": [],
   "source": []
  }
 ],
 "metadata": {
  "kernelspec": {
   "display_name": "Python 3",
   "language": "python",
   "name": "python3"
  },
  "language_info": {
   "codemirror_mode": {
    "name": "ipython",
    "version": 3
   },
   "file_extension": ".py",
   "mimetype": "text/x-python",
   "name": "python",
   "nbconvert_exporter": "python",
   "pygments_lexer": "ipython3",
   "version": "3.5.2"
  }
 },
 "nbformat": 4,
 "nbformat_minor": 2
}
