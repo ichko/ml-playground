{
 "cells": [
  {
   "cell_type": "code",
   "execution_count": 9,
   "metadata": {},
   "outputs": [
    {
     "data": {
      "text/plain": [
       "'2.1.0'"
      ]
     },
     "execution_count": 9,
     "metadata": {},
     "output_type": "execute_result"
    }
   ],
   "source": [
    "import numpy as np\n",
    "import tensorflow as tf\n",
    "import matplotlib.pyplot as plt\n",
    "\n",
    "tf.__version__"
   ]
  },
  {
   "cell_type": "code",
   "execution_count": 10,
   "metadata": {},
   "outputs": [
    {
     "data": {
      "text/plain": [
       "((70000, 28, 28), (70000,))"
      ]
     },
     "execution_count": 10,
     "metadata": {},
     "output_type": "execute_result"
    }
   ],
   "source": [
    "train, test = tf.keras.datasets.mnist.load_data()\n",
    "X, y = np.concatenate([train[0], test[0]]), np.concatenate([train[1], test[1]])\n",
    "X = X / 255.0\n",
    "X.shape, y.shape"
   ]
  },
  {
   "cell_type": "code",
   "execution_count": 11,
   "metadata": {},
   "outputs": [
    {
     "data": {
      "text/plain": [
       "8"
      ]
     },
     "execution_count": 11,
     "metadata": {},
     "output_type": "execute_result"
    },
    {
     "data": {
      "image/png": "[encoded data removed]",
      "text/plain": [
       "<Figure size 432x288 with 1 Axes>"
      ]
     },
     "metadata": {
      "needs_background": "light"
     },
     "output_type": "display_data"
    }
   ],
   "source": [
    "idx = 69420\n",
    "plt.imshow(X[idx])\n",
    "y[idx]"
   ]
  },
  {
   "cell_type": "code",
   "execution_count": 12,
   "metadata": {},
   "outputs": [],
   "source": [
    "def block(f, type='conv', ks=2, s=1, a='relu'):\n",
    "    assert type in ['conv', 'deconv']\n",
    "    layer = tf.keras.layers.Conv2D if type == 'conv' else \\\n",
    "            tf.keras.layers.Conv2DTranspose\n",
    "    c = layer(f, (ks, ks), strides=(s, s), activation=a)\n",
    "    bn = tf.keras.layers.BatchNormalization()\n",
    "    return lambda x: bn(c(x))"
   ]
  },
  {
   "cell_type": "code",
   "execution_count": 13,
   "metadata": {},
   "outputs": [],
   "source": [
    "def project(units, a='relu'):\n",
    "    f = tf.keras.layers.Flatten()\n",
    "    d = tf.keras.layers.Dense(units, activation=a)\n",
    "    return lambda x: d(f(x))"
   ]
  },
  {
   "cell_type": "code",
   "execution_count": 14,
   "metadata": {},
   "outputs": [],
   "source": [
    "def reshape(shape):\n",
    "    d = tf.keras.layers.Dense(np.prod(shape))\n",
    "    r = tf.keras.layers.Reshape(shape)\n",
    "    return lambda x: r(d(x))"
   ]
  },
  {
   "cell_type": "code",
   "execution_count": 15,
   "metadata": {},
   "outputs": [],
   "source": [
    "def encode():\n",
    "    i = tf.keras.Input((28, 28))\n",
    "    x = i\n",
    "    x = tf.keras.layers.Reshape((28, 28, 1))(x)\n",
    "    x = block(64, type='conv', ks=2, s=1, a='relu')(x)\n",
    "    x = block(32, type='conv', ks=2, s=1, a='relu')(x)\n",
    "    x = block(16, type='conv', ks=2, s=2, a='relu')(x)\n",
    "    x = block(8 , type='conv', ks=2, s=2, a='relu')(x)\n",
    "    x = block(4 , type='conv', ks=2, s=2, a='relu')(x)\n",
    "    x = project(32, a='tanh')(x)\n",
    "    m = tf.keras.Model(i, x, name='encoder')\n",
    "    return lambda x: m(x)"
   ]
  },
  {
   "cell_type": "code",
   "execution_count": 16,
   "metadata": {},
   "outputs": [],
   "source": [
    "def decode():\n",
    "    i = tf.keras.Input((32,))\n",
    "    x = i\n",
    "    x = reshape((6, 6, 1))(x)\n",
    "    x = block(8  , type='deconv', ks=2, s=2, a='relu')(x)\n",
    "    x = block(16 , type='deconv', ks=2, s=2, a='relu')(x)\n",
    "    x = block(32 , type='deconv', ks=2, s=1, a='relu')(x)\n",
    "    x = block(64 , type='deconv', ks=2, s=1, a='relu')(x)\n",
    "    x = block(128, type='deconv', ks=2, s=1, a='relu')(x)\n",
    "    x = block(64 , type='deconv', ks=2, s=1, a='relu')(x)\n",
    "    x = block(1  , type='deconv', ks=1, s=1, a='sigmoid')(x)\n",
    "    x = tf.keras.layers.Reshape((28, 28))(x)\n",
    "    m = tf.keras.Model(i, x, name='decoder')\n",
    "    return lambda x: m(x)"
   ]
  },
  {
   "cell_type": "code",
   "execution_count": 17,
   "metadata": {},
   "outputs": [],
   "source": [
    "class AE:\n",
    "    def __init__(self):\n",
    "        self.e = encode()\n",
    "        self.d = decode()\n",
    "\n",
    "        i = tf.keras.Input((28, 28), name='input')\n",
    "        x = i\n",
    "        x = self.e(x)\n",
    "        x = self.d(x)\n",
    "\n",
    "        self.net = tf.keras.Model(i, x, name='AE')\n",
    "        self.net.compile(\n",
    "            optimizer='adam',\n",
    "            loss='binary_crossentropy',\n",
    "            metrics=[],\n",
    "        )\n",
    "\n",
    "    def __call__(self, x):\n",
    "        return self.net(x)"
   ]
  },
  {
   "cell_type": "code",
   "execution_count": 18,
   "metadata": {},
   "outputs": [
    {
     "name": "stdout",
     "output_type": "stream",
     "text": [
      "Model: \"AE\"\n",
      "_________________________________________________________________\n",
      "Layer (type)                 Output Shape              Param #   \n",
      "=================================================================\n",
      "input (InputLayer)           [(None, 28, 28)]          0         \n",
      "_________________________________________________________________\n",
      "encoder (Model)              (None, 32)                12940     \n",
      "_________________________________________________________________\n",
      "decoder (Model)              (None, 28, 28)            79137     \n",
      "=================================================================\n",
      "Total params: 92,077\n",
      "Trainable params: 91,203\n",
      "Non-trainable params: 874\n",
      "_________________________________________________________________\n"
     ]
    }
   ],
   "source": [
    "ae = AE()\n",
    "ae.net.summary()"
   ]
  },
  {
   "cell_type": "code",
   "execution_count": null,
   "metadata": {},
   "outputs": [
    {
     "name": "stdout",
     "output_type": "stream",
     "text": [
      "Train on 70000 samples\n",
      "Epoch 1/20\n",
      "70000/70000 [==============================] - 11s 152us/sample - loss: 0.2082\n",
      "Epoch 2/20\n",
      "70000/70000 [==============================] - 10s 150us/sample - loss: 0.2052\n",
      "Epoch 3/20\n",
      "70000/70000 [==============================] - 10s 145us/sample - loss: 0.2024\n",
      "Epoch 4/20\n",
      "70000/70000 [==============================] - 10s 147us/sample - loss: 0.2001\n",
      "Epoch 5/20\n",
      "70000/70000 [==============================] - 11s 151us/sample - loss: 0.2025\n",
      "Epoch 6/20\n",
      "70000/70000 [==============================] - 11s 150us/sample - loss: 0.1969\n",
      "Epoch 7/20\n",
      "70000/70000 [==============================] - 11s 155us/sample - loss: 0.1931\n",
      "Epoch 8/20\n",
      "70000/70000 [==============================] - 11s 152us/sample - loss: 0.1930\n",
      "Epoch 9/20\n",
      "70000/70000 [==============================] - 11s 152us/sample - loss: 0.1981\n",
      "Epoch 10/20\n",
      "70000/70000 [==============================] - 11s 151us/sample - loss: 0.1880\n",
      "Epoch 11/20\n",
      "70000/70000 [==============================] - 11s 153us/sample - loss: 0.1835\n",
      "Epoch 12/20\n",
      "70000/70000 [==============================] - 11s 153us/sample - loss: 0.1805\n",
      "Epoch 13/20\n",
      "70000/70000 [==============================] - 11s 154us/sample - loss: 0.1800\n",
      "Epoch 14/20\n",
      "70000/70000 [==============================] - 11s 153us/sample - loss: 0.1774\n",
      "Epoch 15/20\n",
      "70000/70000 [==============================] - 11s 152us/sample - loss: 0.1718\n",
      "Epoch 16/20\n",
      " 6144/70000 [=>............................] - ETA: 9s - loss: 0.1684"
     ]
    }
   ],
   "source": [
    "ae.net.fit(\n",
    "    x=X,\n",
    "    y=X,\n",
    "    batch_size=512,\n",
    "    epochs=20,\n",
    "    workers=8,\n",
    "    use_multiprocessing=True,\n",
    ")"
   ]
  },
  {
   "cell_type": "code",
   "execution_count": 24,
   "metadata": {},
   "outputs": [
    {
     "data": {
      "text/plain": [
       "<matplotlib.image.AxesImage at 0x7efbe95ac1d0>"
      ]
     },
     "execution_count": 24,
     "metadata": {},
     "output_type": "execute_result"
    },
    {
     "data": {
      "image/png": "[encoded data removed]",
      "text/plain": [
       "<Figure size 432x288 with 1 Axes>"
      ]
     },
     "metadata": {
      "needs_background": "light"
     },
     "output_type": "display_data"
    }
   ],
   "source": [
    "x = X[idx][np.newaxis, ...]\n",
    "rx = ae(x)[0]\n",
    "plt.imshow(rx)"
   ]
  },
  {
   "cell_type": "code",
   "execution_count": null,
   "metadata": {},
   "outputs": [],
   "source": []
  }
 ],
 "metadata": {
  "kernelspec": {
   "display_name": "Python 3",
   "language": "python",
   "name": "python3"
  },
  "language_info": {
   "codemirror_mode": {
    "name": "ipython",
    "version": 3
   },
   "file_extension": ".py",
   "mimetype": "text/x-python",
   "name": "python",
   "nbconvert_exporter": "python",
   "pygments_lexer": "ipython3",
   "version": "3.7.5"
  }
 },
 "nbformat": 4,
 "nbformat_minor": 2
}
