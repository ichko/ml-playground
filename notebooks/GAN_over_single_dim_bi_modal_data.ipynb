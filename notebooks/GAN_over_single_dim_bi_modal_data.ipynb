{
 "cells": [
  {
   "cell_type": "code",
   "execution_count": 1,
   "metadata": {},
   "outputs": [
    {
     "data": {
      "text/plain": [
       "'1.3.1'"
      ]
     },
     "execution_count": 1,
     "metadata": {},
     "output_type": "execute_result"
    }
   ],
   "source": [
    "import numpy as np\n",
    "import matplotlib.pyplot as plt\n",
    "import seaborn as sns\n",
    "from tqdm import trange\n",
    "\n",
    "import torch\n",
    "import torch.nn as nn\n",
    "# import torch.autograd Variable as V\n",
    "\n",
    "torch.__version__"
   ]
  },
  {
   "cell_type": "code",
   "execution_count": 130,
   "metadata": {},
   "outputs": [],
   "source": [
    "def sample_targets(size=1):\n",
    "    where = np.random.rand(size) > 0.7\n",
    "    a = np.random.normal(-3, 0.5, size)\n",
    "    b = np.random.normal( 3, 0.5, size)\n",
    "    return torch.Tensor(np.where(where, a, b).reshape(size, 1))\n",
    "\n",
    "def sample_normal(size=1):\n",
    "    return torch.normal(0, 1, (size, 1))"
   ]
  },
  {
   "cell_type": "code",
   "execution_count": 131,
   "metadata": {},
   "outputs": [
    {
     "data": {
      "text/plain": [
       "(torch.Size([1000, 1]), torch.Size([1000, 1]))"
      ]
     },
     "execution_count": 131,
     "metadata": {},
     "output_type": "execute_result"
    },
    {
     "data": {
      "image/png": "[encoded data removed]",
      "text/plain": [
       "<Figure size 432x288 with 1 Axes>"
      ]
     },
     "metadata": {
      "needs_background": "light"
     },
     "output_type": "display_data"
    }
   ],
   "source": [
    "X = sample_normal(1000)\n",
    "Y = sample_targets(1000)\n",
    "\n",
    "sns.distplot(X)\n",
    "sns.distplot(Y)\n",
    "\n",
    "X.shape, Y.shape"
   ]
  },
  {
   "cell_type": "code",
   "execution_count": 132,
   "metadata": {},
   "outputs": [],
   "source": [
    "def dense(inp, out, a=nn.Tanh):\n",
    "    return [\n",
    "        nn.Linear(inp, out),\n",
    "        a(),\n",
    "    ]"
   ]
  },
  {
   "cell_type": "code",
   "execution_count": 133,
   "metadata": {},
   "outputs": [],
   "source": [
    "class Generator(nn.Module):\n",
    "    def __init__(self):\n",
    "        super(Generator, self).__init__()\n",
    "        self.net = nn.Sequential(\n",
    "            *dense(1 , 20),\n",
    "            *dense(20, 20),\n",
    "            *dense(20,  1, nn.Identity),\n",
    "        )\n",
    "        \n",
    "    def forward(self, bs):\n",
    "        noise = sample_normal(bs)\n",
    "        return self.net(noise)\n",
    "    \n",
    "G = Generator()"
   ]
  },
  {
   "cell_type": "code",
   "execution_count": 134,
   "metadata": {},
   "outputs": [],
   "source": [
    "D = nn.Sequential(\n",
    "    *dense(1 , 20),\n",
    "#     *dense(20, 20),\n",
    "    *dense(20,  1, nn.Sigmoid),\n",
    ")"
   ]
  },
  {
   "cell_type": "code",
   "execution_count": 135,
   "metadata": {},
   "outputs": [
    {
     "data": {
      "text/plain": [
       "<matplotlib.axes._subplots.AxesSubplot at 0x7efb1dd3f290>"
      ]
     },
     "execution_count": 135,
     "metadata": {},
     "output_type": "execute_result"
    },
    {
     "data": {
      "image/png": "[encoded data removed]",
      "text/plain": [
       "<Figure size 432x288 with 1 Axes>"
      ]
     },
     "metadata": {
      "needs_background": "light"
     },
     "output_type": "display_data"
    }
   ],
   "source": [
    "Y = sample_targets(1000)\n",
    "GY = G(1000).detach().numpy()\n",
    "\n",
    "sns.distplot(Y)\n",
    "sns.distplot(GY)"
   ]
  },
  {
   "cell_type": "code",
   "execution_count": 136,
   "metadata": {},
   "outputs": [
    {
     "data": {
      "text/plain": [
       "(torch.Size([10, 1]), torch.Size([10, 1]), torch.Size([10, 1]))"
      ]
     },
     "execution_count": 136,
     "metadata": {},
     "output_type": "execute_result"
    }
   ],
   "source": [
    "g = G(10)\n",
    "d = D(g)\n",
    "t = D(sample_targets(10))\n",
    "g.shape, d.shape, t.shape"
   ]
  },
  {
   "cell_type": "code",
   "execution_count": 137,
   "metadata": {},
   "outputs": [],
   "source": [
    "def optimize(G, D, data_sampler, its, bs, lr):\n",
    "    criterion = nn.BCELoss()\n",
    "\n",
    "    g_optimizer = torch.optim.Adam(G.parameters(), lr=lr)\n",
    "    d_optimizer = torch.optim.Adam(D.parameters(), lr=lr)\n",
    "\n",
    "    def optimize_G():\n",
    "        g_optimizer.zero_grad()\n",
    "        loss = criterion(D(G(bs)), torch.ones(bs, 1))\n",
    "        loss.backward()\n",
    "        g_optimizer.step()\n",
    "        \n",
    "        return loss.item()\n",
    "\n",
    "    def optimize_D():\n",
    "        d_optimizer.zero_grad()\n",
    "        real_loss = criterion(D(data_sampler(bs)), torch.ones(bs, 1))\n",
    "        fake_loss = criterion(D(G(bs)), torch.zeros(bs, 1))\n",
    "        real_loss.backward()\n",
    "        fake_loss.backward()\n",
    "        d_optimizer.step()\n",
    "        \n",
    "        return real_loss.item() + fake_loss.item()\n",
    "        \n",
    "    tr = trange(its)\n",
    "    for i in tr:\n",
    "        d_loss = optimize_D()\n",
    "        g_loss = optimize_G()\n",
    "        \n",
    "        tr.set_description(\n",
    "            'GL:%.5f / DL:%.5f' % (g_loss, d_loss)\n",
    "        )"
   ]
  },
  {
   "cell_type": "code",
   "execution_count": 138,
   "metadata": {},
   "outputs": [
    {
     "name": "stderr",
     "output_type": "stream",
     "text": [
      "GL:0.72965 / DL:1.36258: 100%|██████████| 1000/1000 [00:03<00:00, 264.64it/s]\n"
     ]
    }
   ],
   "source": [
    "optimize(\n",
    "    G=G,\n",
    "    D=D,\n",
    "    data_sampler=sample_targets,\n",
    "    its=1000,\n",
    "    bs=512,\n",
    "    lr=0.001\n",
    ")"
   ]
  },
  {
   "cell_type": "code",
   "execution_count": 139,
   "metadata": {},
   "outputs": [
    {
     "data": {
      "text/plain": [
       "<matplotlib.axes._subplots.AxesSubplot at 0x7efb1e12d990>"
      ]
     },
     "execution_count": 139,
     "metadata": {},
     "output_type": "execute_result"
    },
    {
     "data": {
      "image/png": "[encoded data removed]",
      "text/plain": [
       "<Figure size 432x288 with 1 Axes>"
      ]
     },
     "metadata": {
      "needs_background": "light"
     },
     "output_type": "display_data"
    }
   ],
   "source": [
    "Y = sample_targets(1000)\n",
    "GY = G(1000).detach().numpy()\n",
    "\n",
    "sns.distplot(Y, norm_hist=True)\n",
    "sns.distplot(GY, norm_hist=True)"
   ]
  },
  {
   "cell_type": "code",
   "execution_count": null,
   "metadata": {},
   "outputs": [],
   "source": []
  }
 ],
 "metadata": {
  "kernelspec": {
   "display_name": "'Python Interactive'",
   "language": "python",
   "name": "91ecb93a-e0f8-4faf-af8a-2527acfdd39f"
  },
  "language_info": {
   "codemirror_mode": {
    "name": "ipython",
    "version": 3
   },
   "file_extension": ".py",
   "mimetype": "text/x-python",
   "name": "python",
   "nbconvert_exporter": "python",
   "pygments_lexer": "ipython3",
   "version": "3.7.5"
  }
 },
 "nbformat": 4,
 "nbformat_minor": 4
}
