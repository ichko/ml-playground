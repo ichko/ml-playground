{
 "cells": [
  {
   "cell_type": "code",
   "execution_count": 1,
   "metadata": {},
   "outputs": [
    {
     "data": {
      "text/plain": [
       "'1.7.0+cu101'"
      ]
     },
     "execution_count": 1,
     "metadata": {},
     "output_type": "execute_result"
    }
   ],
   "source": [
    "import numpy as np\n",
    "import matplotlib.pyplot as plt\n",
    "import seaborn as sns\n",
    "from tqdm.auto import trange\n",
    "\n",
    "import torch\n",
    "import torch.nn as nn\n",
    "\n",
    "torch.__version__"
   ]
  },
  {
   "cell_type": "code",
   "execution_count": 2,
   "metadata": {},
   "outputs": [],
   "source": [
    "def sample_targets(size=1):\n",
    "    where = np.random.rand(size) > 0.7\n",
    "    a = np.random.normal(-3, 0.5, size)\n",
    "    b = np.random.normal( 3, 0.5, size)\n",
    "    return torch.Tensor(np.where(where, a, b).reshape(size, 1))\n",
    "\n",
    "def sample_normal(size=1):\n",
    "    return torch.normal(0, 1, (size, 1))"
   ]
  },
  {
   "cell_type": "code",
   "execution_count": 3,
   "metadata": {},
   "outputs": [
    {
     "data": {
      "text/plain": [
       "(torch.Size([1000, 1]), torch.Size([1000, 1]))"
      ]
     },
     "execution_count": 3,
     "metadata": {},
     "output_type": "execute_result"
    },
    {
     "data": {
      "image/png": "[encoded data removed]",
      "text/plain": [
       "<Figure size 432x288 with 1 Axes>"
      ]
     },
     "metadata": {
      "needs_background": "light"
     },
     "output_type": "display_data"
    }
   ],
   "source": [
    "X = sample_normal(1000)\n",
    "Y = sample_targets(1000)\n",
    "\n",
    "sns.distplot(X)\n",
    "sns.distplot(Y)\n",
    "\n",
    "X.shape, Y.shape"
   ]
  },
  {
   "cell_type": "code",
   "execution_count": 4,
   "metadata": {},
   "outputs": [],
   "source": [
    "def dense(inp, out, a=nn.Tanh):\n",
    "    return [\n",
    "        nn.Linear(inp, out),\n",
    "        a(),\n",
    "    ]"
   ]
  },
  {
   "cell_type": "code",
   "execution_count": 5,
   "metadata": {},
   "outputs": [],
   "source": [
    "class Generator(nn.Module):\n",
    "    def __init__(self):\n",
    "        super(Generator, self).__init__()\n",
    "        self.net = nn.Sequential(\n",
    "            *dense(1 , 20),\n",
    "            *dense(20, 20),\n",
    "            *dense(20,  1, nn.Identity),\n",
    "        )\n",
    "        \n",
    "    def map_batch(self, x):\n",
    "        return self.net(x)\n",
    "        \n",
    "    def forward(self, bs):\n",
    "        noise = sample_normal(bs)\n",
    "        return self.net(noise)\n",
    "    \n",
    "mk_G = lambda: Generator()"
   ]
  },
  {
   "cell_type": "code",
   "execution_count": 6,
   "metadata": {},
   "outputs": [],
   "source": [
    "mk_D = lambda: nn.Sequential(\n",
    "    *dense(1 , 20),\n",
    "#     *dense(20, 20),\n",
    "    *dense(20,  1, nn.Sigmoid),\n",
    ")"
   ]
  },
  {
   "cell_type": "code",
   "execution_count": 7,
   "metadata": {},
   "outputs": [],
   "source": [
    "D = mk_D()\n",
    "G = mk_G()"
   ]
  },
  {
   "cell_type": "code",
   "execution_count": 8,
   "metadata": {},
   "outputs": [
    {
     "data": {
      "text/plain": [
       "<matplotlib.axes._subplots.AxesSubplot at 0x7f98dbe26e10>"
      ]
     },
     "execution_count": 8,
     "metadata": {},
     "output_type": "execute_result"
    },
    {
     "data": {
      "image/png": "[encoded data removed]",
      "text/plain": [
       "<Figure size 432x288 with 1 Axes>"
      ]
     },
     "metadata": {
      "needs_background": "light"
     },
     "output_type": "display_data"
    }
   ],
   "source": [
    "Y = sample_targets(1000)\n",
    "GY = G(1000).detach().numpy()\n",
    "\n",
    "sns.distplot(Y)\n",
    "sns.distplot(GY)"
   ]
  },
  {
   "cell_type": "code",
   "execution_count": 9,
   "metadata": {},
   "outputs": [
    {
     "data": {
      "text/plain": [
       "(torch.Size([10, 1]), torch.Size([10, 1]), torch.Size([10, 1]))"
      ]
     },
     "execution_count": 9,
     "metadata": {},
     "output_type": "execute_result"
    }
   ],
   "source": [
    "g = G(10)\n",
    "d = D(g)\n",
    "t = D(sample_targets(10))\n",
    "g.shape, d.shape, t.shape"
   ]
  },
  {
   "cell_type": "code",
   "execution_count": 10,
   "metadata": {},
   "outputs": [],
   "source": [
    "def optimize(G, D, data_sampler, its, bs, lr, on_it=lambda _: None):\n",
    "    criterion = nn.BCELoss()\n",
    "\n",
    "    g_optimizer = torch.optim.Adam(G.parameters(), lr=lr)\n",
    "    d_optimizer = torch.optim.Adam(D.parameters(), lr=lr)\n",
    "\n",
    "    def optimize_G():\n",
    "        g_optimizer.zero_grad()\n",
    "        loss = criterion(D(G(bs)), torch.ones(bs, 1))\n",
    "        loss.backward()\n",
    "        g_optimizer.step()\n",
    "\n",
    "        return loss.item()\n",
    "\n",
    "    def optimize_D():\n",
    "        d_optimizer.zero_grad()\n",
    "        real_loss = criterion(D(data_sampler(bs)), torch.ones(bs, 1))\n",
    "        fake_loss = criterion(D(G(bs)), torch.zeros(bs, 1))\n",
    "        real_loss.backward()\n",
    "        fake_loss.backward()\n",
    "        d_optimizer.step()\n",
    "\n",
    "        return real_loss.item() + fake_loss.item()\n",
    "\n",
    "    tri = trange(its)\n",
    "    for i in tri:\n",
    "        d_loss = optimize_D()\n",
    "        g_loss = optimize_G()\n",
    "\n",
    "        tri.set_description('G Loss:%.5f / D Loss:%.5f' % (g_loss, d_loss))\n",
    "        on_it(i)"
   ]
  },
  {
   "cell_type": "code",
   "execution_count": 11,
   "metadata": {},
   "outputs": [
    {
     "data": {
      "application/vnd.jupyter.widget-view+json": {
       "model_id": "d88f6fb0af444bde8e7c8e46db846213",
       "version_major": 2,
       "version_minor": 0
      },
      "text/plain": [
       "HBox(children=(FloatProgress(value=0.0), HTML(value='')))"
      ]
     },
     "metadata": {},
     "output_type": "display_data"
    },
    {
     "name": "stdout",
     "output_type": "stream",
     "text": [
      "\n"
     ]
    }
   ],
   "source": [
    "D = mk_D()\n",
    "G = mk_G()\n",
    "\n",
    "optimize(\n",
    "    G=G,\n",
    "    D=D,\n",
    "    data_sampler=sample_targets,\n",
    "    its=100,\n",
    "    bs=512,\n",
    "    lr=0.001\n",
    ")"
   ]
  },
  {
   "cell_type": "code",
   "execution_count": 12,
   "metadata": {},
   "outputs": [
    {
     "data": {
      "image/png": "[encoded data removed]",
      "text/plain": [
       "<Figure size 432x288 with 1 Axes>"
      ]
     },
     "metadata": {
      "needs_background": "light"
     },
     "output_type": "display_data"
    }
   ],
   "source": [
    "Y = sample_targets(1000)\n",
    "GY = G(1000).detach().numpy()\n",
    "\n",
    "\n",
    "fig, ax = plt.subplots()\n",
    "sns.distplot(Y, ax=ax)\n",
    "sns.distplot(GY, ax=ax)\n",
    "\n",
    "ax.set_xbound(-8, 8)\n",
    "ax.set_ybound(0, 0.5)\n",
    "\n",
    "fig.canvas.draw()"
   ]
  },
  {
   "cell_type": "code",
   "execution_count": 13,
   "metadata": {},
   "outputs": [],
   "source": [
    "Y = sample_targets(1000)\n",
    "X = sample_normal(1000)\n",
    "\n",
    "def render_frame():\n",
    "    GY = G.map_batch(X).detach().numpy()\n",
    "\n",
    "    fig, ax = plt.subplots()\n",
    "    sns.distplot(Y, ax=ax)\n",
    "    sns.distplot(GY, ax=ax)\n",
    "\n",
    "    ax.set_xbound(-8, 8)\n",
    "    ax.set_ybound(0, 0.5)\n",
    "\n",
    "    fig.canvas.draw()\n",
    "    plt.close()\n",
    "\n",
    "    return np.array(fig.canvas.renderer.buffer_rgba())[:,:,:3].astype(np.uint8)"
   ]
  },
  {
   "cell_type": "code",
   "execution_count": 14,
   "metadata": {},
   "outputs": [
    {
     "data": {
      "text/plain": [
       "(288, 432, 3)"
      ]
     },
     "execution_count": 14,
     "metadata": {},
     "output_type": "execute_result"
    }
   ],
   "source": [
    "frame = render_frame()\n",
    "W, H = frame.shape[:2]\n",
    "\n",
    "frame.shape"
   ]
  },
  {
   "cell_type": "code",
   "execution_count": 15,
   "metadata": {},
   "outputs": [],
   "source": [
    "D = mk_D()\n",
    "G = mk_G()"
   ]
  },
  {
   "cell_type": "code",
   "execution_count": 16,
   "metadata": {},
   "outputs": [],
   "source": [
    "import cv2\n",
    "\n",
    "name = './distribs3.webm'\n",
    "\n",
    "fourcc = cv2.VideoWriter_fourcc(*'VP80')\n",
    "video = cv2.VideoWriter(name, fourcc, 30, (H, W))\n",
    "\n",
    "def make_video_frame(i):\n",
    "    if i % 10 == 0:\n",
    "        frame = render_frame()\n",
    "        video.write(frame)"
   ]
  },
  {
   "cell_type": "code",
   "execution_count": 17,
   "metadata": {},
   "outputs": [
    {
     "data": {
      "application/vnd.jupyter.widget-view+json": {
       "model_id": "76cb51416ac44bd188f58521a8b5c8d8",
       "version_major": 2,
       "version_minor": 0
      },
      "text/plain": [
       "HBox(children=(FloatProgress(value=0.0, max=2000.0), HTML(value='')))"
      ]
     },
     "metadata": {},
     "output_type": "display_data"
    },
    {
     "name": "stdout",
     "output_type": "stream",
     "text": [
      "\n"
     ]
    }
   ],
   "source": [
    "optimize(\n",
    "    G=G,\n",
    "    D=D,\n",
    "    data_sampler=sample_targets,\n",
    "    its=2000,\n",
    "    bs=512,\n",
    "    lr=0.001,\n",
    "    on_it=make_video_frame\n",
    ")"
   ]
  },
  {
   "cell_type": "code",
   "execution_count": 18,
   "metadata": {},
   "outputs": [],
   "source": [
    "video.release()"
   ]
  },
  {
   "cell_type": "code",
   "execution_count": 19,
   "metadata": {},
   "outputs": [
    {
     "data": {
      "text/html": [
       "\n",
       "    <video alt=\"test\" controls>\n",
       "        <source src=\"distribs3.webm\" type=\"video/mp4\">\n",
       "    </video>\n"
      ],
      "text/plain": [
       "<IPython.core.display.HTML object>"
      ]
     },
     "execution_count": 19,
     "metadata": {},
     "output_type": "execute_result"
    }
   ],
   "source": [
    "from IPython.display import HTML\n",
    "\n",
    "HTML(\"\"\"\n",
    "    <video alt=\"test\" controls>\n",
    "        <source src=\"distribs3.webm\" type=\"video/mp4\">\n",
    "    </video>\n",
    "\"\"\")"
   ]
  },
  {
   "cell_type": "code",
   "execution_count": null,
   "metadata": {},
   "outputs": [],
   "source": []
  }
 ],
 "metadata": {
  "kernelspec": {
   "display_name": "'Python Interactive'",
   "language": "python",
   "name": "91ecb93a-e0f8-4faf-af8a-2527acfdd39f"
  },
  "language_info": {
   "codemirror_mode": {
    "name": "ipython",
    "version": 3
   },
   "file_extension": ".py",
   "mimetype": "text/x-python",
   "name": "python",
   "nbconvert_exporter": "python",
   "pygments_lexer": "ipython3",
   "version": "3.7.5"
  },
  "toc": {
   "base_numbering": 1,
   "nav_menu": {},
   "number_sections": true,
   "sideBar": true,
   "skip_h1_title": false,
   "title_cell": "Table of Contents",
   "title_sidebar": "Contents",
   "toc_cell": false,
   "toc_position": {},
   "toc_section_display": true,
   "toc_window_display": false
  }
 },
 "nbformat": 4,
 "nbformat_minor": 4
}
