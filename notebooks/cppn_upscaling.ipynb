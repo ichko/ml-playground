{
 "cells": [
  {
   "cell_type": "code",
   "execution_count": 540,
   "metadata": {},
   "outputs": [],
   "source": [
    "import cv2\n",
    "import numpy as np\n",
    "import tensorflow as tf\n",
    "import tensorflow.keras as K\n",
    "import matplotlib.pyplot as plt"
   ]
  },
  {
   "cell_type": "code",
   "execution_count": 143,
   "metadata": {},
   "outputs": [
    {
     "data": {
      "text/plain": [
       "((50000, 32, 32, 3), (50000, 1))"
      ]
     },
     "execution_count": 143,
     "metadata": {},
     "output_type": "execute_result"
    }
   ],
   "source": [
    "(X_train, y_train), (X_test, y_test) = tf.keras.datasets.cifar10.load_data()\n",
    "X_train = X_train / 255.0\n",
    "\n",
    "X_train.shape, y_train.shape"
   ]
  },
  {
   "cell_type": "code",
   "execution_count": 544,
   "metadata": {},
   "outputs": [
    {
     "data": {
      "text/plain": [
       "<matplotlib.image.AxesImage at 0x7ef5fcd94f10>"
      ]
     },
     "execution_count": 544,
     "metadata": {},
     "output_type": "execute_result"
    },
    {
     "data": {
      "image/png": "[encoded data removed]",
      "text/plain": [
       "<Figure size 432x288 with 1 Axes>"
      ]
     },
     "metadata": {
      "needs_background": "light"
     },
     "output_type": "display_data"
    }
   ],
   "source": [
    "plt.imshow(X_train[99])"
   ]
  },
  {
   "cell_type": "code",
   "execution_count": 545,
   "metadata": {},
   "outputs": [],
   "source": [
    "def mk_field(W, H):\n",
    "    x = tf.range(0, 1, 1 / W)\n",
    "    y = tf.range(0, 1, 1 / H)\n",
    "    xx, yy = tf.meshgrid(x, y)\n",
    "\n",
    "    xx = tf.reshape(xx, (-1,))\n",
    "    yy = tf.reshape(yy, (-1,))\n",
    "    field = tf.stack([xx, yy], axis=1)\n",
    "\n",
    "    return field"
   ]
  },
  {
   "cell_type": "code",
   "execution_count": 589,
   "metadata": {},
   "outputs": [
    {
     "data": {
      "text/plain": [
       "253"
      ]
     },
     "execution_count": 589,
     "metadata": {},
     "output_type": "execute_result"
    }
   ],
   "source": [
    "def mk_model(depth, breadth):\n",
    "    def block(u, a):\n",
    "        return K.Sequential([\n",
    "            K.layers.Dense(\n",
    "                u,\n",
    "                activation=a,\n",
    "                kernel_initializer=tf.random_normal_initializer(0, 1),\n",
    "                bias_initializer=tf.random_normal_initializer(0, 1)\n",
    "            ),\n",
    "            K.layers.BatchNormalization(),\n",
    "        ])\n",
    "\n",
    "    model = K.Sequential([\n",
    "        K.layers.Input((2,)),\n",
    "        *[block(breadth, a='tanh') for _ in range(depth)],\n",
    "        K.layers.Dense(3, activation='sigmoid'),\n",
    "    ])\n",
    "    \n",
    "    model.compile(\n",
    "        optimizer=tf.optimizers.Adam(learning_rate=0.002),\n",
    "        loss=tf.losses.BinaryCrossentropy(label_smoothing=0.1),\n",
    "    )\n",
    "\n",
    "    return model\n",
    "\n",
    "\n",
    "model = mk_model(depth=5, breadth=5)\n",
    "model.count_params()"
   ]
  },
  {
   "cell_type": "code",
   "execution_count": 590,
   "metadata": {},
   "outputs": [
    {
     "data": {
      "text/plain": [
       "((5120, 2), (5120, 3))"
      ]
     },
     "execution_count": 590,
     "metadata": {},
     "output_type": "execute_result"
    }
   ],
   "source": [
    "def mk_dataset(img, bs):\n",
    "    W, H = img.shape[:2]\n",
    "\n",
    "    inputs = mk_field(W, H)\n",
    "    outputs = img.reshape(-1, 3)\n",
    "\n",
    "    ds = tf.data.Dataset.from_tensors((inputs, outputs))\n",
    "    ds = ds.repeat()\n",
    "    ds = ds.unbatch()\n",
    "    ds = ds.shuffle(W * H)\n",
    "    ds = ds.batch(W * H * bs)\n",
    "    ds = ds.prefetch(tf.data.experimental.AUTOTUNE)\n",
    "\n",
    "    return ds\n",
    "\n",
    "\n",
    "dataset = mk_dataset(X_train[9999], bs=5)\n",
    "X, y = next(dataset.as_numpy_iterator())\n",
    "X.shape, y.shape"
   ]
  },
  {
   "cell_type": "code",
   "execution_count": 591,
   "metadata": {},
   "outputs": [],
   "source": [
    "def sample(model, W, H):\n",
    "    field = mk_field(W, H)\n",
    "    output = model.predict(field)\n",
    "    return tf.reshape(output, (W, H, -1)).numpy()\n",
    "\n",
    "def show_sample(model, W, H, s=5):\n",
    "    upscaled = sample(model, W, H)\n",
    "    fig, ax = plt.subplots(figsize=(s, s))\n",
    "    ax.imshow(upscaled)\n",
    "    plt.show()"
   ]
  },
  {
   "cell_type": "code",
   "execution_count": 617,
   "metadata": {},
   "outputs": [],
   "source": [
    "def on_epoch_begin(cb):\n",
    "    class EndCallback(K.callbacks.Callback):\n",
    "        def on_epoch_begin(self, batch, logs=None):\n",
    "            cb()\n",
    "\n",
    "    return EndCallback()\n",
    "\n",
    "\n",
    "def on_batch_begin(cb):\n",
    "    class EndCallback(K.callbacks.Callback):\n",
    "        def on_batch_begin(self, batch, logs=None):\n",
    "            cb()\n",
    "\n",
    "    return EndCallback()"
   ]
  },
  {
   "cell_type": "code",
   "execution_count": 670,
   "metadata": {},
   "outputs": [],
   "source": [
    "def normalize(video):\n",
    "    min = np.min(video)\n",
    "    max = np.max(video)\n",
    "    np_version = np.array(((video - min) / (max - min) * 255.0))\n",
    "\n",
    "    return np_version.astype(np.uint8)"
   ]
  },
  {
   "cell_type": "code",
   "execution_count": 592,
   "metadata": {},
   "outputs": [
    {
     "data": {
      "image/png": "[encoded data removed]",
      "text/plain": [
       "<Figure size 360x360 with 1 Axes>"
      ]
     },
     "metadata": {
      "needs_background": "light"
     },
     "output_type": "display_data"
    }
   ],
   "source": [
    "model = mk_model(depth=5, breadth=10)\n",
    "show_sample(model, 64, 64)"
   ]
  },
  {
   "cell_type": "code",
   "execution_count": 593,
   "metadata": {
    "collapsed": true,
    "jupyter": {
     "outputs_hidden": true
    }
   },
   "outputs": [
    {
     "name": "stdout",
     "output_type": "stream",
     "text": [
      "Train for 4096 steps\n"
     ]
    },
    {
     "data": {
      "image/png": "[encoded data removed]",
      "text/plain": [
       "<Figure size 144x144 with 1 Axes>"
      ]
     },
     "metadata": {
      "needs_background": "light"
     },
     "output_type": "display_data"
    },
    {
     "name": "stdout",
     "output_type": "stream",
     "text": [
      "Epoch 1/5\n",
      "4096/4096 [==============================] - 17s 4ms/step - loss: 0.6444\n"
     ]
    },
    {
     "data": {
      "image/png": "[encoded data removed]",
      "text/plain": [
       "<Figure size 144x144 with 1 Axes>"
      ]
     },
     "metadata": {
      "needs_background": "light"
     },
     "output_type": "display_data"
    },
    {
     "name": "stdout",
     "output_type": "stream",
     "text": [
      "Epoch 2/5\n",
      "4096/4096 [==============================] - 18s 4ms/step - loss: 0.6397\n"
     ]
    },
    {
     "data": {
      "image/png": "[encoded data removed]",
      "text/plain": [
       "<Figure size 144x144 with 1 Axes>"
      ]
     },
     "metadata": {
      "needs_background": "light"
     },
     "output_type": "display_data"
    },
    {
     "name": "stdout",
     "output_type": "stream",
     "text": [
      "Epoch 3/5\n",
      "1641/4096 [===========>..................] - ETA: 10s - loss: 0.6391"
     ]
    },
    {
     "ename": "KeyboardInterrupt",
     "evalue": "",
     "output_type": "error",
     "traceback": [
      "\u001b[0;31m---------------------------------------------------------------------------\u001b[0m",
      "\u001b[0;31mKeyboardInterrupt\u001b[0m                         Traceback (most recent call last)",
      "\u001b[0;32m<ipython-input-593-93a598eb179b>\u001b[0m in \u001b[0;36m<module>\u001b[0;34m\u001b[0m\n\u001b[1;32m      3\u001b[0m     \u001b[0msteps_per_epoch\u001b[0m\u001b[0;34m=\u001b[0m\u001b[0;36m1024\u001b[0m \u001b[0;34m*\u001b[0m \u001b[0;36m4\u001b[0m\u001b[0;34m,\u001b[0m\u001b[0;34m\u001b[0m\u001b[0;34m\u001b[0m\u001b[0m\n\u001b[1;32m      4\u001b[0m     \u001b[0mepochs\u001b[0m\u001b[0;34m=\u001b[0m\u001b[0;36m5\u001b[0m\u001b[0;34m,\u001b[0m\u001b[0;34m\u001b[0m\u001b[0;34m\u001b[0m\u001b[0m\n\u001b[0;32m----> 5\u001b[0;31m     \u001b[0mcallbacks\u001b[0m\u001b[0;34m=\u001b[0m\u001b[0;34m[\u001b[0m\u001b[0mon_epoch_begin\u001b[0m\u001b[0;34m(\u001b[0m\u001b[0;32mlambda\u001b[0m \u001b[0m_\u001b[0m\u001b[0;34m:\u001b[0m \u001b[0mshow_sample\u001b[0m\u001b[0;34m(\u001b[0m\u001b[0mmodel\u001b[0m\u001b[0;34m,\u001b[0m \u001b[0;36m32\u001b[0m\u001b[0;34m,\u001b[0m \u001b[0;36m32\u001b[0m\u001b[0;34m,\u001b[0m \u001b[0ms\u001b[0m\u001b[0;34m=\u001b[0m\u001b[0;36m2\u001b[0m\u001b[0;34m)\u001b[0m\u001b[0;34m)\u001b[0m\u001b[0;34m]\u001b[0m\u001b[0;34m\u001b[0m\u001b[0;34m\u001b[0m\u001b[0m\n\u001b[0m\u001b[1;32m      6\u001b[0m )\n",
      "\u001b[0;32m~/anaconda3/lib/python3.7/site-packages/tensorflow_core/python/keras/engine/training.py\u001b[0m in \u001b[0;36mfit\u001b[0;34m(self, x, y, batch_size, epochs, verbose, callbacks, validation_split, validation_data, shuffle, class_weight, sample_weight, initial_epoch, steps_per_epoch, validation_steps, validation_freq, max_queue_size, workers, use_multiprocessing, **kwargs)\u001b[0m\n\u001b[1;32m    817\u001b[0m         \u001b[0mmax_queue_size\u001b[0m\u001b[0;34m=\u001b[0m\u001b[0mmax_queue_size\u001b[0m\u001b[0;34m,\u001b[0m\u001b[0;34m\u001b[0m\u001b[0;34m\u001b[0m\u001b[0m\n\u001b[1;32m    818\u001b[0m         \u001b[0mworkers\u001b[0m\u001b[0;34m=\u001b[0m\u001b[0mworkers\u001b[0m\u001b[0;34m,\u001b[0m\u001b[0;34m\u001b[0m\u001b[0;34m\u001b[0m\u001b[0m\n\u001b[0;32m--> 819\u001b[0;31m         use_multiprocessing=use_multiprocessing)\n\u001b[0m\u001b[1;32m    820\u001b[0m \u001b[0;34m\u001b[0m\u001b[0m\n\u001b[1;32m    821\u001b[0m   def evaluate(self,\n",
      "\u001b[0;32m~/anaconda3/lib/python3.7/site-packages/tensorflow_core/python/keras/engine/training_v2.py\u001b[0m in \u001b[0;36mfit\u001b[0;34m(self, model, x, y, batch_size, epochs, verbose, callbacks, validation_split, validation_data, shuffle, class_weight, sample_weight, initial_epoch, steps_per_epoch, validation_steps, validation_freq, max_queue_size, workers, use_multiprocessing, **kwargs)\u001b[0m\n\u001b[1;32m    340\u001b[0m                 \u001b[0mmode\u001b[0m\u001b[0;34m=\u001b[0m\u001b[0mModeKeys\u001b[0m\u001b[0;34m.\u001b[0m\u001b[0mTRAIN\u001b[0m\u001b[0;34m,\u001b[0m\u001b[0;34m\u001b[0m\u001b[0;34m\u001b[0m\u001b[0m\n\u001b[1;32m    341\u001b[0m                 \u001b[0mtraining_context\u001b[0m\u001b[0;34m=\u001b[0m\u001b[0mtraining_context\u001b[0m\u001b[0;34m,\u001b[0m\u001b[0;34m\u001b[0m\u001b[0;34m\u001b[0m\u001b[0m\n\u001b[0;32m--> 342\u001b[0;31m                 total_epochs=epochs)\n\u001b[0m\u001b[1;32m    343\u001b[0m             \u001b[0mcbks\u001b[0m\u001b[0;34m.\u001b[0m\u001b[0mmake_logs\u001b[0m\u001b[0;34m(\u001b[0m\u001b[0mmodel\u001b[0m\u001b[0;34m,\u001b[0m \u001b[0mepoch_logs\u001b[0m\u001b[0;34m,\u001b[0m \u001b[0mtraining_result\u001b[0m\u001b[0;34m,\u001b[0m \u001b[0mModeKeys\u001b[0m\u001b[0;34m.\u001b[0m\u001b[0mTRAIN\u001b[0m\u001b[0;34m)\u001b[0m\u001b[0;34m\u001b[0m\u001b[0;34m\u001b[0m\u001b[0m\n\u001b[1;32m    344\u001b[0m \u001b[0;34m\u001b[0m\u001b[0m\n",
      "\u001b[0;32m~/anaconda3/lib/python3.7/site-packages/tensorflow_core/python/keras/engine/training_v2.py\u001b[0m in \u001b[0;36mrun_one_epoch\u001b[0;34m(model, iterator, execution_function, dataset_size, batch_size, strategy, steps_per_epoch, num_samples, mode, training_context, total_epochs)\u001b[0m\n\u001b[1;32m    126\u001b[0m         step=step, mode=mode, size=current_batch_size) as batch_logs:\n\u001b[1;32m    127\u001b[0m       \u001b[0;32mtry\u001b[0m\u001b[0;34m:\u001b[0m\u001b[0;34m\u001b[0m\u001b[0;34m\u001b[0m\u001b[0m\n\u001b[0;32m--> 128\u001b[0;31m         \u001b[0mbatch_outs\u001b[0m \u001b[0;34m=\u001b[0m \u001b[0mexecution_function\u001b[0m\u001b[0;34m(\u001b[0m\u001b[0miterator\u001b[0m\u001b[0;34m)\u001b[0m\u001b[0;34m\u001b[0m\u001b[0;34m\u001b[0m\u001b[0m\n\u001b[0m\u001b[1;32m    129\u001b[0m       \u001b[0;32mexcept\u001b[0m \u001b[0;34m(\u001b[0m\u001b[0mStopIteration\u001b[0m\u001b[0;34m,\u001b[0m \u001b[0merrors\u001b[0m\u001b[0;34m.\u001b[0m\u001b[0mOutOfRangeError\u001b[0m\u001b[0;34m)\u001b[0m\u001b[0;34m:\u001b[0m\u001b[0;34m\u001b[0m\u001b[0;34m\u001b[0m\u001b[0m\n\u001b[1;32m    130\u001b[0m         \u001b[0;31m# TODO(kaftan): File bug about tf function and errors.OutOfRangeError?\u001b[0m\u001b[0;34m\u001b[0m\u001b[0;34m\u001b[0m\u001b[0;34m\u001b[0m\u001b[0m\n",
      "\u001b[0;32m~/anaconda3/lib/python3.7/site-packages/tensorflow_core/python/keras/engine/training_v2_utils.py\u001b[0m in \u001b[0;36mexecution_function\u001b[0;34m(input_fn)\u001b[0m\n\u001b[1;32m     96\u001b[0m     \u001b[0;31m# `numpy` translates Tensors to values in Eager mode.\u001b[0m\u001b[0;34m\u001b[0m\u001b[0;34m\u001b[0m\u001b[0;34m\u001b[0m\u001b[0m\n\u001b[1;32m     97\u001b[0m     return nest.map_structure(_non_none_constant_value,\n\u001b[0;32m---> 98\u001b[0;31m                               distributed_function(input_fn))\n\u001b[0m\u001b[1;32m     99\u001b[0m \u001b[0;34m\u001b[0m\u001b[0m\n\u001b[1;32m    100\u001b[0m   \u001b[0;32mreturn\u001b[0m \u001b[0mexecution_function\u001b[0m\u001b[0;34m\u001b[0m\u001b[0;34m\u001b[0m\u001b[0m\n",
      "\u001b[0;32m~/anaconda3/lib/python3.7/site-packages/tensorflow_core/python/eager/def_function.py\u001b[0m in \u001b[0;36m__call__\u001b[0;34m(self, *args, **kwds)\u001b[0m\n\u001b[1;32m    566\u001b[0m         \u001b[0mxla_context\u001b[0m\u001b[0;34m.\u001b[0m\u001b[0mExit\u001b[0m\u001b[0;34m(\u001b[0m\u001b[0;34m)\u001b[0m\u001b[0;34m\u001b[0m\u001b[0;34m\u001b[0m\u001b[0m\n\u001b[1;32m    567\u001b[0m     \u001b[0;32melse\u001b[0m\u001b[0;34m:\u001b[0m\u001b[0;34m\u001b[0m\u001b[0;34m\u001b[0m\u001b[0m\n\u001b[0;32m--> 568\u001b[0;31m       \u001b[0mresult\u001b[0m \u001b[0;34m=\u001b[0m \u001b[0mself\u001b[0m\u001b[0;34m.\u001b[0m\u001b[0m_call\u001b[0m\u001b[0;34m(\u001b[0m\u001b[0;34m*\u001b[0m\u001b[0margs\u001b[0m\u001b[0;34m,\u001b[0m \u001b[0;34m**\u001b[0m\u001b[0mkwds\u001b[0m\u001b[0;34m)\u001b[0m\u001b[0;34m\u001b[0m\u001b[0;34m\u001b[0m\u001b[0m\n\u001b[0m\u001b[1;32m    569\u001b[0m \u001b[0;34m\u001b[0m\u001b[0m\n\u001b[1;32m    570\u001b[0m     \u001b[0;32mif\u001b[0m \u001b[0mtracing_count\u001b[0m \u001b[0;34m==\u001b[0m \u001b[0mself\u001b[0m\u001b[0;34m.\u001b[0m\u001b[0m_get_tracing_count\u001b[0m\u001b[0;34m(\u001b[0m\u001b[0;34m)\u001b[0m\u001b[0;34m:\u001b[0m\u001b[0;34m\u001b[0m\u001b[0;34m\u001b[0m\u001b[0m\n",
      "\u001b[0;32m~/anaconda3/lib/python3.7/site-packages/tensorflow_core/python/eager/def_function.py\u001b[0m in \u001b[0;36m_call\u001b[0;34m(self, *args, **kwds)\u001b[0m\n\u001b[1;32m    597\u001b[0m       \u001b[0;31m# In this case we have created variables on the first call, so we run the\u001b[0m\u001b[0;34m\u001b[0m\u001b[0;34m\u001b[0m\u001b[0;34m\u001b[0m\u001b[0m\n\u001b[1;32m    598\u001b[0m       \u001b[0;31m# defunned version which is guaranteed to never create variables.\u001b[0m\u001b[0;34m\u001b[0m\u001b[0;34m\u001b[0m\u001b[0;34m\u001b[0m\u001b[0m\n\u001b[0;32m--> 599\u001b[0;31m       \u001b[0;32mreturn\u001b[0m \u001b[0mself\u001b[0m\u001b[0;34m.\u001b[0m\u001b[0m_stateless_fn\u001b[0m\u001b[0;34m(\u001b[0m\u001b[0;34m*\u001b[0m\u001b[0margs\u001b[0m\u001b[0;34m,\u001b[0m \u001b[0;34m**\u001b[0m\u001b[0mkwds\u001b[0m\u001b[0;34m)\u001b[0m  \u001b[0;31m# pylint: disable=not-callable\u001b[0m\u001b[0;34m\u001b[0m\u001b[0;34m\u001b[0m\u001b[0m\n\u001b[0m\u001b[1;32m    600\u001b[0m     \u001b[0;32melif\u001b[0m \u001b[0mself\u001b[0m\u001b[0;34m.\u001b[0m\u001b[0m_stateful_fn\u001b[0m \u001b[0;32mis\u001b[0m \u001b[0;32mnot\u001b[0m \u001b[0;32mNone\u001b[0m\u001b[0;34m:\u001b[0m\u001b[0;34m\u001b[0m\u001b[0;34m\u001b[0m\u001b[0m\n\u001b[1;32m    601\u001b[0m       \u001b[0;31m# Release the lock early so that multiple threads can perform the call\u001b[0m\u001b[0;34m\u001b[0m\u001b[0;34m\u001b[0m\u001b[0;34m\u001b[0m\u001b[0m\n",
      "\u001b[0;32m~/anaconda3/lib/python3.7/site-packages/tensorflow_core/python/eager/function.py\u001b[0m in \u001b[0;36m__call__\u001b[0;34m(self, *args, **kwargs)\u001b[0m\n\u001b[1;32m   2361\u001b[0m     \u001b[0;32mwith\u001b[0m \u001b[0mself\u001b[0m\u001b[0;34m.\u001b[0m\u001b[0m_lock\u001b[0m\u001b[0;34m:\u001b[0m\u001b[0;34m\u001b[0m\u001b[0;34m\u001b[0m\u001b[0m\n\u001b[1;32m   2362\u001b[0m       \u001b[0mgraph_function\u001b[0m\u001b[0;34m,\u001b[0m \u001b[0margs\u001b[0m\u001b[0;34m,\u001b[0m \u001b[0mkwargs\u001b[0m \u001b[0;34m=\u001b[0m \u001b[0mself\u001b[0m\u001b[0;34m.\u001b[0m\u001b[0m_maybe_define_function\u001b[0m\u001b[0;34m(\u001b[0m\u001b[0margs\u001b[0m\u001b[0;34m,\u001b[0m \u001b[0mkwargs\u001b[0m\u001b[0;34m)\u001b[0m\u001b[0;34m\u001b[0m\u001b[0;34m\u001b[0m\u001b[0m\n\u001b[0;32m-> 2363\u001b[0;31m     \u001b[0;32mreturn\u001b[0m \u001b[0mgraph_function\u001b[0m\u001b[0;34m.\u001b[0m\u001b[0m_filtered_call\u001b[0m\u001b[0;34m(\u001b[0m\u001b[0margs\u001b[0m\u001b[0;34m,\u001b[0m \u001b[0mkwargs\u001b[0m\u001b[0;34m)\u001b[0m  \u001b[0;31m# pylint: disable=protected-access\u001b[0m\u001b[0;34m\u001b[0m\u001b[0;34m\u001b[0m\u001b[0m\n\u001b[0m\u001b[1;32m   2364\u001b[0m \u001b[0;34m\u001b[0m\u001b[0m\n\u001b[1;32m   2365\u001b[0m   \u001b[0;34m@\u001b[0m\u001b[0mproperty\u001b[0m\u001b[0;34m\u001b[0m\u001b[0;34m\u001b[0m\u001b[0m\n",
      "\u001b[0;32m~/anaconda3/lib/python3.7/site-packages/tensorflow_core/python/eager/function.py\u001b[0m in \u001b[0;36m_filtered_call\u001b[0;34m(self, args, kwargs)\u001b[0m\n\u001b[1;32m   1609\u001b[0m          if isinstance(t, (ops.Tensor,\n\u001b[1;32m   1610\u001b[0m                            resource_variable_ops.BaseResourceVariable))),\n\u001b[0;32m-> 1611\u001b[0;31m         self.captured_inputs)\n\u001b[0m\u001b[1;32m   1612\u001b[0m \u001b[0;34m\u001b[0m\u001b[0m\n\u001b[1;32m   1613\u001b[0m   \u001b[0;32mdef\u001b[0m \u001b[0m_call_flat\u001b[0m\u001b[0;34m(\u001b[0m\u001b[0mself\u001b[0m\u001b[0;34m,\u001b[0m \u001b[0margs\u001b[0m\u001b[0;34m,\u001b[0m \u001b[0mcaptured_inputs\u001b[0m\u001b[0;34m,\u001b[0m \u001b[0mcancellation_manager\u001b[0m\u001b[0;34m=\u001b[0m\u001b[0;32mNone\u001b[0m\u001b[0;34m)\u001b[0m\u001b[0;34m:\u001b[0m\u001b[0;34m\u001b[0m\u001b[0;34m\u001b[0m\u001b[0m\n",
      "\u001b[0;32m~/anaconda3/lib/python3.7/site-packages/tensorflow_core/python/eager/function.py\u001b[0m in \u001b[0;36m_call_flat\u001b[0;34m(self, args, captured_inputs, cancellation_manager)\u001b[0m\n\u001b[1;32m   1690\u001b[0m       \u001b[0;31m# No tape is watching; skip to running the function.\u001b[0m\u001b[0;34m\u001b[0m\u001b[0;34m\u001b[0m\u001b[0;34m\u001b[0m\u001b[0m\n\u001b[1;32m   1691\u001b[0m       return self._build_call_outputs(self._inference_function.call(\n\u001b[0;32m-> 1692\u001b[0;31m           ctx, args, cancellation_manager=cancellation_manager))\n\u001b[0m\u001b[1;32m   1693\u001b[0m     forward_backward = self._select_forward_and_backward_functions(\n\u001b[1;32m   1694\u001b[0m         \u001b[0margs\u001b[0m\u001b[0;34m,\u001b[0m\u001b[0;34m\u001b[0m\u001b[0;34m\u001b[0m\u001b[0m\n",
      "\u001b[0;32m~/anaconda3/lib/python3.7/site-packages/tensorflow_core/python/eager/function.py\u001b[0m in \u001b[0;36mcall\u001b[0;34m(self, ctx, args, cancellation_manager)\u001b[0m\n\u001b[1;32m    543\u001b[0m               \u001b[0minputs\u001b[0m\u001b[0;34m=\u001b[0m\u001b[0margs\u001b[0m\u001b[0;34m,\u001b[0m\u001b[0;34m\u001b[0m\u001b[0;34m\u001b[0m\u001b[0m\n\u001b[1;32m    544\u001b[0m               \u001b[0mattrs\u001b[0m\u001b[0;34m=\u001b[0m\u001b[0;34m(\u001b[0m\u001b[0;34m\"executor_type\"\u001b[0m\u001b[0;34m,\u001b[0m \u001b[0mexecutor_type\u001b[0m\u001b[0;34m,\u001b[0m \u001b[0;34m\"config_proto\"\u001b[0m\u001b[0;34m,\u001b[0m \u001b[0mconfig\u001b[0m\u001b[0;34m)\u001b[0m\u001b[0;34m,\u001b[0m\u001b[0;34m\u001b[0m\u001b[0;34m\u001b[0m\u001b[0m\n\u001b[0;32m--> 545\u001b[0;31m               ctx=ctx)\n\u001b[0m\u001b[1;32m    546\u001b[0m         \u001b[0;32melse\u001b[0m\u001b[0;34m:\u001b[0m\u001b[0;34m\u001b[0m\u001b[0;34m\u001b[0m\u001b[0m\n\u001b[1;32m    547\u001b[0m           outputs = execute.execute_with_cancellation(\n",
      "\u001b[0;32m~/anaconda3/lib/python3.7/site-packages/tensorflow_core/python/eager/execute.py\u001b[0m in \u001b[0;36mquick_execute\u001b[0;34m(op_name, num_outputs, inputs, attrs, ctx, name)\u001b[0m\n\u001b[1;32m     59\u001b[0m     tensors = pywrap_tensorflow.TFE_Py_Execute(ctx._handle, device_name,\n\u001b[1;32m     60\u001b[0m                                                \u001b[0mop_name\u001b[0m\u001b[0;34m,\u001b[0m \u001b[0minputs\u001b[0m\u001b[0;34m,\u001b[0m \u001b[0mattrs\u001b[0m\u001b[0;34m,\u001b[0m\u001b[0;34m\u001b[0m\u001b[0;34m\u001b[0m\u001b[0m\n\u001b[0;32m---> 61\u001b[0;31m                                                num_outputs)\n\u001b[0m\u001b[1;32m     62\u001b[0m   \u001b[0;32mexcept\u001b[0m \u001b[0mcore\u001b[0m\u001b[0;34m.\u001b[0m\u001b[0m_NotOkStatusException\u001b[0m \u001b[0;32mas\u001b[0m \u001b[0me\u001b[0m\u001b[0;34m:\u001b[0m\u001b[0;34m\u001b[0m\u001b[0;34m\u001b[0m\u001b[0m\n\u001b[1;32m     63\u001b[0m     \u001b[0;32mif\u001b[0m \u001b[0mname\u001b[0m \u001b[0;32mis\u001b[0m \u001b[0;32mnot\u001b[0m \u001b[0;32mNone\u001b[0m\u001b[0;34m:\u001b[0m\u001b[0;34m\u001b[0m\u001b[0;34m\u001b[0m\u001b[0m\n",
      "\u001b[0;31mKeyboardInterrupt\u001b[0m: "
     ]
    }
   ],
   "source": [
    "model.fit(\n",
    "    mk_dataset(X_train[1029], bs=1),\n",
    "    steps_per_epoch=1024 * 4,\n",
    "    epochs=5,\n",
    "    callbacks=[on_epoch_begin(lambda: show_sample(model, 32, 32, s=2))]\n",
    ")"
   ]
  },
  {
   "cell_type": "code",
   "execution_count": 594,
   "metadata": {},
   "outputs": [
    {
     "data": {
      "image/png": "[encoded data removed]",
      "text/plain": [
       "<Figure size 576x576 with 1 Axes>"
      ]
     },
     "metadata": {
      "needs_background": "light"
     },
     "output_type": "display_data"
    }
   ],
   "source": [
    "show_sample(model, 64, 64, s=8)"
   ]
  },
  {
   "cell_type": "code",
   "execution_count": 669,
   "metadata": {},
   "outputs": [
    {
     "data": {
      "image/png": "[encoded data removed]",
      "text/plain": [
       "<Figure size 360x360 with 1 Axes>"
      ]
     },
     "metadata": {
      "needs_background": "light"
     },
     "output_type": "display_data"
    }
   ],
   "source": [
    "model = mk_model(depth=5, breadth=15)\n",
    "show_sample(model, 64, 64)"
   ]
  },
  {
   "cell_type": "code",
   "execution_count": null,
   "metadata": {},
   "outputs": [
    {
     "name": "stdout",
     "output_type": "stream",
     "text": [
      "Train for 16 steps\n",
      "Epoch 1/128\n",
      "16/16 [==============================] - 1s 85ms/step - loss: 0.7747\n",
      "Epoch 2/128\n",
      "16/16 [==============================] - 0s 16ms/step - loss: 0.6728\n",
      "Epoch 3/128\n",
      "16/16 [==============================] - 0s 17ms/step - loss: 0.6344\n",
      "Epoch 4/128\n",
      "16/16 [==============================] - 0s 16ms/step - loss: 0.6109\n",
      "Epoch 5/128\n",
      "16/16 [==============================] - 0s 17ms/step - loss: 0.5917\n",
      "Epoch 6/128\n",
      "16/16 [==============================] - 0s 17ms/step - loss: 0.5756\n",
      "Epoch 7/128\n",
      "16/16 [==============================] - 0s 17ms/step - loss: 0.5622\n",
      "Epoch 8/128\n",
      "16/16 [==============================] - 0s 16ms/step - loss: 0.5523\n",
      "Epoch 9/128\n",
      "16/16 [==============================] - 0s 15ms/step - loss: 0.5458\n",
      "Epoch 10/128\n",
      "16/16 [==============================] - 0s 18ms/step - loss: 0.5412\n",
      "Epoch 11/128\n",
      "16/16 [==============================] - 0s 17ms/step - loss: 0.5380\n",
      "Epoch 12/128\n",
      "16/16 [==============================] - 0s 18ms/step - loss: 0.5354\n",
      "Epoch 13/128\n",
      "16/16 [==============================] - 0s 18ms/step - loss: 0.5334\n",
      "Epoch 14/128\n",
      "16/16 [==============================] - 0s 16ms/step - loss: 0.5317\n",
      "Epoch 15/128\n",
      "16/16 [==============================] - 0s 17ms/step - loss: 0.5302\n",
      "Epoch 16/128\n",
      "16/16 [==============================] - 0s 16ms/step - loss: 0.5291\n",
      "Epoch 17/128\n",
      "16/16 [==============================] - 0s 21ms/step - loss: 0.5281\n",
      "Epoch 18/128\n",
      "16/16 [==============================] - 0s 17ms/step - loss: 0.5272\n",
      "Epoch 19/128\n",
      "16/16 [==============================] - 0s 17ms/step - loss: 0.5263\n",
      "Epoch 20/128\n",
      "16/16 [==============================] - 0s 18ms/step - loss: 0.5254\n",
      "Epoch 21/128\n",
      "16/16 [==============================] - 0s 16ms/step - loss: 0.5246\n",
      "Epoch 22/128\n",
      "16/16 [==============================] - 0s 21ms/step - loss: 0.5238\n",
      "Epoch 23/128\n",
      "16/16 [==============================] - 0s 15ms/step - loss: 0.5230\n",
      "Epoch 24/128\n",
      "16/16 [==============================] - 0s 19ms/step - loss: 0.5224\n",
      "Epoch 25/128\n",
      "16/16 [==============================] - 0s 17ms/step - loss: 0.5218\n",
      "Epoch 26/128\n",
      "16/16 [==============================] - 0s 18ms/step - loss: 0.5213\n",
      "Epoch 27/128\n",
      "16/16 [==============================] - 0s 15ms/step - loss: 0.5208\n",
      "Epoch 28/128\n",
      "16/16 [==============================] - 0s 18ms/step - loss: 0.5203\n",
      "Epoch 29/128\n",
      "16/16 [==============================] - 0s 22ms/step - loss: 0.5199\n",
      "Epoch 30/128\n",
      "16/16 [==============================] - 0s 20ms/step - loss: 0.5195\n",
      "Epoch 31/128\n",
      "16/16 [==============================] - 0s 19ms/step - loss: 0.5190\n",
      "Epoch 32/128\n",
      "16/16 [==============================] - 0s 16ms/step - loss: 0.5186\n",
      "Epoch 33/128\n",
      "16/16 [==============================] - 0s 21ms/step - loss: 0.5182\n",
      "Epoch 34/128\n",
      "16/16 [==============================] - 0s 19ms/step - loss: 0.5177\n",
      "Epoch 35/128\n",
      "16/16 [==============================] - 0s 19ms/step - loss: 0.5172\n",
      "Epoch 36/128\n",
      "16/16 [==============================] - 0s 16ms/step - loss: 0.5166\n",
      "Epoch 37/128\n",
      "16/16 [==============================] - 0s 20ms/step - loss: 0.5161\n",
      "Epoch 38/128\n",
      "16/16 [==============================] - 0s 22ms/step - loss: 0.5156\n",
      "Epoch 39/128\n",
      "16/16 [==============================] - 0s 21ms/step - loss: 0.5150\n",
      "Epoch 40/128\n",
      "16/16 [==============================] - 0s 20ms/step - loss: 0.5144\n",
      "Epoch 41/128\n",
      "16/16 [==============================] - 0s 20ms/step - loss: 0.5139\n",
      "Epoch 42/128\n",
      "16/16 [==============================] - 0s 18ms/step - loss: 0.5134\n",
      "Epoch 43/128\n",
      "16/16 [==============================] - 0s 19ms/step - loss: 0.5130\n",
      "Epoch 44/128\n",
      "16/16 [==============================] - 0s 22ms/step - loss: 0.5125\n",
      "Epoch 45/128\n",
      "16/16 [==============================] - 0s 18ms/step - loss: 0.5122\n",
      "Epoch 46/128\n",
      "16/16 [==============================] - 0s 15ms/step - loss: 0.5119\n",
      "Epoch 47/128\n",
      "16/16 [==============================] - 0s 17ms/step - loss: 0.5116\n",
      "Epoch 48/128\n",
      "16/16 [==============================] - 0s 18ms/step - loss: 0.5113\n",
      "Epoch 49/128\n",
      "16/16 [==============================] - 0s 16ms/step - loss: 0.5110\n",
      "Epoch 50/128\n",
      "16/16 [==============================] - 0s 19ms/step - loss: 0.5107\n",
      "Epoch 51/128\n",
      "16/16 [==============================] - 0s 19ms/step - loss: 0.5104\n",
      "Epoch 52/128\n",
      "16/16 [==============================] - 0s 18ms/step - loss: 0.5102\n",
      "Epoch 53/128\n",
      "16/16 [==============================] - 0s 16ms/step - loss: 0.5100\n",
      "Epoch 54/128\n",
      "16/16 [==============================] - 0s 18ms/step - loss: 0.5098\n",
      "Epoch 55/128\n",
      "16/16 [==============================] - 0s 18ms/step - loss: 0.5096\n",
      "Epoch 56/128\n",
      "16/16 [==============================] - 0s 18ms/step - loss: 0.5095\n",
      "Epoch 57/128\n",
      "16/16 [==============================] - 0s 14ms/step - loss: 0.5093\n",
      "Epoch 58/128\n",
      "16/16 [==============================] - 0s 18ms/step - loss: 0.5092\n",
      "Epoch 59/128\n",
      "16/16 [==============================] - 0s 18ms/step - loss: 0.5090\n",
      "Epoch 60/128\n",
      "16/16 [==============================] - 0s 18ms/step - loss: 0.5088\n",
      "Epoch 61/128\n",
      "16/16 [==============================] - 0s 18ms/step - loss: 0.5088\n",
      "Epoch 62/128\n",
      "16/16 [==============================] - 0s 19ms/step - loss: 0.5086\n",
      "Epoch 63/128\n",
      "16/16 [==============================] - 0s 17ms/step - loss: 0.5085\n",
      "Epoch 64/128\n",
      "16/16 [==============================] - 0s 20ms/step - loss: 0.5084\n",
      "Epoch 65/128\n",
      "16/16 [==============================] - 0s 21ms/step - loss: 0.5083\n",
      "Epoch 66/128\n",
      "16/16 [==============================] - 0s 18ms/step - loss: 0.5082\n",
      "Epoch 67/128\n",
      "16/16 [==============================] - 0s 16ms/step - loss: 0.5081\n",
      "Epoch 68/128\n",
      "16/16 [==============================] - 0s 20ms/step - loss: 0.5080\n",
      "Epoch 69/128\n",
      "16/16 [==============================] - 0s 18ms/step - loss: 0.5079\n",
      "Epoch 70/128\n",
      "16/16 [==============================] - 0s 18ms/step - loss: 0.5078\n",
      "Epoch 71/128\n",
      "16/16 [==============================] - 0s 17ms/step - loss: 0.5077\n",
      "Epoch 72/128\n",
      "16/16 [==============================] - 0s 18ms/step - loss: 0.5076\n",
      "Epoch 73/128\n",
      "16/16 [==============================] - 0s 22ms/step - loss: 0.5075\n",
      "Epoch 74/128\n",
      "16/16 [==============================] - 0s 19ms/step - loss: 0.5074\n",
      "Epoch 75/128\n",
      "16/16 [==============================] - 0s 17ms/step - loss: 0.5073\n",
      "Epoch 76/128\n",
      "16/16 [==============================] - 0s 17ms/step - loss: 0.5072\n",
      "Epoch 77/128\n",
      "16/16 [==============================] - 0s 18ms/step - loss: 0.5072\n",
      "Epoch 78/128\n",
      "16/16 [==============================] - 0s 16ms/step - loss: 0.5071\n",
      "Epoch 79/128\n",
      "16/16 [==============================] - 0s 16ms/step - loss: 0.5071\n",
      "Epoch 80/128\n",
      "16/16 [==============================] - 0s 17ms/step - loss: 0.5069\n",
      "Epoch 81/128\n",
      "16/16 [==============================] - 0s 17ms/step - loss: 0.5069\n",
      "Epoch 82/128\n",
      "16/16 [==============================] - 0s 20ms/step - loss: 0.5068\n",
      "Epoch 83/128\n",
      "16/16 [==============================] - 0s 17ms/step - loss: 0.5068\n",
      "Epoch 84/128\n",
      "16/16 [==============================] - 0s 18ms/step - loss: 0.5067\n",
      "Epoch 85/128\n",
      "16/16 [==============================] - 0s 18ms/step - loss: 0.5066\n",
      "Epoch 86/128\n",
      "16/16 [==============================] - 0s 17ms/step - loss: 0.5065\n",
      "Epoch 87/128\n",
      "16/16 [==============================] - 0s 19ms/step - loss: 0.5065\n",
      "Epoch 88/128\n",
      "16/16 [==============================] - 0s 19ms/step - loss: 0.5064\n",
      "Epoch 89/128\n",
      "16/16 [==============================] - 0s 19ms/step - loss: 0.5064\n",
      "Epoch 90/128\n",
      "16/16 [==============================] - 0s 16ms/step - loss: 0.5063\n",
      "Epoch 91/128\n",
      "16/16 [==============================] - 0s 17ms/step - loss: 0.5063\n",
      "Epoch 92/128\n",
      "16/16 [==============================] - 0s 15ms/step - loss: 0.5062\n",
      "Epoch 93/128\n",
      "16/16 [==============================] - 0s 15ms/step - loss: 0.5062\n",
      "Epoch 94/128\n",
      "16/16 [==============================] - 0s 15ms/step - loss: 0.5061\n",
      "Epoch 95/128\n",
      "16/16 [==============================] - 0s 17ms/step - loss: 0.5061\n",
      "Epoch 96/128\n",
      "16/16 [==============================] - 0s 20ms/step - loss: 0.5060\n",
      "Epoch 97/128\n",
      "16/16 [==============================] - 0s 19ms/step - loss: 0.5060\n",
      "Epoch 98/128\n",
      "16/16 [==============================] - 0s 19ms/step - loss: 0.5059\n",
      "Epoch 99/128\n",
      "16/16 [==============================] - 0s 20ms/step - loss: 0.5059\n",
      "Epoch 100/128\n",
      "16/16 [==============================] - 0s 20ms/step - loss: 0.5058\n",
      "Epoch 101/128\n",
      "16/16 [==============================] - 0s 21ms/step - loss: 0.5058\n",
      "Epoch 102/128\n",
      "16/16 [==============================] - 0s 19ms/step - loss: 0.5057\n",
      "Epoch 103/128\n",
      "16/16 [==============================] - 0s 18ms/step - loss: 0.5057\n",
      "Epoch 104/128\n",
      "16/16 [==============================] - 0s 20ms/step - loss: 0.5057\n",
      "Epoch 105/128\n",
      "16/16 [==============================] - 0s 18ms/step - loss: 0.5056\n",
      "Epoch 106/128\n",
      "16/16 [==============================] - 0s 19ms/step - loss: 0.5055\n",
      "Epoch 107/128\n",
      "16/16 [==============================] - 0s 20ms/step - loss: 0.5055\n",
      "Epoch 108/128\n",
      "16/16 [==============================] - 0s 21ms/step - loss: 0.5055\n",
      "Epoch 109/128\n",
      "16/16 [==============================] - 0s 16ms/step - loss: 0.5055\n",
      "Epoch 110/128\n",
      "16/16 [==============================] - 0s 19ms/step - loss: 0.5054\n",
      "Epoch 111/128\n",
      "16/16 [==============================] - 0s 17ms/step - loss: 0.5054\n",
      "Epoch 112/128\n",
      "16/16 [==============================] - 0s 18ms/step - loss: 0.5053\n",
      "Epoch 113/128\n",
      "16/16 [==============================] - 0s 19ms/step - loss: 0.5054\n",
      "Epoch 114/128\n",
      "16/16 [==============================] - 0s 17ms/step - loss: 0.5053\n",
      "Epoch 115/128\n",
      "16/16 [==============================] - 0s 20ms/step - loss: 0.5052\n",
      "Epoch 116/128\n",
      "16/16 [==============================] - 0s 20ms/step - loss: 0.5052\n"
     ]
    }
   ],
   "source": [
    "target_img = X_train[99]\n",
    "scale = 4\n",
    "name = './test.avi'\n",
    "\n",
    "actual_W, actual_H = target_img.shape[:2]\n",
    "target_W, target_H = actual_W * scale, actual_H * scale\n",
    "\n",
    "fourcc = cv2.VideoWriter_fourcc(*'MPEG')\n",
    "video = cv2.VideoWriter(name, fourcc, 30, (target_W * 2, target_H))\n",
    "\n",
    "field = mk_field(target_W, target_H)\n",
    "target_img_scaled = normalize(cv2.resize(target_img, (target_W, target_H), cv2.INTER_NEAREST))\n",
    "\n",
    "def batch_begin():\n",
    "    output = model.predict(field)\n",
    "    output = tf.reshape(output, (target_W, target_H, -1))\n",
    "    normalilzed_output = normalize(output)\n",
    "    split_frame = np.concatenate((target_img_scaled, normalilzed_output), axis=1)\n",
    "    split_frame = cv2.cvtColor(split_frame, cv2.COLOR_RGB2BGR)\n",
    "    video.write(split_frame)\n",
    "\n",
    "model.fit(\n",
    "    mk_dataset(target_img, bs=32),\n",
    "    steps_per_epoch=16,\n",
    "    epochs=128,\n",
    "    callbacks=[\n",
    "#         on_epoch_begin(lambda: show_sample(model, 32, 32, s=2)),\n",
    "        on_epoch_begin(batch_begin),\n",
    "    ],\n",
    ")\n",
    "\n",
    "video.release()"
   ]
  },
  {
   "cell_type": "code",
   "execution_count": null,
   "metadata": {},
   "outputs": [],
   "source": []
  }
 ],
 "metadata": {
  "kernelspec": {
   "display_name": "Python 3",
   "language": "python",
   "name": "python3"
  },
  "language_info": {
   "codemirror_mode": {
    "name": "ipython",
    "version": 3
   },
   "file_extension": ".py",
   "mimetype": "text/x-python",
   "name": "python",
   "nbconvert_exporter": "python",
   "pygments_lexer": "ipython3",
   "version": "3.7.5"
  }
 },
 "nbformat": 4,
 "nbformat_minor": 4
}
