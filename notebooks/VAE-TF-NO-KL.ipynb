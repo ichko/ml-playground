{
 "cells": [
  {
   "cell_type": "code",
   "execution_count": 1,
   "metadata": {},
   "outputs": [
    {
     "data": {
      "text/plain": [
       "'2.1.0'"
      ]
     },
     "execution_count": 1,
     "metadata": {},
     "output_type": "execute_result"
    }
   ],
   "source": [
    "import numpy as np\n",
    "import tensorflow as tf\n",
    "import matplotlib.pyplot as plt\n",
    "\n",
    "tf.keras.backend.set_floatx('float32')\n",
    "\n",
    "tf.__version__"
   ]
  },
  {
   "cell_type": "code",
   "execution_count": 2,
   "metadata": {},
   "outputs": [
    {
     "data": {
      "text/plain": [
       "((70000, 28, 28), (70000,))"
      ]
     },
     "execution_count": 2,
     "metadata": {},
     "output_type": "execute_result"
    }
   ],
   "source": [
    "train, test = tf.keras.datasets.mnist.load_data()\n",
    "X, y = np.concatenate([train[0], test[0]]), np.concatenate([train[1], test[1]])\n",
    "X = X / 255.0\n",
    "X.shape, y.shape"
   ]
  },
  {
   "cell_type": "code",
   "execution_count": 3,
   "metadata": {},
   "outputs": [
    {
     "data": {
      "text/plain": [
       "8"
      ]
     },
     "execution_count": 3,
     "metadata": {},
     "output_type": "execute_result"
    },
    {
     "data": {
      "image/png": "[encoded data removed]",
      "text/plain": [
       "<Figure size 432x288 with 1 Axes>"
      ]
     },
     "metadata": {
      "needs_background": "light"
     },
     "output_type": "display_data"
    }
   ],
   "source": [
    "idx = 69420\n",
    "plt.imshow(X[idx])\n",
    "y[idx]"
   ]
  },
  {
   "cell_type": "code",
   "execution_count": 4,
   "metadata": {},
   "outputs": [],
   "source": [
    "def block(f, type='conv', ks=2, s=1, a='relu', bn=True):\n",
    "    assert type in ['conv', 'deconv']\n",
    "    layer = tf.keras.layers.Conv2D if type == 'conv' else \\\n",
    "            tf.keras.layers.Conv2DTranspose\n",
    "    c = layer(f, (ks, ks), strides=(s, s), activation=a)\n",
    "    bnorm = tf.keras.layers.BatchNormalization()\n",
    "    return lambda x: bnorm(c(x)) if bn else c(x)"
   ]
  },
  {
   "cell_type": "code",
   "execution_count": 5,
   "metadata": {},
   "outputs": [],
   "source": [
    "def project(units, a='relu'):\n",
    "    f = tf.keras.layers.Flatten()\n",
    "    d = tf.keras.layers.Dense(units, activation=a)\n",
    "    return lambda x: d(f(x))"
   ]
  },
  {
   "cell_type": "code",
   "execution_count": 6,
   "metadata": {},
   "outputs": [],
   "source": [
    "def reshape(shape):\n",
    "    d = tf.keras.layers.Dense(np.prod(shape))\n",
    "    r = tf.keras.layers.Reshape(shape)\n",
    "    return lambda x: r(d(x))"
   ]
  },
  {
   "cell_type": "code",
   "execution_count": 179,
   "metadata": {},
   "outputs": [],
   "source": [
    "def encode(latent_size=32):\n",
    "    i = tf.keras.Input((28, 28))\n",
    "    x = i\n",
    "    x = tf.keras.layers.Reshape((28, 28, 1))(x)\n",
    "    x = block(128, type='conv', ks=2, s=1, a='relu')(x)\n",
    "    x = block(64 , type='conv', ks=2, s=1, a='relu')(x)\n",
    "    x = block(32 , type='conv', ks=2, s=2, a='relu')(x)\n",
    "    x = block(16 , type='conv', ks=2, s=2, a='relu')(x)\n",
    "    x = block(8  , type='conv', ks=2, s=2, a='relu')(x)\n",
    "    x = project(latent_size, a='tanh')(x)\n",
    "    m = tf.keras.Model(i, x, name='encoder')\n",
    "    return lambda x: m(x)"
   ]
  },
  {
   "cell_type": "code",
   "execution_count": 180,
   "metadata": {},
   "outputs": [],
   "source": [
    "def decode(latent_size=32):\n",
    "    i = tf.keras.Input((latent_size,))\n",
    "    x = i\n",
    "    x = reshape((6, 6, 1))(x)\n",
    "    x = block(8  , type='deconv', ks=2, s=2, a='relu')(x)\n",
    "    x = block(16 , type='deconv', ks=2, s=2, a='relu')(x)\n",
    "    x = block(32 , type='deconv', ks=2, s=1, a='relu')(x)\n",
    "    x = block(64 , type='deconv', ks=2, s=1, a='relu')(x)\n",
    "    x = block(128, type='deconv', ks=2, s=1, a='relu')(x)\n",
    "    x = block(64 , type='deconv', ks=2, s=1, a='relu')(x)\n",
    "    x = block(1  , type='deconv', ks=1, s=1, a='sigmoid', bn=False)(x)\n",
    "    x = tf.keras.layers.Reshape((28, 28))(x)\n",
    "    m = tf.keras.Model(i, x, name='decoder')\n",
    "    return lambda x: m(x)"
   ]
  },
  {
   "cell_type": "code",
   "execution_count": 60,
   "metadata": {},
   "outputs": [],
   "source": [
    "class AE:\n",
    "    def __init__(self):\n",
    "        self.e = encode()\n",
    "        self.d = decode()\n",
    "\n",
    "        i = tf.keras.Input((28, 28), name='input')\n",
    "        x = i\n",
    "        x = self.e(x)\n",
    "        x = self.d(x)\n",
    "\n",
    "        self.net = tf.keras.Model(i, x, name='AE')\n",
    "        self.net.compile(\n",
    "            optimizer=tf.optimizers.Adam(learning_rate=0.01),\n",
    "            loss='binary_crossentropy',\n",
    "            metrics=[],\n",
    "        )\n",
    "\n",
    "    def __call__(self, x):\n",
    "        return self.net(x)"
   ]
  },
  {
   "cell_type": "code",
   "execution_count": 10,
   "metadata": {},
   "outputs": [
    {
     "name": "stdout",
     "output_type": "stream",
     "text": [
      "Model: \"AE\"\n",
      "_________________________________________________________________\n",
      "Layer (type)                 Output Shape              Param #   \n",
      "=================================================================\n",
      "input (InputLayer)           [(None, 28, 28)]          0         \n",
      "_________________________________________________________________\n",
      "encoder (Model)              (None, 32)                47608     \n",
      "_________________________________________________________________\n",
      "decoder (Model)              (None, 28, 28)            79133     \n",
      "=================================================================\n",
      "Total params: 126,741\n",
      "Trainable params: 125,621\n",
      "Non-trainable params: 1,120\n",
      "_________________________________________________________________\n"
     ]
    }
   ],
   "source": [
    "ae = AE()\n",
    "ae.net.summary()"
   ]
  },
  {
   "cell_type": "code",
   "execution_count": 11,
   "metadata": {
    "scrolled": false
   },
   "outputs": [
    {
     "name": "stdout",
     "output_type": "stream",
     "text": [
      "Train on 70000 samples\n",
      "Epoch 1/10\n",
      "70000/70000 [==============================] - 15s 213us/sample - loss: 0.2264\n",
      "Epoch 2/10\n",
      "70000/70000 [==============================] - 15s 209us/sample - loss: 0.1228\n",
      "Epoch 3/10\n",
      "70000/70000 [==============================] - 15s 213us/sample - loss: 0.1116\n",
      "Epoch 4/10\n",
      "70000/70000 [==============================] - 13s 187us/sample - loss: 0.1062\n",
      "Epoch 5/10\n",
      "70000/70000 [==============================] - 13s 187us/sample - loss: 0.1031\n",
      "Epoch 6/10\n",
      "70000/70000 [==============================] - 13s 185us/sample - loss: 0.1008\n",
      "Epoch 7/10\n",
      "70000/70000 [==============================] - 13s 182us/sample - loss: 0.0998\n",
      "Epoch 8/10\n",
      "70000/70000 [==============================] - 13s 183us/sample - loss: 0.0985\n",
      "Epoch 9/10\n",
      "70000/70000 [==============================] - 13s 184us/sample - loss: 0.0969\n",
      "Epoch 10/10\n",
      "70000/70000 [==============================] - 13s 185us/sample - loss: 0.0964\n"
     ]
    },
    {
     "data": {
      "text/plain": [
       "<tensorflow.python.keras.callbacks.History at 0x7efb3c0f7cd0>"
      ]
     },
     "execution_count": 11,
     "metadata": {},
     "output_type": "execute_result"
    }
   ],
   "source": [
    "ae.net.fit(\n",
    "    x=X,\n",
    "    y=X,\n",
    "    batch_size=512,\n",
    "    epochs=5,\n",
    "    workers=8,\n",
    "    use_multiprocessing=True,\n",
    ")"
   ]
  },
  {
   "cell_type": "code",
   "execution_count": 12,
   "metadata": {},
   "outputs": [
    {
     "name": "stdout",
     "output_type": "stream",
     "text": [
      "WARNING:tensorflow:Layer reshape is casting an input tensor from dtype float64 to the layer's dtype of float32, which is new behavior in TensorFlow 2.  The layer has dtype float32 because it's dtype defaults to floatx.\n",
      "\n",
      "If you intended to run this layer in float32, you can safely ignore this warning. If in doubt, this warning is likely only an issue if you are porting a TensorFlow 1.X model to TensorFlow 2.\n",
      "\n",
      "To change all layers to have dtype float64 by default, call `tf.keras.backend.set_floatx('float64')`. To change just this layer, pass dtype='float64' to the layer constructor. If you are the author of this layer, you can disable autocasting by passing autocast=False to the base Layer constructor.\n",
      "\n"
     ]
    },
    {
     "data": {
      "text/plain": [
       "<matplotlib.image.AxesImage at 0x7efbe96a4510>"
      ]
     },
     "execution_count": 12,
     "metadata": {},
     "output_type": "execute_result"
    },
    {
     "data": {
      "image/png": "[encoded data removed]",
      "text/plain": [
       "<Figure size 432x288 with 1 Axes>"
      ]
     },
     "metadata": {
      "needs_background": "light"
     },
     "output_type": "display_data"
    }
   ],
   "source": [
    "x = X[idx][np.newaxis, ...]\n",
    "rx = ae(x)[0]\n",
    "plt.imshow(rx)"
   ]
  },
  {
   "cell_type": "code",
   "execution_count": 183,
   "metadata": {},
   "outputs": [],
   "source": [
    "def sample(bs, latent_size):\n",
    "    def sampler(x):\n",
    "        normal = tf.random.normal((bs, latent_size))\n",
    "        mean, stddev = tf.split(x, [latent_size, latent_size], axis=1)\n",
    "        return normal * stddev + mean\n",
    "\n",
    "    s = tf.keras.layers.Lambda(sampler, name='sampler')\n",
    "    return lambda x: s(x)"
   ]
  },
  {
   "cell_type": "code",
   "execution_count": 238,
   "metadata": {},
   "outputs": [],
   "source": [
    "class ProbabilisticAE:\n",
    "    def __init__(self, bs):\n",
    "        latent_size = 16\n",
    "        self.e = encode(latent_size + latent_size)\n",
    "        self.s = sample(bs, latent_size)\n",
    "        self.d = decode(latent_size)\n",
    "\n",
    "        i = tf.keras.Input((28, 28), name='input')\n",
    "        x = i\n",
    "        x = self.e(x)\n",
    "        x = self.s(x)\n",
    "        x = self.d(x)\n",
    "\n",
    "        self.net = tf.keras.Model(i, x, name='ProbabilisticAE')\n",
    "        self.net.compile(\n",
    "            optimizer=tf.optimizers.Adam(learning_rate=0.01),\n",
    "            loss='binary_crossentropy',\n",
    "            metrics=[],\n",
    "        )\n",
    "\n",
    "    def __call__(self, x):\n",
    "        return self.net(x)"
   ]
  },
  {
   "cell_type": "code",
   "execution_count": 271,
   "metadata": {
    "scrolled": false
   },
   "outputs": [
    {
     "name": "stdout",
     "output_type": "stream",
     "text": [
      "Model: \"ProbabilisticAE\"\n",
      "_________________________________________________________________\n",
      "Layer (type)                 Output Shape              Param #   \n",
      "=================================================================\n",
      "input (InputLayer)           [(None, 28, 28)]          0         \n",
      "_________________________________________________________________\n",
      "encoder (Model)              (None, 32)                47608     \n",
      "_________________________________________________________________\n",
      "sampler (Lambda)             (500, 16)                 0         \n",
      "_________________________________________________________________\n",
      "decoder (Model)              multiple                  78557     \n",
      "=================================================================\n",
      "Total params: 126,165\n",
      "Trainable params: 125,045\n",
      "Non-trainable params: 1,120\n",
      "_________________________________________________________________\n",
      "Train on 70000 samples\n",
      "Epoch 1/5\n",
      "70000/70000 [==============================] - 14s 201us/sample - loss: 0.2755\n",
      "Epoch 2/5\n",
      "70000/70000 [==============================] - 13s 185us/sample - loss: 0.1496\n",
      "Epoch 3/5\n",
      "70000/70000 [==============================] - 13s 187us/sample - loss: 0.1319\n",
      "Epoch 4/5\n",
      "70000/70000 [==============================] - 13s 179us/sample - loss: 0.1247\n",
      "Epoch 5/5\n",
      "70000/70000 [==============================] - 13s 179us/sample - loss: 0.1217\n"
     ]
    },
    {
     "data": {
      "text/plain": [
       "<tensorflow.python.keras.callbacks.History at 0x7ef78d414550>"
      ]
     },
     "execution_count": 271,
     "metadata": {},
     "output_type": "execute_result"
    }
   ],
   "source": [
    "bs = 500\n",
    "pae = ProbabilisticAE(bs=bs)\n",
    "pae.net.summary()\n",
    "\n",
    "pae.net.fit(\n",
    "    x=X,\n",
    "    y=X,\n",
    "    batch_size=bs,\n",
    "    epochs=5,\n",
    ")"
   ]
  },
  {
   "cell_type": "code",
   "execution_count": 275,
   "metadata": {},
   "outputs": [
    {
     "data": {
      "text/plain": [
       "<matplotlib.image.AxesImage at 0x7ef78c3b5710>"
      ]
     },
     "execution_count": 275,
     "metadata": {},
     "output_type": "execute_result"
    },
    {
     "data": {
      "image/png": "[encoded data removed]",
      "text/plain": [
       "<Figure size 432x288 with 1 Axes>"
      ]
     },
     "metadata": {
      "needs_background": "light"
     },
     "output_type": "display_data"
    }
   ],
   "source": [
    "x = X[idx][np.newaxis, ...]\n",
    "rx = pae(x)[0]\n",
    "plt.imshow(rx)"
   ]
  }
 ],
 "metadata": {
  "kernelspec": {
   "display_name": "Python 3",
   "language": "python",
   "name": "python3"
  },
  "language_info": {
   "codemirror_mode": {
    "name": "ipython",
    "version": 3
   },
   "file_extension": ".py",
   "mimetype": "text/x-python",
   "name": "python",
   "nbconvert_exporter": "python",
   "pygments_lexer": "ipython3",
   "version": "3.7.5"
  }
 },
 "nbformat": 4,
 "nbformat_minor": 2
}
